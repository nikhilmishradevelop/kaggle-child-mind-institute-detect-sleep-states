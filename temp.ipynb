{
 "cells": [
  {
   "cell_type": "code",
   "execution_count": 1,
   "metadata": {},
   "outputs": [],
   "source": [
    "import json\n"
   ]
  },
  {
   "cell_type": "code",
   "execution_count": 3,
   "metadata": {},
   "outputs": [],
   "source": [
    "cfg = {\n",
    "    'train_events_path': '../data/train_events.csv',\n",
    "    'train_series_path': '../data/train_series.parquet',\n",
    "    'processed_data_path': '../data_processed_models',\n",
    "    'models_path': '../outputs',\n",
    "}"
   ]
  },
  {
   "cell_type": "code",
   "execution_count": 5,
   "metadata": {},
   "outputs": [],
   "source": [
    "json.dump(cfg, open('settings.json', 'w'), indent=4)"
   ]
  },
  {
   "cell_type": "code",
   "execution_count": 2,
   "metadata": {},
   "outputs": [],
   "source": [
    "class config:\n",
    "    pass"
   ]
  },
  {
   "cell_type": "code",
   "execution_count": 3,
   "metadata": {},
   "outputs": [],
   "source": [
    "setattr(config, 'DATA_DIR', '../data/')\n",
    "setattr(config, 'MODEL_DIR', '../outputs/')"
   ]
  },
  {
   "cell_type": "code",
   "execution_count": 4,
   "metadata": {},
   "outputs": [
    {
     "data": {
      "text/plain": [
       "'../data/'"
      ]
     },
     "execution_count": 4,
     "metadata": {},
     "output_type": "execute_result"
    }
   ],
   "source": [
    "config.DATA_DIR"
   ]
  },
  {
   "cell_type": "code",
   "execution_count": 5,
   "metadata": {},
   "outputs": [],
   "source": [
    "def longest_substring(text):\n",
    "    \n",
    "    if len(text) == 0:\n",
    "        return 0\n",
    "\n",
    "    max_len = 1\n",
    "\n",
    "    for i in range(len(text)):\n",
    "        \n",
    "        for j in range(i+1,len(text)):\n",
    "            temp_dict = {k:0 for k in text[i:j]}\n",
    "            \n",
    "            if len(temp_dict.keys()) > max_len:\n",
    "                max_len = len(temp_dict.keys())\n",
    "                \n",
    "    return max_len\n"
   ]
  },
  {
   "cell_type": "code",
   "execution_count": null,
   "metadata": {},
   "outputs": [],
   "source": [
    "lengthOfLongestSubstring"
   ]
  },
  {
   "cell_type": "code",
   "execution_count": null,
   "metadata": {},
   "outputs": [],
   "source": []
  },
  {
   "cell_type": "code",
   "execution_count": 8,
   "metadata": {},
   "outputs": [
    {
     "data": {
      "text/plain": [
       "2"
      ]
     },
     "execution_count": 8,
     "metadata": {},
     "output_type": "execute_result"
    }
   ],
   "source": [
    "longest_substring('bbbabb')"
   ]
  },
  {
   "cell_type": "code",
   "execution_count": null,
   "metadata": {},
   "outputs": [],
   "source": [
    "You are tasked with detecting a cycle in a linked list. A cycle in a linked list occurs when a node's next pointer points back to a previous node, creating a loop. The goal is to determine whether the linked list contains such a cycle.\n",
    "Given a linked list, you must return true if the list contains a cycle and false otherwise.\n",
    "Example:\n",
    "Input: A linked list where the tail connects to the second node.\n",
    "Output: true (The list contains a cycle)."
   ]
  }
 ],
 "metadata": {
  "kernelspec": {
   "display_name": "Python 3",
   "language": "python",
   "name": "python3"
  },
  "language_info": {
   "codemirror_mode": {
    "name": "ipython",
    "version": 3
   },
   "file_extension": ".py",
   "mimetype": "text/x-python",
   "name": "python",
   "nbconvert_exporter": "python",
   "pygments_lexer": "ipython3",
   "version": "3.8.10"
  }
 },
 "nbformat": 4,
 "nbformat_minor": 2
}
