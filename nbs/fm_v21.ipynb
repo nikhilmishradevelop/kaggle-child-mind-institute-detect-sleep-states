{
 "cells": [
  {
   "cell_type": "code",
   "execution_count": 1,
   "id": "b3b4ed3c",
   "metadata": {},
   "outputs": [],
   "source": [
    "# The line `# !pip install --upgrade -q numpy numba polars lightgbm tensorflow-addons` is a command that installs or upgrades several Python packages.\n",
    "# !pip install --upgrade -q numpy numba polars lightgbm tensorflow-addons"
   ]
  },
  {
   "cell_type": "code",
   "execution_count": 2,
   "id": "33b94e6b",
   "metadata": {},
   "outputs": [
    {
     "name": "stderr",
     "output_type": "stream",
     "text": [
      "2023-12-14 16:49:30.818246: I tensorflow/core/platform/cpu_feature_guard.cc:194] This TensorFlow binary is optimized with oneAPI Deep Neural Network Library (oneDNN) to use the following CPU instructions in performance-critical operations:  SSE3 SSE4.1 SSE4.2 AVX\n",
      "To enable them in other operations, rebuild TensorFlow with the appropriate compiler flags.\n",
      "/usr/local/lib/python3.8/dist-packages/tensorflow_addons/utils/tfa_eol_msg.py:23: UserWarning: \n",
      "\n",
      "TensorFlow Addons (TFA) has ended development and introduction of new features.\n",
      "TFA has entered a minimal maintenance and release mode until a planned end of life in May 2024.\n",
      "Please modify downstream libraries to take dependencies from other repositories in our TensorFlow community (e.g. Keras, Keras-CV, and Keras-NLP). \n",
      "\n",
      "For more information see: https://github.com/tensorflow/addons/issues/2807 \n",
      "\n",
      "  warnings.warn(\n",
      "/usr/local/lib/python3.8/dist-packages/tensorflow_addons/utils/ensure_tf_install.py:53: UserWarning: Tensorflow Addons supports using Python ops for all Tensorflow versions above or equal to 2.11.0 and strictly below 2.14.0 (nightly versions are not supported). \n",
      " The versions of TensorFlow you are currently using is 2.10.0 and is not supported. \n",
      "Some things might work, some things might not.\n",
      "If you were to encounter a bug, do not file an issue.\n",
      "If you want to make sure you're using a tested and supported configuration, either change the TensorFlow version or the TensorFlow Addons's version. \n",
      "You can find the compatibility matrix in TensorFlow Addon's readme:\n",
      "https://github.com/tensorflow/addons\n",
      "  warnings.warn(\n"
     ]
    },
    {
     "data": {
      "text/plain": [
       "<module 'src.metric_fast' from '/home/sleep-kaggle/kaggle_final_solution/../src/metric_fast.py'>"
      ]
     },
     "execution_count": 2,
     "metadata": {},
     "output_type": "execute_result"
    }
   ],
   "source": [
    "import pandas as pd\n",
    "import polars as pl\n",
    "import numpy as np\n",
    "from tqdm import tqdm\n",
    "import gc\n",
    "import json\n",
    "import tensorflow as tf\n",
    "import tensorflow_addons as tfa\n",
    "import matplotlib.pyplot as plt\n",
    "from sklearn.model_selection import KFold\n",
    "import gc\n",
    "import os\n",
    "import sys\n",
    "sys.path.append('..')\n",
    "\n",
    "from src import metric_fast\n",
    "import joblib\n",
    "import time\n",
    "import importlib\n",
    "importlib.reload(metric_fast)"
   ]
  },
  {
   "cell_type": "code",
   "execution_count": 4,
   "metadata": {},
   "outputs": [],
   "source": [
    "class cfg:\n",
    "    samp_freq=1\n",
    "    gaussian_overlay_len = 60\n",
    "    std_dev_num = 2400\n",
    "    ver='fm-v21-final'"
   ]
  },
  {
   "cell_type": "code",
   "execution_count": null,
   "id": "df6d7e1d",
   "metadata": {},
   "outputs": [],
   "source": [
    "settings_json = json.load(open('../settings.json', 'r'))\n",
    "print(settings_json)\n",
    "\n",
    "for k,v in settings_json.items():\n",
    "    setattr(cfg, k, v)\n",
    "    \n",
    "print(cfg.__dict__)"
   ]
  },
  {
   "cell_type": "code",
   "execution_count": null,
   "id": "e2384741",
   "metadata": {},
   "outputs": [],
   "source": [
    "%%time\n",
    "train_events = pl.read_ipc(os.path.join(cfg.processed_data_path, 'train_events.ipc'))"
   ]
  },
  {
   "cell_type": "code",
   "execution_count": 5,
   "metadata": {},
   "outputs": [],
   "source": [
    "splits_df = train_events[['series_id']].unique(maintain_order=True)\n",
    "splits_df = splits_df.to_pandas()\n",
    "\n",
    "for n_splits in [5, 7, 10]:\n",
    "    folds = KFold(n_splits, shuffle=True, random_state=258)\n",
    "\n",
    "    splits_df[f'{n_splits}_fold'] = 0\n",
    "    for i, (trn_idx, val_idx) in enumerate(folds.split(splits_df['series_id'], splits_df['series_id'])):\n",
    "        \n",
    "        splits_df.loc[val_idx, f'{n_splits}_fold'] = i+1\n",
    "                                       \n",
    "    \n",
    "splits_df = pl.DataFrame(splits_df)             "
   ]
  },
  {
   "cell_type": "code",
   "execution_count": 6,
   "id": "85190e26",
   "metadata": {},
   "outputs": [],
   "source": [
    "def load_data(directory):\n",
    "    X_s = []\n",
    "    y_s = []\n",
    "    series_ids = []\n",
    "\n",
    "    for filename in tqdm(os.listdir(directory)):\n",
    "        if filename.endswith('_X.npy'):\n",
    "            series_id = filename.split('_X.npy')[0]\n",
    "            X = np.load(os.path.join(directory, filename))\n",
    "            y = np.load(os.path.join(directory, f'{series_id}_y.npy'))\n",
    "\n",
    "            X_s.append(X)\n",
    "            y_s.append(y)\n",
    "            series_ids.append(series_id)\n",
    "\n",
    "    return X_s, y_s, series_ids"
   ]
  },
  {
   "cell_type": "code",
   "execution_count": 7,
   "id": "a0ad2da0",
   "metadata": {},
   "outputs": [],
   "source": [
    "def normalize_y(y):\n",
    "    \n",
    "    for i in range(y.shape[1]):\n",
    "        \n",
    "        mean = y[:,i].mean()\n",
    "        std = y[:,i].std()\n",
    "        y[:,i] = (y[:,i]-mean)/(std+1e-16)\n",
    "    \n",
    "    return y"
   ]
  },
  {
   "cell_type": "code",
   "execution_count": 8,
   "id": "2d507fb1",
   "metadata": {},
   "outputs": [],
   "source": [
    "_ = gc.collect()"
   ]
  },
  {
   "cell_type": "code",
   "execution_count": 9,
   "id": "9c515709",
   "metadata": {},
   "outputs": [],
   "source": [
    "def split_and_pad(X, y=None, split_length=1440, stride=1440):\n",
    "    \"\"\"\n",
    "    Splits and pads the arrays X and y using a sliding window.\n",
    "\n",
    "    Parameters:\n",
    "    - X (np.array): Array with shape (timesteps, features)\n",
    "    - y (np.array): Array with shape (timesteps, 2)\n",
    "    - split_length (int): Desired timestep length for the resulting arrays.\n",
    "    - stride (int): Step size for sliding window.\n",
    "\n",
    "    Returns:\n",
    "    - List of arrays for X and y, each with shape (split_length, features)\n",
    "    \"\"\"\n",
    "    \n",
    "    if y is not None and len(X) != len(y):\n",
    "        raise ValueError(\"X and y should have the same number of timesteps.\")\n",
    "    \n",
    "    timesteps, features = X.shape\n",
    "    \n",
    "    # Create empty lists to store split segments\n",
    "    X_splits = []\n",
    "    y_splits = []\n",
    "    starts = []\n",
    "    \n",
    "    # Use sliding window to extract segments\n",
    "    \n",
    "    for start in range(0, timesteps, stride):\n",
    "        end = start + split_length\n",
    "        if end <= timesteps:\n",
    "            starts.append(start)\n",
    "            X_splits.append(X[start:end].copy())\n",
    "            if y is not None:\n",
    "                y_splits.append(y[start:end].copy())\n",
    "        else:\n",
    "            # If the segment is shorter than split_length, pad it\n",
    "            starts.append(start)\n",
    "            padding_length = end - timesteps\n",
    "            X_segment_padded = np.pad(X[start:], ((0, padding_length), (0, 0)), mode='constant', constant_values=-9)\n",
    "            X_splits.append(X_segment_padded)\n",
    "            \n",
    "            if y is not None:\n",
    "                y_segment_padded = np.pad(y[start:], ((0, padding_length), (0, 0)), mode='constant', constant_values=0)\n",
    "                y_splits.append(y_segment_padded)\n",
    "                \n",
    "            break\n",
    "            \n",
    "            \n",
    "    if y is not None:\n",
    "        return X_splits, y_splits, starts\n",
    "    \n",
    "    return X_splits, starts\n",
    "\n",
    "\n",
    "\n",
    "class SleepDataset:\n",
    "    \n",
    "    def __init__(self, X_s, y_s=None, series_ids=None, samp_freq=None, remove_no_dets=True, is_train=False, split_factor=1, norm_params=None):\n",
    "        \n",
    "        self.split_len = (24*60*12) // cfg.samp_freq\n",
    "        self.split_strides = self.split_len\n",
    "        self.remove_no_dets = remove_no_dets\n",
    "        self.is_train = is_train\n",
    "\n",
    "        print(f'Using a split len of {self.split_len}')\n",
    "        self.create_dataset(X_s, y_s, series_ids)\n",
    "\n",
    "        if self.is_train:\n",
    "            self.norm_params = self.calculate_norm_params()\n",
    "        else:\n",
    "            if norm_params is None:\n",
    "                raise ValueError(\"Normalization parameters must be provided for non-training data.\")\n",
    "            self.norm_params = norm_params\n",
    "\n",
    "        self.normalize_data()\n",
    "\n",
    "    def calculate_norm_params(self):\n",
    "        mean = np.mean(self.X, axis=(0, 1))\n",
    "        std = np.std(self.X, axis=(0, 1))\n",
    "        return {'mean': mean, 'std': std}\n",
    "\n",
    "    def normalize_data(self):\n",
    "        self.X = (self.X - self.norm_params['mean']) / (1e-6 + self.norm_params['std'])\n",
    "        \n",
    "        \n",
    "    def create_dataset(self, X_s, y_s=None, series_ids=None):\n",
    "        X_s_splits, y_s_splits, series_splits, starts_splits = [], [], [], []\n",
    "\n",
    "        for i in tqdm(range(len(X_s))):\n",
    "            x_splits, starts = split_and_pad(X_s[i].copy(), split_length = self.split_len, stride=self.split_strides)\n",
    "            X_s_splits.extend(x_splits)\n",
    "            starts_splits.extend(starts)\n",
    "\n",
    "            if y_s is not None:\n",
    "                _, y_splits, _ = split_and_pad(X_s[i].copy(), y_s[i].copy(), split_length=self.split_len, stride=self.split_strides)\n",
    "                y_s_splits.extend(y_splits)\n",
    "\n",
    "            if series_ids is not None:\n",
    "                series_splits.extend([series_ids[i] for _ in range(len(x_splits))])\n",
    "            \n",
    "        self.X = np.array(X_s_splits)\n",
    "        self.starts_splits = np.array(starts_splits)\n",
    "        \n",
    "        if y_s is not None:\n",
    "            self.y = np.array(y_s_splits)\n",
    "\n",
    "            if self.remove_no_dets:\n",
    "                fltr = (self.y[:, :, 1].sum(axis=1) + self.y[:, :, 0].sum(axis=1)) != 0\n",
    "                self.X = self.X[fltr]\n",
    "                self.y = self.y[fltr]\n",
    "                if series_ids is not None:\n",
    "                    self.series_ids = np.array(series_splits)[fltr]\n",
    "                else:\n",
    "                    self.series_ids = None\n",
    "            \n",
    "            self.y = np.array([normalize_y(yts) for yts in self.y])\n",
    "\n",
    "        else:\n",
    "            self.y = None\n",
    "\n",
    "        if series_ids is not None:\n",
    "            if not hasattr(self, 'series_ids'):\n",
    "                self.series_ids = np.array(series_splits)\n",
    "            print(f'X: {self.X.shape}, y: {self.y.shape if self.y is not None else \"Not provided\"}, series_ids: {self.series_ids.shape}')\n",
    "        else:\n",
    "            print(f'X: {self.X.shape}, y: {self.y.shape if self.y is not None else \"Not provided\"}')"
   ]
  },
  {
   "cell_type": "code",
   "execution_count": 10,
   "id": "20edbd34",
   "metadata": {},
   "outputs": [],
   "source": [
    "def nms_nikhil(preds_orig, k_orig=125, max_thresh=0.05, max_count=1000):\n",
    "    \n",
    "    preds=preds_orig.copy()\n",
    "\n",
    "    count = 0\n",
    "    base=6.75\n",
    "    \n",
    "    k = k_orig\n",
    "    prev_max = None\n",
    "\n",
    "    scores = []\n",
    "    indices = []\n",
    "    \n",
    "    while True:\n",
    "            \n",
    "        curr_max_idx = np.argmax(preds)\n",
    "        curr_max = preds[curr_max_idx] \n",
    "        \n",
    "        if (curr_max < max_thresh) or count > max_count:\n",
    "            break\n",
    "        \n",
    "        indices.append(curr_max_idx)\n",
    "        scores.append(curr_max)\n",
    "        \n",
    "        preds[curr_max_idx] = 0\n",
    "        \n",
    "        supress_rates = np.logspace(start=0, stop=1, num=k, base=base)/base\n",
    "\n",
    "        preds[max(curr_max_idx-k, 0):curr_max_idx] *= supress_rates[:min(k, curr_max_idx-0)][::-1]\n",
    "        preds[curr_max_idx+1:min(curr_max_idx+k+1, preds.shape[0])] *= supress_rates[:min(k, preds.shape[0]-curr_max_idx-1)]\n",
    "\n",
    "        prev_max = curr_max\n",
    "        \n",
    "        count += 1\n",
    "        \n",
    "    return indices, scores\n",
    "\n",
    "def get_actual_preds(val_preds, val_series_ids, val_steps, type_):\n",
    "    times = []\n",
    "    series_ids = []\n",
    "    scores = []\n",
    "    scores_y = []\n",
    "    \n",
    "    for i in np.arange(len(val_preds)):\n",
    "        \n",
    "        vp_i = val_preds[i]\n",
    "        ser_id = val_series_ids[i]\n",
    "        \n",
    "        col_index = 0 if type_ == \"onset\" else 1\n",
    "        other_col_index = 1 if type_ == \"onset\" else 0\n",
    "        \n",
    "        preds = vp_i[:, col_index]\n",
    "        preds_other = vp_i[:, other_col_index]\n",
    "\n",
    "        height_thresh = 0.05\n",
    "        \n",
    "        peaks, peak_scores = nms_nikhil(preds)\n",
    "\n",
    "        times.extend(val_steps[i][peaks])\n",
    "        scores.extend(list(peak_scores))\n",
    "        series_ids.extend([ser_id] * len(peaks))\n",
    "\n",
    "    return np.array(series_ids), np.array(times), np.array(scores)\n",
    "\n",
    "\n",
    "def post_process_preds(val_events_df, val_preds, val_series_ids, val_starts_splits, samp_freq, get_score=False):\n",
    "    \n",
    "#     val_steps = np.concatenate([val_starts_splits[idx] + np.arange(len(val_preds[idx])) for idx in range(val_preds.shape[0])])\n",
    "\n",
    "    val_res = []\n",
    "    \n",
    "    prev_ser_id = None\n",
    "    \n",
    "    res_steps = []\n",
    "    res_preds = []\n",
    "    res_series_ids = []\n",
    "    \n",
    "    start = 0\n",
    "    while start < len(val_preds):\n",
    "        \n",
    "        end = start+1\n",
    "        while end < len(val_preds) and val_series_ids[end] == val_series_ids[start]:\n",
    "            end += 1\n",
    "            \n",
    "        preds = val_preds[start:end]\n",
    "        \n",
    "        steps = np.concatenate([val_starts_splits[idx] + np.arange(len(val_preds[idx])) for idx in range(start, end)])\n",
    "        preds = preds.reshape((preds.shape[0]*preds.shape[1]), 2)\n",
    "        \n",
    "        res_preds.append(preds)\n",
    "        res_steps.append(steps)\n",
    "        res_series_ids.append(val_series_ids[start])\n",
    "        \n",
    "        start=end\n",
    "        \n",
    "        \n",
    "#     print(len(res_series_ids), len(res_steps), len(res_preds))\n",
    "\n",
    "    series_ids_onsets, onsets,  scores_onsets = get_actual_preds(res_preds, res_series_ids, res_steps, 'onset')\n",
    "    series_ids_wakeups, wakeups,  scores_wakeups =get_actual_preds(res_preds, res_series_ids, res_steps, 'wakeup')\n",
    "    \n",
    "    \n",
    "    onset_preds = pl.DataFrame().with_columns([pl.Series(series_ids_onsets).alias('series_id'),\n",
    "                                           pl.Series(onsets).cast(pl.Int64).alias('step'),\n",
    "                                           pl.lit('onset').alias('event'),\n",
    "                                           pl.Series(scores_onsets).alias('score')])\n",
    "\n",
    "    wakeup_preds = pl.DataFrame().with_columns([pl.Series(series_ids_wakeups).alias('series_id'),\n",
    "                                               pl.Series(wakeups).cast(pl.Int64).cast(pl.Int64).alias('step'),\n",
    "                                               pl.lit('wakeup').alias('event'),\n",
    "                                               pl.Series(scores_wakeups).alias('score')])\n",
    "    \n",
    "    val_preds_df = pl.concat([onset_preds, wakeup_preds]).sort(by=['series_id', 'step'])\n",
    "    \n",
    "    if get_score:\n",
    "        toleranaces = {'onset': [12, 36, 60, 90, 120, 150, 180, 240, 300, 360],'wakeup': [12, 36, 60, 90, 120, 150, 180, 240, 300, 360]}\n",
    "        comp_score = metric_fast.comp_scorer(\n",
    "        val_events_df,\n",
    "        val_preds_df,\n",
    "        tolerances = toleranaces,\n",
    "        )\n",
    "        return comp_score\n",
    "    \n",
    "    else:\n",
    "        return val_preds_df"
   ]
  },
  {
   "cell_type": "code",
   "execution_count": 11,
   "id": "1a630548",
   "metadata": {},
   "outputs": [],
   "source": [
    "def calculate_exponential_lr(start_lr, end_lr, num_steps, decay_rate=None):\n",
    "    \"\"\"\n",
    "    Calculate the exponentially decreasing learning rates.\n",
    "\n",
    "    Parameters:\n",
    "    start_lr (float): Initial learning rate.\n",
    "    end_lr (float): Final learning rate.\n",
    "    num_steps (int): Total number of steps over which the learning rate should decay.\n",
    "    decay_rate (float): Decay rate per step. If None, it will be computed based on start_lr, end_lr, and num_steps.\n",
    "\n",
    "    Returns:\n",
    "    list: A list containing the learning rate for each step.\n",
    "    \"\"\"\n",
    "    if decay_rate is None:\n",
    "        # Calculate decay rate based on the start_lr, end_lr, and num_steps\n",
    "        decay_rate = (end_lr / start_lr) ** (1 / (num_steps - 1))\n",
    "\n",
    "    learning_rates = [start_lr * (decay_rate ** step) for step in range(num_steps)]\n",
    "    return learning_rates\n",
    "\n"
   ]
  },
  {
   "cell_type": "code",
   "execution_count": 12,
   "id": "8cf0fbe2",
   "metadata": {},
   "outputs": [],
   "source": [
    "class IntervalEvaluation(tf.keras.callbacks.Callback):\n",
    "    def __init__(self, val_ds, val_events_df, samp_freq, n_steps, start_lr, end_lr):\n",
    "\n",
    "        super(tf.keras.callbacks.Callback, self).__init__()\n",
    "        self.val_ds = val_ds\n",
    "        self.val_events_df = val_events_df\n",
    "        self.samp_freq = samp_freq\n",
    "        \n",
    "        warmup_pct_steps = 0.25\n",
    "        warmup_steps = int(n_steps * warmup_pct_steps)\n",
    "        self.learning_rates = [start_lr] * (warmup_steps) + calculate_exponential_lr(start_lr, end_lr, n_steps-warmup_steps)\n",
    "        self.best_score = -np.inf\n",
    "        self.best_model = None\n",
    "        self.step_count=0\n",
    "\n",
    "    def on_epoch_begin(self, epoch, logs={}):\n",
    "\n",
    "        self.start_time = time.time()\n",
    "        \n",
    "        if epoch == 0:\n",
    "            self.first_epoch_start_time = self.start_time\n",
    "        \n",
    "    def on_train_batch_begin(self, batch, logs=None):\n",
    "        if self.step_count < len(self.learning_rates):\n",
    "\n",
    "            tf.keras.backend.set_value(self.model.optimizer.lr, self.learning_rates[self.step_count])\n",
    "            self.curr_lr = float(tf.keras.backend.get_value(self.model.optimizer.learning_rate))\n",
    "        self.step_count += 1\n",
    "    \n",
    "    def on_epoch_end(self, epoch, logs={}):\n",
    "\n",
    "        val_preds = self.model.predict(self.val_ds.X, batch_size=8, verbose=0)[:, :, :2]\n",
    "        val_score = post_process_preds(self.val_events_df, val_preds, self.val_ds.series_ids, self.val_ds.starts_splits, self.samp_freq, get_score=True)\n",
    "        \n",
    "        if val_score > self.best_score:\n",
    "            self.best_score = val_score\n",
    "            self.best_model = tf.keras.models.clone_model(self.model)\n",
    "            self.best_model.set_weights(self.model.get_weights()) \n",
    "        \n",
    "        total_time = round(time.time() - self.start_time, 2)\n",
    "        total_seconds_till_now = round(time.time() - self.first_epoch_start_time, 0)\n",
    "        \n",
    "        print(f\"Epoch: {epoch:03d} curr_lr: {self.curr_lr:.1e} - train_loss: {logs['loss']:.04f} - val_loss: {logs['val_loss']:.04f} val_score: {val_score:.03f}  best_val_score: {self.best_score:.03f}  last_epoch t={total_time:.02f}s, total_time_elapsed t={total_seconds_till_now}s\")\n",
    "        "
   ]
  },
  {
   "cell_type": "code",
   "execution_count": 13,
   "id": "aaf8b82a",
   "metadata": {},
   "outputs": [],
   "source": [
    "def transformer_encoder(inputs, head_size, num_heads, ff_dim, dropout=0):\n",
    "\n",
    "    # MultiHead Attention\n",
    "    x = tfa.layers.MultiHeadAttention(\n",
    "        head_size=head_size,\n",
    "        num_heads=num_heads,\n",
    "        use_projection_bias=True,\n",
    "        dropout=dropout\n",
    "    )([inputs, inputs, inputs])\n",
    "\n",
    "    # Residual connection with LayerNormalization and Scaling\n",
    "    x = tf.keras.layers.LayerNormalization(epsilon=1e-6)(x + inputs) * (0.5 ** 0.5)\n",
    "    \n",
    "    # Feed Forward Part\n",
    "    ff = tf.keras.layers.Dense(ff_dim, activation='relu')(x)\n",
    "    # ff = tf.keras.layers.Dropout(dropout)(ff)\n",
    "    ff = tf.keras.layers.Dense(inputs.shape[-1])(ff)\n",
    "    # ff = tf.keras.layers.Dropout(dropout)(ff)\n",
    "    \n",
    "    # Residual connection with LayerNormalization and Scaling for FFN\n",
    "    x = tf.keras.layers.LayerNormalization(epsilon=1e-6)(x + ff) * (0.5 ** 0.5)\n",
    "\n",
    "    return x"
   ]
  },
  {
   "cell_type": "code",
   "execution_count": 14,
   "id": "10d34cfd",
   "metadata": {},
   "outputs": [],
   "source": [
    "def custom_mce_loss(y_true, y_pred):\n",
    "    # Clip the ground truth and predictions to the range (-100, 100)\n",
    "    y_true_clipped = tf.clip_by_value(y_true, -100, 100)\n",
    "    y_pred_clipped = tf.clip_by_value(y_pred, -100, 100)\n",
    "\n",
    "    # Calculate the mean cubed error\n",
    "    loss = tf.reduce_mean(tf.abs(y_true_clipped - y_pred_clipped) ** 3)\n",
    "    return loss"
   ]
  },
  {
   "cell_type": "code",
   "execution_count": 15,
   "metadata": {},
   "outputs": [
    {
     "name": "stderr",
     "output_type": "stream",
     "text": [
      "2023-12-14 16:49:33.451738: I tensorflow/core/platform/cpu_feature_guard.cc:194] This TensorFlow binary is optimized with oneAPI Deep Neural Network Library (oneDNN) to use the following CPU instructions in performance-critical operations:  SSE3 SSE4.1 SSE4.2 AVX\n",
      "To enable them in other operations, rebuild TensorFlow with the appropriate compiler flags.\n",
      "2023-12-14 16:49:33.575273: I tensorflow/core/common_runtime/gpu/gpu_device.cc:1637] Created device /job:localhost/replica:0/task:0/device:GPU:0 with 46413 MB memory:  -> device: 0, name: NVIDIA RTX 6000 Ada Generation, pci bus id: 0000:23:00.0, compute capability: 8.9\n"
     ]
    },
    {
     "name": "stderr",
     "output_type": "stream",
     "text": [
      "/usr/local/lib/python3.8/dist-packages/keras/initializers/initializers_v2.py:120: UserWarning: The initializer GlorotUniform is unseeded and being called multiple times, which will return identical values  each time (even if the initializer is unseeded). Please update your code to provide a seed to the initializer, or avoid using the same initalizer instance more than once.\n",
      "  warnings.warn(\n"
     ]
    },
    {
     "data": {
      "text/plain": [
       "37824268"
      ]
     },
     "execution_count": 15,
     "metadata": {},
     "output_type": "execute_result"
    }
   ],
   "source": [
    "def conv_block(inputs, num_filters):\n",
    "    x = tf.keras.layers.Conv1D(num_filters, 8, padding=\"same\")(inputs)\n",
    "    x = tf.keras.layers.ReLU()(x)\n",
    "    x = tf.keras.layers.Conv1D(num_filters, 8, padding=\"same\")(x)\n",
    "    x = tf.keras.layers.ReLU()(x)\n",
    "\n",
    "    return x\n",
    "\n",
    "def encoder_block(inputs, num_filters):\n",
    "    x = conv_block(inputs, num_filters)\n",
    "    p = tf.keras.layers.MaxPooling1D(pool_size=2)(x)\n",
    "    return x, p\n",
    "\n",
    "def decoder_block(inputs, concat_tensors, num_filters):\n",
    "    x = tf.keras.layers.Conv1DTranspose(num_filters, 4, strides=2, padding=\"same\")(inputs)\n",
    "    i = len(concat_tensors)-1\n",
    "    for concat_tensor in concat_tensors:\n",
    "        concat_tensor_max = tf.keras.layers.MaxPool1D(pool_size=2**i)(concat_tensor)\n",
    "        x = tf.keras.layers.Concatenate()([x, concat_tensor_max])\n",
    "        i -= 1\n",
    "        \n",
    "    x = conv_block(x, num_filters)\n",
    "    return x\n",
    "\n",
    "def get_model(input_shape, num_blocks=4):\n",
    "    inputs = tf.keras.layers.Input(input_shape)\n",
    "    x = inputs\n",
    "    \n",
    "    orig_n_channels = x.shape[-1]\n",
    "    \n",
    "    x_t = []\n",
    "    n_split_fact = 6\n",
    "    \n",
    "    \n",
    "    for i in range(x.shape[-1]):\n",
    "        x_sp = tf.reshape(x[:, :, i], (-1, x.shape[1]//n_split_fact, n_split_fact))\n",
    "        \n",
    "        if i < orig_n_channels:\n",
    "        \n",
    "            # Calculating mean, max, and standard deviation\n",
    "            mean = tf.reduce_mean(x_sp, axis=-1, keepdims=True)\n",
    "            max_val = tf.reduce_max(x_sp, axis=-1, keepdims=True)\n",
    "            std_dev = tf.math.reduce_std(x_sp, axis=-1, keepdims=True)\n",
    "            min_val = tf.reduce_min(x_sp, axis=-1, keepdims=True)\n",
    "\n",
    "            x_sp = tf.keras.layers.Concatenate()([x_sp, mean, max_val, std_dev, min_val])\n",
    "        \n",
    "        x_sp = tf.keras.layers.Dense(n_split_fact*16, activation='relu')(x_sp)\n",
    "        \n",
    "        x_t.append(x_sp)\n",
    "        \n",
    "    \n",
    "    x_c1d = tf.keras.layers.Conv1D(64, kernel_size=12, strides=n_split_fact, padding=\"same\")(x)\n",
    "    x_c1d = tf.keras.layers.ReLU()(x_c1d)\n",
    "\n",
    "    x = tf.keras.layers.Concatenate()(x_t + [x_c1d])# tf.reshape(x, (-1, -1, 3))\n",
    "    \n",
    "    # Initial filter size\n",
    "    fsz = 64\n",
    "    \n",
    "    # Lists to hold the encoder and pooling outputs\n",
    "    encoder_outputs = []\n",
    "    pooling_outputs = []\n",
    "    \n",
    "    # Encoder\n",
    "    for i in range(num_blocks):\n",
    "        if i == 0:\n",
    "            # First block receives the model input\n",
    "            enc_out, pool_out = encoder_block(x, fsz * (2 ** i))\n",
    "        else:\n",
    "            # Subsequent blocks receive the pooling output of the previous block\n",
    "            enc_out, pool_out = encoder_block(pooling_outputs[-1], fsz * (2 ** i))\n",
    "        \n",
    "        if i == 0:\n",
    "            pool_out_copy = pool_out\n",
    "            encoder_out_copy = enc_out\n",
    "            \n",
    "        else:\n",
    "            pool_out_mp = tf.keras.layers.MaxPooling1D(pool_size=2**i)(pool_out_copy)\n",
    "            encoder_out_mp = tf.keras.layers.MaxPooling1D(pool_size=2**i)(encoder_out_copy)\n",
    "            \n",
    "            pool_out = tf.keras.layers.Concatenate()([pool_out, pool_out_mp])\n",
    "            enc_out = tf.keras.layers.Concatenate()([enc_out, encoder_out_mp])\n",
    "        \n",
    "        \n",
    "        encoder_outputs.append(enc_out)\n",
    "        pooling_outputs.append(pool_out)\n",
    "    \n",
    "    # Bottleneck\n",
    "    bottleneck = conv_block(pooling_outputs[-1], fsz * (2 ** num_blocks))\n",
    "    \n",
    "    \n",
    "    def gru_conv(x):\n",
    "        x = tf.keras.layers.Bidirectional(tf.keras.layers.LSTM(x.shape[-1]//4, return_sequences=True))(x)\n",
    "        for i in range(1):\n",
    "            x_conv = tf.keras.layers.Conv1D(x.shape[-1], kernel_size=(4,), padding='same', activation='relu')(x)\n",
    "            x = tf.keras.layers.Dense(x.shape[-1], activation='relu')(x_conv)\n",
    "\n",
    "        return x\n",
    "    \n",
    "    for _ in range(1):\n",
    "        bottleneck = transformer_encoder(bottleneck, head_size=16, num_heads=8, ff_dim=256, dropout=0)\n",
    "\n",
    "    bottleneck = gru_conv(bottleneck)\n",
    "\n",
    "    decoder_input = bottleneck\n",
    "    for i in range(num_blocks - 1, -1, -1):\n",
    "        decoder_output = decoder_block(decoder_input, encoder_outputs[:i+1], fsz * (2 ** i))\n",
    "        decoder_input = decoder_output\n",
    "    \n",
    "    # Output Layer\n",
    "    x = tf.keras.layers.Conv1D(2*n_split_fact, 1, padding=\"same\", activation=\"linear\")(decoder_output)\n",
    "    x = tf.reshape(x, shape=(-1, x.shape[1]*n_split_fact, 2))\n",
    "    \n",
    "    outputs = x\n",
    "    \n",
    "    model = tf.keras.models.Model(inputs, outputs)\n",
    "    model.compile(optimizer=tfa.optimizers.AdamW(weight_decay=1e-4), loss=custom_mce_loss)\n",
    "    \n",
    "    return model\n",
    "\n",
    "# Usage:\n",
    "input_shape = (17280, 32)  # replace with your input shape\n",
    "num_blocks = 4  # specify the number of encoder/decoder blocks\n",
    "model = get_model(input_shape, num_blocks)\n",
    "model.count_params()"
   ]
  },
  {
   "cell_type": "code",
   "execution_count": 16,
   "id": "e61eaf0d",
   "metadata": {},
   "outputs": [
    {
     "data": {
      "text/plain": [
       "TensorShape([None, 17280, 2])"
      ]
     },
     "execution_count": 16,
     "metadata": {},
     "output_type": "execute_result"
    }
   ],
   "source": [
    "model.output.shape"
   ]
  },
  {
   "cell_type": "code",
   "execution_count": 17,
   "id": "be712eff",
   "metadata": {},
   "outputs": [],
   "source": [
    "class model_cfg:\n",
    "    n_epochs = 14\n",
    "    batch_size = 8\n",
    "    start_lr = 6e-5\n",
    "    end_lr = 2e-5"
   ]
  },
  {
   "cell_type": "code",
   "execution_count": 18,
   "metadata": {},
   "outputs": [
    {
     "name": "stderr",
     "output_type": "stream",
     "text": [
      "100%|██████████| 529/529 [00:05<00:00, 91.05it/s] \n"
     ]
    },
    {
     "name": "stdout",
     "output_type": "stream",
     "text": [
      "\n",
      "\n",
      "\n",
      "-----------Starting fold: 1-----------\n",
      "\n",
      "\n",
      "\n",
      "Using 237 series for training and 27 series for validation\n",
      "Using a split len of 17280\n"
     ]
    },
    {
     "name": "stderr",
     "output_type": "stream",
     "text": [
      "100%|██████████| 237/237 [00:14<00:00, 16.39it/s]\n"
     ]
    },
    {
     "name": "stdout",
     "output_type": "stream",
     "text": [
      "X: (6401, 17280, 32), y: (6401, 17280, 2), series_ids: (6401,)\n",
      "Using a split len of 17280\n"
     ]
    },
    {
     "name": "stderr",
     "output_type": "stream",
     "text": [
      "100%|██████████| 27/27 [00:00<00:00, 58.79it/s]\n"
     ]
    },
    {
     "name": "stdout",
     "output_type": "stream",
     "text": [
      "X: (803, 17280, 32), y: (803, 17280, 2), series_ids: (803,)\n",
      "Total model parameters: 37824268\n",
      "Epoch 1/14\n"
     ]
    },
    {
     "name": "stderr",
     "output_type": "stream",
     "text": [
      "2023-12-14 16:50:50.240925: I tensorflow/stream_executor/cuda/cuda_blas.cc:1633] TensorFloat-32 will be used for the matrix multiplication. This will only be logged once.\n",
      "2023-12-14 16:50:50.259969: I tensorflow/stream_executor/cuda/cuda_dnn.cc:424] Loaded cuDNN version 8700\n"
     ]
    },
    {
     "name": "stdout",
     "output_type": "stream",
     "text": [
      "801/801 [==============================] - ETA: 0s - loss: 4.3512Epoch: 000 curr_lr: 6.0e-05 - train_loss: 4.3512 - val_loss: 3.6821 val_score: 0.764  best_val_score: 0.764  last_epoch t=75.64s, total_time_elapsed t=76.0s\n",
      "801/801 [==============================] - 76s 85ms/step - loss: 4.3512 - val_loss: 3.6821\n",
      "Epoch 2/14\n",
      "801/801 [==============================] - ETA: 0s - loss: 3.6384Epoch: 001 curr_lr: 6.0e-05 - train_loss: 3.6384 - val_loss: 3.4252 val_score: 0.795  best_val_score: 0.795  last_epoch t=63.23s, total_time_elapsed t=139.0s\n",
      "801/801 [==============================] - 63s 79ms/step - loss: 3.6384 - val_loss: 3.4252\n",
      "Epoch 3/14\n",
      "800/801 [============================>.] - ETA: 0s - loss: 3.5197Epoch: 002 curr_lr: 6.0e-05 - train_loss: 3.5197 - val_loss: 3.5321 val_score: 0.802  best_val_score: 0.802  last_epoch t=62.70s, total_time_elapsed t=202.0s\n",
      "801/801 [==============================] - 63s 78ms/step - loss: 3.5197 - val_loss: 3.5321\n",
      "Epoch 4/14\n",
      "800/801 [============================>.] - ETA: 0s - loss: 3.4705Epoch: 003 curr_lr: 5.7e-05 - train_loss: 3.4700 - val_loss: 3.4882 val_score: 0.795  best_val_score: 0.802  last_epoch t=61.16s, total_time_elapsed t=263.0s\n",
      "801/801 [==============================] - 61s 76ms/step - loss: 3.4700 - val_loss: 3.4882\n",
      "Epoch 5/14\n",
      "800/801 [============================>.] - ETA: 0s - loss: 3.4024Epoch: 004 curr_lr: 5.1e-05 - train_loss: 3.4023 - val_loss: 3.5790 val_score: 0.800  best_val_score: 0.802  last_epoch t=60.70s, total_time_elapsed t=323.0s\n",
      "801/801 [==============================] - 61s 76ms/step - loss: 3.4023 - val_loss: 3.5790\n",
      "Epoch 6/14\n",
      "800/801 [============================>.] - ETA: 0s - loss: 3.3574Epoch: 005 curr_lr: 4.6e-05 - train_loss: 3.3580 - val_loss: 3.3685 val_score: 0.814  best_val_score: 0.814  last_epoch t=62.45s, total_time_elapsed t=386.0s\n",
      "801/801 [==============================] - 62s 78ms/step - loss: 3.3580 - val_loss: 3.3685\n",
      "Epoch 7/14\n",
      "800/801 [============================>.] - ETA: 0s - loss: 3.3217Epoch: 006 curr_lr: 4.2e-05 - train_loss: 3.3216 - val_loss: 3.3193 val_score: 0.804  best_val_score: 0.814  last_epoch t=61.58s, total_time_elapsed t=447.0s\n",
      "801/801 [==============================] - 62s 77ms/step - loss: 3.3216 - val_loss: 3.3193\n",
      "Epoch 8/14\n",
      "800/801 [============================>.] - ETA: 0s - loss: 3.2932Epoch: 007 curr_lr: 3.7e-05 - train_loss: 3.2927 - val_loss: 3.3188 val_score: 0.803  best_val_score: 0.814  last_epoch t=61.08s, total_time_elapsed t=509.0s\n",
      "801/801 [==============================] - 61s 76ms/step - loss: 3.2927 - val_loss: 3.3188\n",
      "Epoch 9/14\n",
      "801/801 [==============================] - ETA: 0s - loss: 3.2465Epoch: 008 curr_lr: 3.4e-05 - train_loss: 3.2465 - val_loss: 3.3591 val_score: 0.812  best_val_score: 0.814  last_epoch t=59.58s, total_time_elapsed t=568.0s\n",
      "801/801 [==============================] - 60s 74ms/step - loss: 3.2465 - val_loss: 3.3591\n",
      "Epoch 10/14\n",
      "800/801 [============================>.] - ETA: 0s - loss: 3.2421Epoch: 009 curr_lr: 3.0e-05 - train_loss: 3.2426 - val_loss: 3.3666 val_score: 0.801  best_val_score: 0.814  last_epoch t=61.78s, total_time_elapsed t=630.0s\n",
      "801/801 [==============================] - 62s 77ms/step - loss: 3.2426 - val_loss: 3.3666\n",
      "Epoch 11/14\n",
      "800/801 [============================>.] - ETA: 0s - loss: 3.2087Epoch: 010 curr_lr: 2.7e-05 - train_loss: 3.2082 - val_loss: 3.4440 val_score: 0.797  best_val_score: 0.814  last_epoch t=60.31s, total_time_elapsed t=690.0s\n",
      "801/801 [==============================] - 60s 75ms/step - loss: 3.2082 - val_loss: 3.4440\n",
      "Epoch 12/14\n",
      "800/801 [============================>.] - ETA: 0s - loss: 3.2039Epoch: 011 curr_lr: 2.5e-05 - train_loss: 3.2037 - val_loss: 3.3596 val_score: 0.812  best_val_score: 0.814  last_epoch t=61.20s, total_time_elapsed t=751.0s\n",
      "801/801 [==============================] - 61s 76ms/step - loss: 3.2037 - val_loss: 3.3596\n",
      "Epoch 13/14\n",
      "800/801 [============================>.] - ETA: 0s - loss: 3.1711Epoch: 012 curr_lr: 2.2e-05 - train_loss: 3.1715 - val_loss: 3.3496 val_score: 0.810  best_val_score: 0.814  last_epoch t=61.33s, total_time_elapsed t=813.0s\n",
      "801/801 [==============================] - 61s 77ms/step - loss: 3.1715 - val_loss: 3.3496\n",
      "Epoch 14/14\n",
      "800/801 [============================>.] - ETA: 0s - loss: 3.1676Epoch: 013 curr_lr: 2.0e-05 - train_loss: 3.1671 - val_loss: 3.3574 val_score: 0.801  best_val_score: 0.814  last_epoch t=62.72s, total_time_elapsed t=876.0s\n",
      "801/801 [==============================] - 63s 78ms/step - loss: 3.1671 - val_loss: 3.3574\n",
      "Model finished with val loss: 3.35744047164917\n",
      "26/26 [==============================] - 4s 61ms/step\n",
      "Val Score: 0.8139644832948383\n",
      "WARNING:tensorflow:Compiled the loaded model, but the compiled metrics have yet to be built. `model.compile_metrics` will be empty until you train or evaluate the model.\n"
     ]
    },
    {
     "name": "stderr",
     "output_type": "stream",
     "text": [
      "100%|██████████| 529/529 [00:05<00:00, 97.51it/s] \n"
     ]
    },
    {
     "name": "stdout",
     "output_type": "stream",
     "text": [
      "\n",
      "\n",
      "\n",
      "-----------Starting fold: 2-----------\n",
      "\n",
      "\n",
      "\n",
      "Using 237 series for training and 27 series for validation\n",
      "Using a split len of 17280\n"
     ]
    },
    {
     "name": "stderr",
     "output_type": "stream",
     "text": [
      "100%|██████████| 237/237 [00:13<00:00, 18.02it/s]\n"
     ]
    },
    {
     "name": "stdout",
     "output_type": "stream",
     "text": [
      "X: (6499, 17280, 32), y: (6499, 17280, 2), series_ids: (6499,)\n",
      "Using a split len of 17280\n"
     ]
    },
    {
     "name": "stderr",
     "output_type": "stream",
     "text": [
      "100%|██████████| 27/27 [00:00<00:00, 27.33it/s]\n"
     ]
    },
    {
     "name": "stdout",
     "output_type": "stream",
     "text": [
      "X: (705, 17280, 32), y: (705, 17280, 2), series_ids: (705,)\n",
      "Total model parameters: 37824268\n",
      "Epoch 1/14\n",
      "813/813 [==============================] - ETA: 0s - loss: 4.3184Epoch: 000 curr_lr: 6.0e-05 - train_loss: 4.3184 - val_loss: 3.5623 val_score: 0.847  best_val_score: 0.847  last_epoch t=73.61s, total_time_elapsed t=74.0s\n",
      "813/813 [==============================] - 74s 82ms/step - loss: 4.3184 - val_loss: 3.5623\n",
      "Epoch 2/14\n",
      "812/813 [============================>.] - ETA: 0s - loss: 3.6516Epoch: 001 curr_lr: 6.0e-05 - train_loss: 3.6526 - val_loss: 3.2892 val_score: 0.866  best_val_score: 0.866  last_epoch t=60.86s, total_time_elapsed t=134.0s\n",
      "813/813 [==============================] - 61s 75ms/step - loss: 3.6526 - val_loss: 3.2892\n",
      "Epoch 3/14\n",
      "813/813 [==============================] - ETA: 0s - loss: 3.5231Epoch: 002 curr_lr: 6.0e-05 - train_loss: 3.5231 - val_loss: 3.1946 val_score: 0.879  best_val_score: 0.879  last_epoch t=61.12s, total_time_elapsed t=196.0s\n",
      "813/813 [==============================] - 61s 75ms/step - loss: 3.5231 - val_loss: 3.1946\n",
      "Epoch 4/14\n",
      "813/813 [==============================] - ETA: 0s - loss: 3.4722Epoch: 003 curr_lr: 5.7e-05 - train_loss: 3.4722 - val_loss: 3.1808 val_score: 0.886  best_val_score: 0.886  last_epoch t=60.15s, total_time_elapsed t=256.0s\n",
      "813/813 [==============================] - 60s 74ms/step - loss: 3.4722 - val_loss: 3.1808\n",
      "Epoch 5/14\n",
      "812/813 [============================>.] - ETA: 0s - loss: 3.4004Epoch: 004 curr_lr: 5.1e-05 - train_loss: 3.4008 - val_loss: 3.1732 val_score: 0.879  best_val_score: 0.886  last_epoch t=59.65s, total_time_elapsed t=315.0s\n",
      "813/813 [==============================] - 60s 73ms/step - loss: 3.4008 - val_loss: 3.1732\n",
      "Epoch 6/14\n",
      "812/813 [============================>.] - ETA: 0s - loss: 3.3708Epoch: 005 curr_lr: 4.6e-05 - train_loss: 3.3710 - val_loss: 3.1631 val_score: 0.878  best_val_score: 0.886  last_epoch t=60.15s, total_time_elapsed t=376.0s\n",
      "813/813 [==============================] - 60s 74ms/step - loss: 3.3710 - val_loss: 3.1631\n",
      "Epoch 7/14\n",
      "813/813 [==============================] - ETA: 0s - loss: 3.3430Epoch: 006 curr_lr: 4.2e-05 - train_loss: 3.3430 - val_loss: 3.0807 val_score: 0.885  best_val_score: 0.886  last_epoch t=60.28s, total_time_elapsed t=436.0s\n",
      "813/813 [==============================] - 60s 74ms/step - loss: 3.3430 - val_loss: 3.0807\n",
      "Epoch 8/14\n",
      "812/813 [============================>.] - ETA: 0s - loss: 3.3088Epoch: 007 curr_lr: 3.7e-05 - train_loss: 3.3080 - val_loss: 3.1860 val_score: 0.888  best_val_score: 0.888  last_epoch t=63.36s, total_time_elapsed t=499.0s\n",
      "813/813 [==============================] - 63s 78ms/step - loss: 3.3080 - val_loss: 3.1860\n",
      "Epoch 9/14\n",
      "813/813 [==============================] - ETA: 0s - loss: 3.2904Epoch: 008 curr_lr: 3.4e-05 - train_loss: 3.2904 - val_loss: 3.1797 val_score: 0.887  best_val_score: 0.888  last_epoch t=58.75s, total_time_elapsed t=558.0s\n",
      "813/813 [==============================] - 59s 72ms/step - loss: 3.2904 - val_loss: 3.1797\n",
      "Epoch 10/14\n",
      "813/813 [==============================] - ETA: 0s - loss: 3.2636Epoch: 009 curr_lr: 3.0e-05 - train_loss: 3.2636 - val_loss: 3.1292 val_score: 0.883  best_val_score: 0.888  last_epoch t=60.72s, total_time_elapsed t=619.0s\n",
      "813/813 [==============================] - 61s 75ms/step - loss: 3.2636 - val_loss: 3.1292\n",
      "Epoch 11/14\n",
      "813/813 [==============================] - ETA: 0s - loss: 3.2340Epoch: 010 curr_lr: 2.7e-05 - train_loss: 3.2340 - val_loss: 3.0320 val_score: 0.890  best_val_score: 0.890  last_epoch t=63.15s, total_time_elapsed t=682.0s\n",
      "813/813 [==============================] - 63s 78ms/step - loss: 3.2340 - val_loss: 3.0320\n",
      "Epoch 12/14\n",
      "813/813 [==============================] - ETA: 0s - loss: 3.2200Epoch: 011 curr_lr: 2.5e-05 - train_loss: 3.2200 - val_loss: 3.0892 val_score: 0.889  best_val_score: 0.890  last_epoch t=59.37s, total_time_elapsed t=741.0s\n",
      "813/813 [==============================] - 59s 73ms/step - loss: 3.2200 - val_loss: 3.0892\n",
      "Epoch 13/14\n",
      "813/813 [==============================] - ETA: 0s - loss: 3.2138Epoch: 012 curr_lr: 2.2e-05 - train_loss: 3.2138 - val_loss: 3.0645 val_score: 0.890  best_val_score: 0.890  last_epoch t=60.65s, total_time_elapsed t=802.0s\n",
      "813/813 [==============================] - 61s 75ms/step - loss: 3.2138 - val_loss: 3.0645\n",
      "Epoch 14/14\n",
      "813/813 [==============================] - ETA: 0s - loss: 3.1753Epoch: 013 curr_lr: 2.0e-05 - train_loss: 3.1753 - val_loss: 3.0731 val_score: 0.889  best_val_score: 0.890  last_epoch t=60.35s, total_time_elapsed t=862.0s\n",
      "813/813 [==============================] - 60s 74ms/step - loss: 3.1753 - val_loss: 3.0731\n",
      "Model finished with val loss: 3.073077440261841\n",
      "23/23 [==============================] - 3s 55ms/step\n",
      "Val Score: 0.8898965718517323\n",
      "WARNING:tensorflow:Compiled the loaded model, but the compiled metrics have yet to be built. `model.compile_metrics` will be empty until you train or evaluate the model.\n"
     ]
    },
    {
     "name": "stderr",
     "output_type": "stream",
     "text": [
      "100%|██████████| 529/529 [00:05<00:00, 92.35it/s] \n"
     ]
    },
    {
     "name": "stdout",
     "output_type": "stream",
     "text": [
      "\n",
      "\n",
      "\n",
      "-----------Starting fold: 3-----------\n",
      "\n",
      "\n",
      "\n",
      "Using 237 series for training and 27 series for validation\n",
      "Using a split len of 17280\n"
     ]
    },
    {
     "name": "stderr",
     "output_type": "stream",
     "text": [
      "100%|██████████| 237/237 [00:10<00:00, 22.78it/s]\n"
     ]
    },
    {
     "name": "stdout",
     "output_type": "stream",
     "text": [
      "X: (6391, 17280, 32), y: (6391, 17280, 2), series_ids: (6391,)\n",
      "Using a split len of 17280\n"
     ]
    },
    {
     "name": "stderr",
     "output_type": "stream",
     "text": [
      "100%|██████████| 27/27 [00:01<00:00, 20.55it/s]\n"
     ]
    },
    {
     "name": "stdout",
     "output_type": "stream",
     "text": [
      "X: (813, 17280, 32), y: (813, 17280, 2), series_ids: (813,)\n",
      "Total model parameters: 37824268\n",
      "Epoch 1/14\n",
      "799/799 [==============================] - ETA: 0s - loss: 4.2937Epoch: 000 curr_lr: 6.0e-05 - train_loss: 4.2937 - val_loss: 3.5135 val_score: 0.803  best_val_score: 0.803  last_epoch t=77.38s, total_time_elapsed t=77.0s\n",
      "799/799 [==============================] - 77s 88ms/step - loss: 4.2937 - val_loss: 3.5135\n",
      "Epoch 2/14\n",
      "799/799 [==============================] - ETA: 0s - loss: 3.6620Epoch: 001 curr_lr: 6.0e-05 - train_loss: 3.6620 - val_loss: 3.4589 val_score: 0.812  best_val_score: 0.812  last_epoch t=62.58s, total_time_elapsed t=140.0s\n",
      "799/799 [==============================] - 63s 78ms/step - loss: 3.6620 - val_loss: 3.4589\n",
      "Epoch 3/14\n",
      "799/799 [==============================] - ETA: 0s - loss: 3.5450Epoch: 002 curr_lr: 6.0e-05 - train_loss: 3.5450 - val_loss: 3.2086 val_score: 0.832  best_val_score: 0.832  last_epoch t=62.44s, total_time_elapsed t=202.0s\n",
      "799/799 [==============================] - 62s 78ms/step - loss: 3.5450 - val_loss: 3.2086\n",
      "Epoch 4/14\n",
      "799/799 [==============================] - ETA: 0s - loss: 3.4564Epoch: 003 curr_lr: 5.7e-05 - train_loss: 3.4564 - val_loss: 3.3314 val_score: 0.831  best_val_score: 0.832  last_epoch t=62.42s, total_time_elapsed t=265.0s\n",
      "799/799 [==============================] - 62s 78ms/step - loss: 3.4564 - val_loss: 3.3314\n",
      "Epoch 5/14\n",
      "799/799 [==============================] - ETA: 0s - loss: 3.4366Epoch: 004 curr_lr: 5.1e-05 - train_loss: 3.4366 - val_loss: 3.2106 val_score: 0.828  best_val_score: 0.832  last_epoch t=61.47s, total_time_elapsed t=326.0s\n",
      "799/799 [==============================] - 61s 77ms/step - loss: 3.4366 - val_loss: 3.2106\n",
      "Epoch 6/14\n",
      "799/799 [==============================] - ETA: 0s - loss: 3.3702Epoch: 005 curr_lr: 4.6e-05 - train_loss: 3.3702 - val_loss: 3.3599 val_score: 0.823  best_val_score: 0.832  last_epoch t=62.72s, total_time_elapsed t=389.0s\n",
      "799/799 [==============================] - 63s 79ms/step - loss: 3.3702 - val_loss: 3.3599\n",
      "Epoch 7/14\n",
      "799/799 [==============================] - ETA: 0s - loss: 3.3457Epoch: 006 curr_lr: 4.2e-05 - train_loss: 3.3457 - val_loss: 3.2927 val_score: 0.824  best_val_score: 0.832  last_epoch t=62.69s, total_time_elapsed t=452.0s\n",
      "799/799 [==============================] - 63s 78ms/step - loss: 3.3457 - val_loss: 3.2927\n",
      "Epoch 8/14\n",
      "799/799 [==============================] - ETA: 0s - loss: 3.3099Epoch: 007 curr_lr: 3.7e-05 - train_loss: 3.3099 - val_loss: 3.2995 val_score: 0.821  best_val_score: 0.832  last_epoch t=61.64s, total_time_elapsed t=513.0s\n",
      "799/799 [==============================] - 62s 77ms/step - loss: 3.3099 - val_loss: 3.2995\n",
      "Epoch 9/14\n",
      "799/799 [==============================] - ETA: 0s - loss: 3.3021Epoch: 008 curr_lr: 3.4e-05 - train_loss: 3.3021 - val_loss: 3.1683 val_score: 0.837  best_val_score: 0.837  last_epoch t=64.05s, total_time_elapsed t=577.0s\n",
      "799/799 [==============================] - 64s 80ms/step - loss: 3.3021 - val_loss: 3.1683\n",
      "Epoch 10/14\n",
      "799/799 [==============================] - ETA: 0s - loss: 3.2830Epoch: 009 curr_lr: 3.0e-05 - train_loss: 3.2830 - val_loss: 3.1608 val_score: 0.842  best_val_score: 0.842  last_epoch t=64.37s, total_time_elapsed t=642.0s\n",
      "799/799 [==============================] - 64s 81ms/step - loss: 3.2830 - val_loss: 3.1608\n",
      "Epoch 11/14\n",
      "799/799 [==============================] - ETA: 0s - loss: 3.2544Epoch: 010 curr_lr: 2.7e-05 - train_loss: 3.2544 - val_loss: 3.1614 val_score: 0.838  best_val_score: 0.842  last_epoch t=61.20s, total_time_elapsed t=703.0s\n",
      "799/799 [==============================] - 61s 77ms/step - loss: 3.2544 - val_loss: 3.1614\n",
      "Epoch 12/14\n",
      "799/799 [==============================] - ETA: 0s - loss: 3.2475Epoch: 011 curr_lr: 2.5e-05 - train_loss: 3.2475 - val_loss: 3.1488 val_score: 0.839  best_val_score: 0.842  last_epoch t=60.81s, total_time_elapsed t=764.0s\n",
      "799/799 [==============================] - 61s 76ms/step - loss: 3.2475 - val_loss: 3.1488\n",
      "Epoch 13/14\n",
      "799/799 [==============================] - ETA: 0s - loss: 3.2222Epoch: 012 curr_lr: 2.2e-05 - train_loss: 3.2222 - val_loss: 3.1907 val_score: 0.840  best_val_score: 0.842  last_epoch t=61.41s, total_time_elapsed t=825.0s\n",
      "799/799 [==============================] - 61s 77ms/step - loss: 3.2222 - val_loss: 3.1907\n",
      "Epoch 14/14\n",
      "799/799 [==============================] - ETA: 0s - loss: 3.2079Epoch: 013 curr_lr: 2.0e-05 - train_loss: 3.2079 - val_loss: 3.1636 val_score: 0.837  best_val_score: 0.842  last_epoch t=60.69s, total_time_elapsed t=886.0s\n",
      "799/799 [==============================] - 61s 76ms/step - loss: 3.2079 - val_loss: 3.1636\n",
      "Model finished with val loss: 3.1635587215423584\n",
      "26/26 [==============================] - 4s 66ms/step\n",
      "Val Score: 0.8415920553862649\n",
      "WARNING:tensorflow:Compiled the loaded model, but the compiled metrics have yet to be built. `model.compile_metrics` will be empty until you train or evaluate the model.\n"
     ]
    },
    {
     "name": "stderr",
     "output_type": "stream",
     "text": [
      "100%|██████████| 529/529 [00:05<00:00, 91.50it/s] \n"
     ]
    },
    {
     "name": "stdout",
     "output_type": "stream",
     "text": [
      "\n",
      "\n",
      "\n",
      "-----------Starting fold: 4-----------\n",
      "\n",
      "\n",
      "\n",
      "Using 237 series for training and 27 series for validation\n",
      "Using a split len of 17280\n"
     ]
    },
    {
     "name": "stderr",
     "output_type": "stream",
     "text": [
      "100%|██████████| 237/237 [00:10<00:00, 21.79it/s]\n"
     ]
    },
    {
     "name": "stdout",
     "output_type": "stream",
     "text": [
      "X: (6501, 17280, 32), y: (6501, 17280, 2), series_ids: (6501,)\n",
      "Using a split len of 17280\n"
     ]
    },
    {
     "name": "stderr",
     "output_type": "stream",
     "text": [
      "100%|██████████| 27/27 [00:00<00:00, 29.90it/s]\n"
     ]
    },
    {
     "name": "stdout",
     "output_type": "stream",
     "text": [
      "X: (703, 17280, 32), y: (703, 17280, 2), series_ids: (703,)\n",
      "Total model parameters: 37824268\n",
      "Epoch 1/14\n",
      "813/813 [==============================] - ETA: 0s - loss: 4.2696Epoch: 000 curr_lr: 6.0e-05 - train_loss: 4.2696 - val_loss: 3.9784 val_score: 0.809  best_val_score: 0.809  last_epoch t=69.76s, total_time_elapsed t=70.0s\n",
      "813/813 [==============================] - 70s 77ms/step - loss: 4.2696 - val_loss: 3.9784\n",
      "Epoch 2/14\n",
      "813/813 [==============================] - ETA: 0s - loss: 3.6031Epoch: 001 curr_lr: 6.0e-05 - train_loss: 3.6031 - val_loss: 3.7848 val_score: 0.822  best_val_score: 0.822  last_epoch t=60.41s, total_time_elapsed t=130.0s\n",
      "813/813 [==============================] - 60s 74ms/step - loss: 3.6031 - val_loss: 3.7848\n",
      "Epoch 3/14\n",
      "813/813 [==============================] - ETA: 0s - loss: 3.4848Epoch: 002 curr_lr: 6.0e-05 - train_loss: 3.4848 - val_loss: 3.7469 val_score: 0.820  best_val_score: 0.822  last_epoch t=57.86s, total_time_elapsed t=188.0s\n",
      "813/813 [==============================] - 58s 71ms/step - loss: 3.4848 - val_loss: 3.7469\n",
      "Epoch 4/14\n",
      "813/813 [==============================] - ETA: 0s - loss: 3.4131Epoch: 003 curr_lr: 5.7e-05 - train_loss: 3.4131 - val_loss: 3.6069 val_score: 0.827  best_val_score: 0.827  last_epoch t=61.67s, total_time_elapsed t=250.0s\n",
      "813/813 [==============================] - 62s 76ms/step - loss: 3.4131 - val_loss: 3.6069\n",
      "Epoch 5/14\n",
      "812/813 [============================>.] - ETA: 0s - loss: 3.3570Epoch: 004 curr_lr: 5.1e-05 - train_loss: 3.3549 - val_loss: 3.7302 val_score: 0.828  best_val_score: 0.828  last_epoch t=59.87s, total_time_elapsed t=310.0s\n",
      "813/813 [==============================] - 60s 74ms/step - loss: 3.3549 - val_loss: 3.7302\n",
      "Epoch 6/14\n",
      "813/813 [==============================] - ETA: 0s - loss: 3.3166Epoch: 005 curr_lr: 4.6e-05 - train_loss: 3.3166 - val_loss: 3.6074 val_score: 0.834  best_val_score: 0.834  last_epoch t=59.94s, total_time_elapsed t=370.0s\n",
      "813/813 [==============================] - 60s 74ms/step - loss: 3.3166 - val_loss: 3.6074\n",
      "Epoch 7/14\n",
      "813/813 [==============================] - ETA: 0s - loss: 3.2856Epoch: 006 curr_lr: 4.2e-05 - train_loss: 3.2856 - val_loss: 3.6352 val_score: 0.836  best_val_score: 0.836  last_epoch t=57.55s, total_time_elapsed t=427.0s\n",
      "813/813 [==============================] - 58s 71ms/step - loss: 3.2856 - val_loss: 3.6352\n",
      "Epoch 8/14\n",
      "813/813 [==============================] - ETA: 0s - loss: 3.2511Epoch: 007 curr_lr: 3.7e-05 - train_loss: 3.2511 - val_loss: 3.6082 val_score: 0.836  best_val_score: 0.836  last_epoch t=62.20s, total_time_elapsed t=489.0s\n",
      "813/813 [==============================] - 62s 77ms/step - loss: 3.2511 - val_loss: 3.6082\n",
      "Epoch 9/14\n",
      "813/813 [==============================] - ETA: 0s - loss: 3.2368Epoch: 008 curr_lr: 3.4e-05 - train_loss: 3.2368 - val_loss: 3.6559 val_score: 0.837  best_val_score: 0.837  last_epoch t=61.49s, total_time_elapsed t=551.0s\n",
      "813/813 [==============================] - 61s 76ms/step - loss: 3.2368 - val_loss: 3.6559\n",
      "Epoch 10/14\n",
      "813/813 [==============================] - ETA: 0s - loss: 3.1957Epoch: 009 curr_lr: 3.0e-05 - train_loss: 3.1957 - val_loss: 3.6859 val_score: 0.832  best_val_score: 0.837  last_epoch t=56.60s, total_time_elapsed t=607.0s\n",
      "813/813 [==============================] - 57s 70ms/step - loss: 3.1957 - val_loss: 3.6859\n",
      "Epoch 11/14\n",
      "813/813 [==============================] - ETA: 0s - loss: 3.1954Epoch: 010 curr_lr: 2.7e-05 - train_loss: 3.1954 - val_loss: 3.5012 val_score: 0.847  best_val_score: 0.847  last_epoch t=62.10s, total_time_elapsed t=669.0s\n",
      "813/813 [==============================] - 62s 76ms/step - loss: 3.1954 - val_loss: 3.5012\n",
      "Epoch 12/14\n",
      "813/813 [==============================] - ETA: 0s - loss: 3.1633Epoch: 011 curr_lr: 2.5e-05 - train_loss: 3.1633 - val_loss: 3.5270 val_score: 0.844  best_val_score: 0.847  last_epoch t=60.43s, total_time_elapsed t=730.0s\n",
      "813/813 [==============================] - 60s 74ms/step - loss: 3.1633 - val_loss: 3.5270\n",
      "Epoch 13/14\n",
      "813/813 [==============================] - ETA: 0s - loss: 3.1544Epoch: 012 curr_lr: 2.2e-05 - train_loss: 3.1544 - val_loss: 3.5342 val_score: 0.846  best_val_score: 0.847  last_epoch t=59.45s, total_time_elapsed t=789.0s\n",
      "813/813 [==============================] - 59s 73ms/step - loss: 3.1544 - val_loss: 3.5342\n",
      "Epoch 14/14\n",
      "813/813 [==============================] - ETA: 0s - loss: 3.1332Epoch: 013 curr_lr: 2.0e-05 - train_loss: 3.1332 - val_loss: 3.5737 val_score: 0.840  best_val_score: 0.847  last_epoch t=60.17s, total_time_elapsed t=850.0s\n",
      "813/813 [==============================] - 60s 74ms/step - loss: 3.1332 - val_loss: 3.5737\n",
      "Model finished with val loss: 3.5736544132232666\n",
      "22/22 [==============================] - 6s 71ms/step\n",
      "Val Score: 0.8467969883275508\n",
      "WARNING:tensorflow:Compiled the loaded model, but the compiled metrics have yet to be built. `model.compile_metrics` will be empty until you train or evaluate the model.\n"
     ]
    },
    {
     "name": "stderr",
     "output_type": "stream",
     "text": [
      "100%|██████████| 529/529 [00:05<00:00, 92.61it/s] \n"
     ]
    },
    {
     "name": "stdout",
     "output_type": "stream",
     "text": [
      "\n",
      "\n",
      "\n",
      "-----------Starting fold: 5-----------\n",
      "\n",
      "\n",
      "\n",
      "Using 238 series for training and 26 series for validation\n",
      "Using a split len of 17280\n"
     ]
    },
    {
     "name": "stderr",
     "output_type": "stream",
     "text": [
      "100%|██████████| 238/238 [00:10<00:00, 22.78it/s]\n"
     ]
    },
    {
     "name": "stdout",
     "output_type": "stream",
     "text": [
      "X: (6570, 17280, 32), y: (6570, 17280, 2), series_ids: (6570,)\n",
      "Using a split len of 17280\n"
     ]
    },
    {
     "name": "stderr",
     "output_type": "stream",
     "text": [
      "100%|██████████| 26/26 [00:00<00:00, 27.19it/s]\n"
     ]
    },
    {
     "name": "stdout",
     "output_type": "stream",
     "text": [
      "X: (634, 17280, 32), y: (634, 17280, 2), series_ids: (634,)\n",
      "Total model parameters: 37824268\n",
      "Epoch 1/14\n",
      "822/822 [==============================] - ETA: 0s - loss: 4.3386Epoch: 000 curr_lr: 6.0e-05 - train_loss: 4.3386 - val_loss: 3.5607 val_score: 0.764  best_val_score: 0.764  last_epoch t=72.85s, total_time_elapsed t=73.0s\n",
      "822/822 [==============================] - 73s 80ms/step - loss: 4.3386 - val_loss: 3.5607\n",
      "Epoch 2/14\n",
      "821/822 [============================>.] - ETA: 0s - loss: 3.6337Epoch: 001 curr_lr: 6.0e-05 - train_loss: 3.6334 - val_loss: 3.4539 val_score: 0.787  best_val_score: 0.787  last_epoch t=59.75s, total_time_elapsed t=133.0s\n",
      "822/822 [==============================] - 60s 73ms/step - loss: 3.6334 - val_loss: 3.4539\n",
      "Epoch 3/14\n",
      "821/822 [============================>.] - ETA: 0s - loss: 3.5210Epoch: 002 curr_lr: 6.0e-05 - train_loss: 3.5210 - val_loss: 3.3886 val_score: 0.787  best_val_score: 0.787  last_epoch t=57.58s, total_time_elapsed t=190.0s\n",
      "822/822 [==============================] - 58s 70ms/step - loss: 3.5210 - val_loss: 3.3886\n",
      "Epoch 4/14\n",
      "821/822 [============================>.] - ETA: 0s - loss: 3.4660Epoch: 003 curr_lr: 5.7e-05 - train_loss: 3.4663 - val_loss: 3.3673 val_score: 0.783  best_val_score: 0.787  last_epoch t=57.85s, total_time_elapsed t=248.0s\n",
      "822/822 [==============================] - 58s 70ms/step - loss: 3.4663 - val_loss: 3.3673\n",
      "Epoch 5/14\n",
      "821/822 [============================>.] - ETA: 0s - loss: 3.3914Epoch: 004 curr_lr: 5.1e-05 - train_loss: 3.3918 - val_loss: 3.3757 val_score: 0.791  best_val_score: 0.791  last_epoch t=58.73s, total_time_elapsed t=307.0s\n",
      "822/822 [==============================] - 59s 71ms/step - loss: 3.3918 - val_loss: 3.3757\n",
      "Epoch 6/14\n",
      "822/822 [==============================] - ETA: 0s - loss: 3.3454Epoch: 005 curr_lr: 4.6e-05 - train_loss: 3.3454 - val_loss: 3.4547 val_score: 0.778  best_val_score: 0.791  last_epoch t=56.73s, total_time_elapsed t=364.0s\n",
      "822/822 [==============================] - 57s 69ms/step - loss: 3.3454 - val_loss: 3.4547\n",
      "Epoch 7/14\n",
      "822/822 [==============================] - ETA: 0s - loss: 3.3123Epoch: 006 curr_lr: 4.2e-05 - train_loss: 3.3123 - val_loss: 3.2843 val_score: 0.800  best_val_score: 0.800  last_epoch t=59.55s, total_time_elapsed t=423.0s\n",
      "822/822 [==============================] - 60s 72ms/step - loss: 3.3123 - val_loss: 3.2843\n",
      "Epoch 8/14\n",
      "821/822 [============================>.] - ETA: 0s - loss: 3.2922Epoch: 007 curr_lr: 3.7e-05 - train_loss: 3.2919 - val_loss: 3.3263 val_score: 0.802  best_val_score: 0.802  last_epoch t=59.73s, total_time_elapsed t=483.0s\n",
      "822/822 [==============================] - 60s 73ms/step - loss: 3.2919 - val_loss: 3.3263\n",
      "Epoch 9/14\n",
      "821/822 [============================>.] - ETA: 0s - loss: 3.2680Epoch: 008 curr_lr: 3.4e-05 - train_loss: 3.2689 - val_loss: 3.2703 val_score: 0.804  best_val_score: 0.804  last_epoch t=59.14s, total_time_elapsed t=542.0s\n",
      "822/822 [==============================] - 59s 72ms/step - loss: 3.2689 - val_loss: 3.2703\n",
      "Epoch 10/14\n",
      "821/822 [============================>.] - ETA: 0s - loss: 3.2485Epoch: 009 curr_lr: 3.0e-05 - train_loss: 3.2492 - val_loss: 3.2632 val_score: 0.812  best_val_score: 0.812  last_epoch t=58.92s, total_time_elapsed t=601.0s\n",
      "822/822 [==============================] - 59s 72ms/step - loss: 3.2492 - val_loss: 3.2632\n",
      "Epoch 11/14\n",
      "821/822 [============================>.] - ETA: 0s - loss: 3.2237Epoch: 010 curr_lr: 2.7e-05 - train_loss: 3.2233 - val_loss: 3.2871 val_score: 0.805  best_val_score: 0.812  last_epoch t=56.70s, total_time_elapsed t=658.0s\n",
      "822/822 [==============================] - 57s 69ms/step - loss: 3.2233 - val_loss: 3.2871\n",
      "Epoch 12/14\n",
      "822/822 [==============================] - ETA: 0s - loss: 3.1995Epoch: 011 curr_lr: 2.5e-05 - train_loss: 3.1995 - val_loss: 3.2435 val_score: 0.804  best_val_score: 0.812  last_epoch t=57.28s, total_time_elapsed t=715.0s\n",
      "822/822 [==============================] - 57s 70ms/step - loss: 3.1995 - val_loss: 3.2435\n",
      "Epoch 13/14\n",
      "822/822 [==============================] - ETA: 0s - loss: 3.1819Epoch: 012 curr_lr: 2.2e-05 - train_loss: 3.1819 - val_loss: 3.2431 val_score: 0.809  best_val_score: 0.812  last_epoch t=57.57s, total_time_elapsed t=772.0s\n",
      "822/822 [==============================] - 58s 70ms/step - loss: 3.1819 - val_loss: 3.2431\n",
      "Epoch 14/14\n",
      "821/822 [============================>.] - ETA: 0s - loss: 3.1655Epoch: 013 curr_lr: 2.0e-05 - train_loss: 3.1659 - val_loss: 3.2836 val_score: 0.808  best_val_score: 0.812  last_epoch t=57.70s, total_time_elapsed t=830.0s\n",
      "822/822 [==============================] - 58s 70ms/step - loss: 3.1659 - val_loss: 3.2836\n",
      "Model finished with val loss: 3.283602476119995\n",
      "20/20 [==============================] - 3s 75ms/step\n",
      "Val Score: 0.8121230817456917\n",
      "WARNING:tensorflow:Compiled the loaded model, but the compiled metrics have yet to be built. `model.compile_metrics` will be empty until you train or evaluate the model.\n"
     ]
    },
    {
     "name": "stderr",
     "output_type": "stream",
     "text": [
      "100%|██████████| 529/529 [00:04<00:00, 118.29it/s]\n"
     ]
    },
    {
     "name": "stdout",
     "output_type": "stream",
     "text": [
      "\n",
      "\n",
      "\n",
      "-----------Starting fold: 6-----------\n",
      "\n",
      "\n",
      "\n",
      "Using 238 series for training and 26 series for validation\n",
      "Using a split len of 17280\n"
     ]
    },
    {
     "name": "stderr",
     "output_type": "stream",
     "text": [
      "100%|██████████| 238/238 [00:09<00:00, 25.96it/s]\n"
     ]
    },
    {
     "name": "stdout",
     "output_type": "stream",
     "text": [
      "X: (6515, 17280, 32), y: (6515, 17280, 2), series_ids: (6515,)\n",
      "Using a split len of 17280\n"
     ]
    },
    {
     "name": "stderr",
     "output_type": "stream",
     "text": [
      "100%|██████████| 26/26 [00:00<00:00, 31.63it/s]\n"
     ]
    },
    {
     "name": "stdout",
     "output_type": "stream",
     "text": [
      "X: (689, 17280, 32), y: (689, 17280, 2), series_ids: (689,)\n",
      "Total model parameters: 37824268\n",
      "Epoch 1/14\n",
      "814/815 [============================>.] - ETA: 0s - loss: 4.1622Epoch: 000 curr_lr: 6.0e-05 - train_loss: 4.1616 - val_loss: 4.5121 val_score: 0.754  best_val_score: 0.754  last_epoch t=70.19s, total_time_elapsed t=70.0s\n",
      "815/815 [==============================] - 70s 78ms/step - loss: 4.1616 - val_loss: 4.5121\n",
      "Epoch 2/14\n",
      "814/815 [============================>.] - ETA: 0s - loss: 3.5268Epoch: 001 curr_lr: 6.0e-05 - train_loss: 3.5267 - val_loss: 4.3936 val_score: 0.776  best_val_score: 0.776  last_epoch t=61.14s, total_time_elapsed t=131.0s\n",
      "815/815 [==============================] - 61s 75ms/step - loss: 3.5267 - val_loss: 4.3936\n",
      "Epoch 3/14\n",
      "814/815 [============================>.] - ETA: 0s - loss: 3.4187Epoch: 002 curr_lr: 6.0e-05 - train_loss: 3.4209 - val_loss: 4.2706 val_score: 0.781  best_val_score: 0.781  last_epoch t=61.07s, total_time_elapsed t=192.0s\n",
      "815/815 [==============================] - 61s 75ms/step - loss: 3.4209 - val_loss: 4.2706\n",
      "Epoch 4/14\n",
      "814/815 [============================>.] - ETA: 0s - loss: 3.3655Epoch: 003 curr_lr: 5.7e-05 - train_loss: 3.3661 - val_loss: 4.3155 val_score: 0.780  best_val_score: 0.781  last_epoch t=58.30s, total_time_elapsed t=251.0s\n",
      "815/815 [==============================] - 58s 72ms/step - loss: 3.3661 - val_loss: 4.3155\n",
      "Epoch 5/14\n",
      "815/815 [==============================] - ETA: 0s - loss: 3.3289Epoch: 004 curr_lr: 5.1e-05 - train_loss: 3.3289 - val_loss: 4.2491 val_score: 0.790  best_val_score: 0.790  last_epoch t=61.05s, total_time_elapsed t=312.0s\n",
      "815/815 [==============================] - 61s 75ms/step - loss: 3.3289 - val_loss: 4.2491\n",
      "Epoch 6/14\n",
      "815/815 [==============================] - ETA: 0s - loss: 3.2613Epoch: 005 curr_lr: 4.6e-05 - train_loss: 3.2613 - val_loss: 4.3148 val_score: 0.776  best_val_score: 0.790  last_epoch t=58.75s, total_time_elapsed t=371.0s\n",
      "815/815 [==============================] - 59s 72ms/step - loss: 3.2613 - val_loss: 4.3148\n",
      "Epoch 7/14\n",
      "814/815 [============================>.] - ETA: 0s - loss: 3.2301Epoch: 006 curr_lr: 4.2e-05 - train_loss: 3.2294 - val_loss: 4.3328 val_score: 0.771  best_val_score: 0.790  last_epoch t=58.89s, total_time_elapsed t=429.0s\n",
      "815/815 [==============================] - 59s 72ms/step - loss: 3.2294 - val_loss: 4.3328\n",
      "Epoch 8/14\n",
      "815/815 [==============================] - ETA: 0s - loss: 3.2004Epoch: 007 curr_lr: 3.7e-05 - train_loss: 3.2004 - val_loss: 4.2236 val_score: 0.788  best_val_score: 0.790  last_epoch t=60.31s, total_time_elapsed t=490.0s\n",
      "815/815 [==============================] - 60s 74ms/step - loss: 3.2004 - val_loss: 4.2236\n",
      "Epoch 9/14\n",
      "815/815 [==============================] - ETA: 0s - loss: 3.1754Epoch: 008 curr_lr: 3.4e-05 - train_loss: 3.1754 - val_loss: 4.2542 val_score: 0.792  best_val_score: 0.792  last_epoch t=63.04s, total_time_elapsed t=553.0s\n",
      "815/815 [==============================] - 63s 77ms/step - loss: 3.1754 - val_loss: 4.2542\n",
      "Epoch 10/14\n",
      "815/815 [==============================] - ETA: 0s - loss: 3.1498Epoch: 009 curr_lr: 3.0e-05 - train_loss: 3.1498 - val_loss: 4.3801 val_score: 0.779  best_val_score: 0.792  last_epoch t=58.53s, total_time_elapsed t=611.0s\n",
      "815/815 [==============================] - 59s 72ms/step - loss: 3.1498 - val_loss: 4.3801\n",
      "Epoch 11/14\n",
      "815/815 [==============================] - ETA: 0s - loss: 3.1389Epoch: 010 curr_lr: 2.7e-05 - train_loss: 3.1389 - val_loss: 4.1686 val_score: 0.787  best_val_score: 0.792  last_epoch t=58.89s, total_time_elapsed t=670.0s\n",
      "815/815 [==============================] - 59s 72ms/step - loss: 3.1389 - val_loss: 4.1686\n",
      "Epoch 12/14\n",
      "815/815 [==============================] - ETA: 0s - loss: 3.1218Epoch: 011 curr_lr: 2.5e-05 - train_loss: 3.1218 - val_loss: 4.2458 val_score: 0.784  best_val_score: 0.792  last_epoch t=59.98s, total_time_elapsed t=730.0s\n",
      "815/815 [==============================] - 60s 74ms/step - loss: 3.1218 - val_loss: 4.2458\n",
      "Epoch 13/14\n",
      "815/815 [==============================] - ETA: 0s - loss: 3.1007Epoch: 012 curr_lr: 2.2e-05 - train_loss: 3.1007 - val_loss: 4.2992 val_score: 0.795  best_val_score: 0.795  last_epoch t=61.04s, total_time_elapsed t=791.0s\n",
      "815/815 [==============================] - 61s 75ms/step - loss: 3.1007 - val_loss: 4.2992\n",
      "Epoch 14/14\n",
      "814/815 [============================>.] - ETA: 0s - loss: 3.0862Epoch: 013 curr_lr: 2.0e-05 - train_loss: 3.0854 - val_loss: 4.2684 val_score: 0.782  best_val_score: 0.795  last_epoch t=58.61s, total_time_elapsed t=850.0s\n",
      "815/815 [==============================] - 59s 72ms/step - loss: 3.0854 - val_loss: 4.2684\n",
      "Model finished with val loss: 4.268378257751465\n",
      "22/22 [==============================] - 3s 62ms/step\n",
      "Val Score: 0.7951476258079793\n",
      "WARNING:tensorflow:Compiled the loaded model, but the compiled metrics have yet to be built. `model.compile_metrics` will be empty until you train or evaluate the model.\n"
     ]
    },
    {
     "name": "stderr",
     "output_type": "stream",
     "text": [
      "100%|██████████| 529/529 [00:04<00:00, 129.35it/s]\n"
     ]
    },
    {
     "name": "stdout",
     "output_type": "stream",
     "text": [
      "\n",
      "\n",
      "\n",
      "-----------Starting fold: 7-----------\n",
      "\n",
      "\n",
      "\n",
      "Using 238 series for training and 26 series for validation\n",
      "Using a split len of 17280\n"
     ]
    },
    {
     "name": "stderr",
     "output_type": "stream",
     "text": [
      "100%|██████████| 238/238 [00:11<00:00, 20.86it/s]\n"
     ]
    },
    {
     "name": "stdout",
     "output_type": "stream",
     "text": [
      "X: (6522, 17280, 32), y: (6522, 17280, 2), series_ids: (6522,)\n",
      "Using a split len of 17280\n"
     ]
    },
    {
     "name": "stderr",
     "output_type": "stream",
     "text": [
      "100%|██████████| 26/26 [00:00<00:00, 30.60it/s]\n"
     ]
    },
    {
     "name": "stdout",
     "output_type": "stream",
     "text": [
      "X: (682, 17280, 32), y: (682, 17280, 2), series_ids: (682,)\n",
      "Total model parameters: 37824268\n",
      "Epoch 1/14\n",
      "816/816 [==============================] - ETA: 0s - loss: 4.2397Epoch: 000 curr_lr: 6.0e-05 - train_loss: 4.2397 - val_loss: 4.2960 val_score: 0.670  best_val_score: 0.670  last_epoch t=73.37s, total_time_elapsed t=73.0s\n",
      "816/816 [==============================] - 73s 81ms/step - loss: 4.2397 - val_loss: 4.2960\n",
      "Epoch 2/14\n",
      "815/816 [============================>.] - ETA: 0s - loss: 3.5559Epoch: 001 curr_lr: 6.0e-05 - train_loss: 3.5570 - val_loss: 4.2260 val_score: 0.676  best_val_score: 0.676  last_epoch t=61.14s, total_time_elapsed t=135.0s\n",
      "816/816 [==============================] - 61s 75ms/step - loss: 3.5570 - val_loss: 4.2260\n",
      "Epoch 3/14\n",
      "815/816 [============================>.] - ETA: 0s - loss: 3.4618Epoch: 002 curr_lr: 6.0e-05 - train_loss: 3.4619 - val_loss: 4.1452 val_score: 0.693  best_val_score: 0.693  last_epoch t=60.51s, total_time_elapsed t=195.0s\n",
      "816/816 [==============================] - 61s 74ms/step - loss: 3.4619 - val_loss: 4.1452\n",
      "Epoch 4/14\n",
      "816/816 [==============================] - ETA: 0s - loss: 3.3923Epoch: 003 curr_lr: 5.7e-05 - train_loss: 3.3923 - val_loss: 4.1057 val_score: 0.704  best_val_score: 0.704  last_epoch t=60.40s, total_time_elapsed t=255.0s\n",
      "816/816 [==============================] - 60s 74ms/step - loss: 3.3923 - val_loss: 4.1057\n",
      "Epoch 5/14\n",
      "815/816 [============================>.] - ETA: 0s - loss: 3.3504Epoch: 004 curr_lr: 5.1e-05 - train_loss: 3.3498 - val_loss: 4.1031 val_score: 0.697  best_val_score: 0.704  last_epoch t=58.32s, total_time_elapsed t=314.0s\n",
      "816/816 [==============================] - 58s 71ms/step - loss: 3.3498 - val_loss: 4.1031\n",
      "Epoch 6/14\n",
      "816/816 [==============================] - ETA: 0s - loss: 3.2919Epoch: 005 curr_lr: 4.6e-05 - train_loss: 3.2919 - val_loss: 3.9926 val_score: 0.714  best_val_score: 0.714  last_epoch t=62.07s, total_time_elapsed t=376.0s\n",
      "816/816 [==============================] - 62s 76ms/step - loss: 3.2919 - val_loss: 3.9926\n",
      "Epoch 7/14\n",
      "816/816 [==============================] - ETA: 0s - loss: 3.2630Epoch: 006 curr_lr: 4.2e-05 - train_loss: 3.2630 - val_loss: 4.0238 val_score: 0.697  best_val_score: 0.714  last_epoch t=58.97s, total_time_elapsed t=435.0s\n",
      "816/816 [==============================] - 59s 72ms/step - loss: 3.2630 - val_loss: 4.0238\n",
      "Epoch 8/14\n",
      "816/816 [==============================] - ETA: 0s - loss: 3.2391Epoch: 007 curr_lr: 3.7e-05 - train_loss: 3.2391 - val_loss: 4.0813 val_score: 0.692  best_val_score: 0.714  last_epoch t=59.15s, total_time_elapsed t=494.0s\n",
      "816/816 [==============================] - 59s 73ms/step - loss: 3.2391 - val_loss: 4.0813\n",
      "Epoch 9/14\n",
      "816/816 [==============================] - ETA: 0s - loss: 3.2222Epoch: 008 curr_lr: 3.4e-05 - train_loss: 3.2222 - val_loss: 4.2549 val_score: 0.676  best_val_score: 0.714  last_epoch t=59.40s, total_time_elapsed t=553.0s\n",
      "816/816 [==============================] - 59s 73ms/step - loss: 3.2222 - val_loss: 4.2549\n",
      "Epoch 10/14\n",
      "815/816 [============================>.] - ETA: 0s - loss: 3.2301Epoch: 009 curr_lr: 3.0e-05 - train_loss: 3.2300 - val_loss: 4.0654 val_score: 0.711  best_val_score: 0.714  last_epoch t=60.75s, total_time_elapsed t=614.0s\n",
      "816/816 [==============================] - 61s 74ms/step - loss: 3.2300 - val_loss: 4.0654\n",
      "Epoch 11/14\n",
      "816/816 [==============================] - ETA: 0s - loss: 3.1693Epoch: 010 curr_lr: 2.7e-05 - train_loss: 3.1693 - val_loss: 3.9830 val_score: 0.708  best_val_score: 0.714  last_epoch t=60.14s, total_time_elapsed t=674.0s\n",
      "816/816 [==============================] - 60s 74ms/step - loss: 3.1693 - val_loss: 3.9830\n",
      "Epoch 12/14\n",
      "816/816 [==============================] - ETA: 0s - loss: 3.1531Epoch: 011 curr_lr: 2.5e-05 - train_loss: 3.1531 - val_loss: 3.9132 val_score: 0.708  best_val_score: 0.714  last_epoch t=60.86s, total_time_elapsed t=735.0s\n",
      "816/816 [==============================] - 61s 75ms/step - loss: 3.1531 - val_loss: 3.9132\n",
      "Epoch 13/14\n",
      "815/816 [============================>.] - ETA: 0s - loss: 3.1470Epoch: 012 curr_lr: 2.2e-05 - train_loss: 3.1469 - val_loss: 3.9249 val_score: 0.719  best_val_score: 0.719  last_epoch t=62.94s, total_time_elapsed t=798.0s\n",
      "816/816 [==============================] - 63s 77ms/step - loss: 3.1469 - val_loss: 3.9249\n",
      "Epoch 14/14\n",
      "815/816 [============================>.] - ETA: 0s - loss: 3.1473Epoch: 013 curr_lr: 2.0e-05 - train_loss: 3.1477 - val_loss: 3.9813 val_score: 0.708  best_val_score: 0.719  last_epoch t=57.95s, total_time_elapsed t=856.0s\n",
      "816/816 [==============================] - 58s 71ms/step - loss: 3.1477 - val_loss: 3.9813\n",
      "Model finished with val loss: 3.981318950653076\n",
      "22/22 [==============================] - 3s 69ms/step\n",
      "Val Score: 0.718425312522752\n",
      "WARNING:tensorflow:Compiled the loaded model, but the compiled metrics have yet to be built. `model.compile_metrics` will be empty until you train or evaluate the model.\n"
     ]
    },
    {
     "name": "stderr",
     "output_type": "stream",
     "text": [
      "100%|██████████| 529/529 [00:05<00:00, 95.51it/s] \n"
     ]
    },
    {
     "name": "stdout",
     "output_type": "stream",
     "text": [
      "\n",
      "\n",
      "\n",
      "-----------Starting fold: 8-----------\n",
      "\n",
      "\n",
      "\n",
      "Using 238 series for training and 26 series for validation\n",
      "Using a split len of 17280\n"
     ]
    },
    {
     "name": "stderr",
     "output_type": "stream",
     "text": [
      "100%|██████████| 238/238 [00:10<00:00, 22.97it/s]\n"
     ]
    },
    {
     "name": "stdout",
     "output_type": "stream",
     "text": [
      "X: (6538, 17280, 32), y: (6538, 17280, 2), series_ids: (6538,)\n",
      "Using a split len of 17280\n"
     ]
    },
    {
     "name": "stderr",
     "output_type": "stream",
     "text": [
      "100%|██████████| 26/26 [00:00<00:00, 36.88it/s]\n"
     ]
    },
    {
     "name": "stdout",
     "output_type": "stream",
     "text": [
      "X: (666, 17280, 32), y: (666, 17280, 2), series_ids: (666,)\n",
      "Total model parameters: 37824268\n",
      "Epoch 1/14\n",
      "817/818 [============================>.] - ETA: 0s - loss: 4.3560Epoch: 000 curr_lr: 6.0e-05 - train_loss: 4.3551 - val_loss: 3.8585 val_score: 0.785  best_val_score: 0.785  last_epoch t=73.56s, total_time_elapsed t=74.0s\n",
      "818/818 [==============================] - 74s 81ms/step - loss: 4.3551 - val_loss: 3.8585\n",
      "Epoch 2/14\n",
      "818/818 [==============================] - ETA: 0s - loss: 3.6325Epoch: 001 curr_lr: 6.0e-05 - train_loss: 3.6325 - val_loss: 3.6181 val_score: 0.817  best_val_score: 0.817  last_epoch t=59.66s, total_time_elapsed t=133.0s\n",
      "818/818 [==============================] - 60s 73ms/step - loss: 3.6325 - val_loss: 3.6181\n",
      "Epoch 3/14\n",
      "817/818 [============================>.] - ETA: 0s - loss: 3.5171Epoch: 002 curr_lr: 6.0e-05 - train_loss: 3.5164 - val_loss: 3.3033 val_score: 0.822  best_val_score: 0.822  last_epoch t=59.91s, total_time_elapsed t=193.0s\n",
      "818/818 [==============================] - 60s 73ms/step - loss: 3.5164 - val_loss: 3.3033\n",
      "Epoch 4/14\n",
      "818/818 [==============================] - ETA: 0s - loss: 3.4699Epoch: 003 curr_lr: 5.7e-05 - train_loss: 3.4699 - val_loss: 3.3231 val_score: 0.831  best_val_score: 0.831  last_epoch t=61.03s, total_time_elapsed t=254.0s\n",
      "818/818 [==============================] - 61s 75ms/step - loss: 3.4699 - val_loss: 3.3231\n",
      "Epoch 5/14\n",
      "818/818 [==============================] - ETA: 0s - loss: 3.3954Epoch: 004 curr_lr: 5.1e-05 - train_loss: 3.3954 - val_loss: 3.3190 val_score: 0.817  best_val_score: 0.831  last_epoch t=57.94s, total_time_elapsed t=312.0s\n",
      "818/818 [==============================] - 58s 71ms/step - loss: 3.3954 - val_loss: 3.3190\n",
      "Epoch 6/14\n",
      "818/818 [==============================] - ETA: 0s - loss: 3.3635Epoch: 005 curr_lr: 4.6e-05 - train_loss: 3.3635 - val_loss: 3.2523 val_score: 0.842  best_val_score: 0.842  last_epoch t=64.24s, total_time_elapsed t=376.0s\n",
      "818/818 [==============================] - 64s 79ms/step - loss: 3.3635 - val_loss: 3.2523\n",
      "Epoch 7/14\n",
      "818/818 [==============================] - ETA: 0s - loss: 3.3272Epoch: 006 curr_lr: 4.2e-05 - train_loss: 3.3272 - val_loss: 3.2181 val_score: 0.833  best_val_score: 0.842  last_epoch t=60.02s, total_time_elapsed t=436.0s\n",
      "818/818 [==============================] - 60s 73ms/step - loss: 3.3272 - val_loss: 3.2181\n",
      "Epoch 8/14\n",
      "818/818 [==============================] - ETA: 0s - loss: 3.2883Epoch: 007 curr_lr: 3.7e-05 - train_loss: 3.2883 - val_loss: 3.1822 val_score: 0.839  best_val_score: 0.842  last_epoch t=60.02s, total_time_elapsed t=496.0s\n",
      "818/818 [==============================] - 60s 73ms/step - loss: 3.2883 - val_loss: 3.1822\n",
      "Epoch 9/14\n",
      "818/818 [==============================] - ETA: 0s - loss: 3.2691Epoch: 008 curr_lr: 3.4e-05 - train_loss: 3.2691 - val_loss: 3.1594 val_score: 0.850  best_val_score: 0.850  last_epoch t=61.64s, total_time_elapsed t=558.0s\n",
      "818/818 [==============================] - 62s 75ms/step - loss: 3.2691 - val_loss: 3.1594\n",
      "Epoch 10/14\n",
      "818/818 [==============================] - ETA: 0s - loss: 3.2453Epoch: 009 curr_lr: 3.0e-05 - train_loss: 3.2453 - val_loss: 3.1526 val_score: 0.847  best_val_score: 0.850  last_epoch t=58.99s, total_time_elapsed t=617.0s\n",
      "818/818 [==============================] - 59s 72ms/step - loss: 3.2453 - val_loss: 3.1526\n",
      "Epoch 11/14\n",
      "817/818 [============================>.] - ETA: 0s - loss: 3.2287Epoch: 010 curr_lr: 2.7e-05 - train_loss: 3.2288 - val_loss: 3.2208 val_score: 0.847  best_val_score: 0.850  last_epoch t=58.53s, total_time_elapsed t=676.0s\n",
      "818/818 [==============================] - 59s 72ms/step - loss: 3.2288 - val_loss: 3.2208\n",
      "Epoch 12/14\n",
      "817/818 [============================>.] - ETA: 0s - loss: 3.2022Epoch: 011 curr_lr: 2.5e-05 - train_loss: 3.2017 - val_loss: 3.1890 val_score: 0.848  best_val_score: 0.850  last_epoch t=59.15s, total_time_elapsed t=735.0s\n",
      "818/818 [==============================] - 59s 72ms/step - loss: 3.2017 - val_loss: 3.1890\n",
      "Epoch 13/14\n",
      "818/818 [==============================] - ETA: 0s - loss: 3.1912Epoch: 012 curr_lr: 2.2e-05 - train_loss: 3.1912 - val_loss: 3.1356 val_score: 0.856  best_val_score: 0.856  last_epoch t=62.40s, total_time_elapsed t=797.0s\n",
      "818/818 [==============================] - 62s 76ms/step - loss: 3.1912 - val_loss: 3.1356\n",
      "Epoch 14/14\n",
      "818/818 [==============================] - ETA: 0s - loss: 3.1779Epoch: 013 curr_lr: 2.0e-05 - train_loss: 3.1779 - val_loss: 3.1376 val_score: 0.856  best_val_score: 0.856  last_epoch t=60.92s, total_time_elapsed t=858.0s\n",
      "818/818 [==============================] - 61s 74ms/step - loss: 3.1779 - val_loss: 3.1376\n",
      "Model finished with val loss: 3.137620210647583\n",
      "21/21 [==============================] - 3s 61ms/step\n",
      "Val Score: 0.8558363409815695\n",
      "WARNING:tensorflow:Compiled the loaded model, but the compiled metrics have yet to be built. `model.compile_metrics` will be empty until you train or evaluate the model.\n"
     ]
    },
    {
     "name": "stderr",
     "output_type": "stream",
     "text": [
      "100%|██████████| 529/529 [00:05<00:00, 104.83it/s]\n"
     ]
    },
    {
     "name": "stdout",
     "output_type": "stream",
     "text": [
      "\n",
      "\n",
      "\n",
      "-----------Starting fold: 9-----------\n",
      "\n",
      "\n",
      "\n",
      "Using 238 series for training and 26 series for validation\n",
      "Using a split len of 17280\n"
     ]
    },
    {
     "name": "stderr",
     "output_type": "stream",
     "text": [
      "100%|██████████| 238/238 [00:11<00:00, 21.47it/s]\n"
     ]
    },
    {
     "name": "stdout",
     "output_type": "stream",
     "text": [
      "X: (6415, 17280, 32), y: (6415, 17280, 2), series_ids: (6415,)\n",
      "Using a split len of 17280\n"
     ]
    },
    {
     "name": "stderr",
     "output_type": "stream",
     "text": [
      "100%|██████████| 26/26 [00:00<00:00, 26.88it/s]\n"
     ]
    },
    {
     "name": "stdout",
     "output_type": "stream",
     "text": [
      "X: (789, 17280, 32), y: (789, 17280, 2), series_ids: (789,)\n",
      "Total model parameters: 37824268\n",
      "Epoch 1/14\n",
      "802/802 [==============================] - ETA: 0s - loss: 4.3408Epoch: 000 curr_lr: 6.0e-05 - train_loss: 4.3408 - val_loss: 2.6698 val_score: 0.806  best_val_score: 0.806  last_epoch t=79.05s, total_time_elapsed t=79.0s\n",
      "802/802 [==============================] - 79s 89ms/step - loss: 4.3408 - val_loss: 2.6698\n",
      "Epoch 2/14\n",
      "802/802 [==============================] - ETA: 0s - loss: 3.7636Epoch: 001 curr_lr: 6.0e-05 - train_loss: 3.7636 - val_loss: 2.6627 val_score: 0.806  best_val_score: 0.806  last_epoch t=63.96s, total_time_elapsed t=143.0s\n",
      "802/802 [==============================] - 64s 80ms/step - loss: 3.7636 - val_loss: 2.6627\n",
      "Epoch 3/14\n",
      "802/802 [==============================] - ETA: 0s - loss: 3.6388Epoch: 002 curr_lr: 6.0e-05 - train_loss: 3.6388 - val_loss: 2.5118 val_score: 0.820  best_val_score: 0.820  last_epoch t=62.29s, total_time_elapsed t=205.0s\n",
      "802/802 [==============================] - 62s 78ms/step - loss: 3.6388 - val_loss: 2.5118\n",
      "Epoch 4/14\n",
      "802/802 [==============================] - ETA: 0s - loss: 3.5719Epoch: 003 curr_lr: 5.7e-05 - train_loss: 3.5719 - val_loss: 2.5123 val_score: 0.819  best_val_score: 0.820  last_epoch t=60.60s, total_time_elapsed t=266.0s\n",
      "802/802 [==============================] - 61s 76ms/step - loss: 3.5719 - val_loss: 2.5123\n",
      "Epoch 5/14\n",
      "802/802 [==============================] - ETA: 0s - loss: 3.5416Epoch: 004 curr_lr: 5.1e-05 - train_loss: 3.5416 - val_loss: 2.4969 val_score: 0.817  best_val_score: 0.820  last_epoch t=59.99s, total_time_elapsed t=326.0s\n",
      "802/802 [==============================] - 60s 75ms/step - loss: 3.5416 - val_loss: 2.4969\n",
      "Epoch 6/14\n",
      "802/802 [==============================] - ETA: 0s - loss: 3.4754Epoch: 005 curr_lr: 4.6e-05 - train_loss: 3.4754 - val_loss: 2.4766 val_score: 0.827  best_val_score: 0.827  last_epoch t=62.95s, total_time_elapsed t=389.0s\n",
      "802/802 [==============================] - 63s 79ms/step - loss: 3.4754 - val_loss: 2.4766\n",
      "Epoch 7/14\n",
      "802/802 [==============================] - ETA: 0s - loss: 3.4381Epoch: 006 curr_lr: 4.2e-05 - train_loss: 3.4381 - val_loss: 2.5346 val_score: 0.819  best_val_score: 0.827  last_epoch t=62.45s, total_time_elapsed t=451.0s\n",
      "802/802 [==============================] - 62s 78ms/step - loss: 3.4381 - val_loss: 2.5346\n",
      "Epoch 8/14\n",
      "802/802 [==============================] - ETA: 0s - loss: 3.4099Epoch: 007 curr_lr: 3.7e-05 - train_loss: 3.4099 - val_loss: 2.4446 val_score: 0.837  best_val_score: 0.837  last_epoch t=64.21s, total_time_elapsed t=516.0s\n",
      "802/802 [==============================] - 64s 80ms/step - loss: 3.4099 - val_loss: 2.4446\n",
      "Epoch 9/14\n",
      "802/802 [==============================] - ETA: 0s - loss: 3.3822Epoch: 008 curr_lr: 3.4e-05 - train_loss: 3.3822 - val_loss: 2.5026 val_score: 0.820  best_val_score: 0.837  last_epoch t=60.83s, total_time_elapsed t=576.0s\n",
      "802/802 [==============================] - 61s 76ms/step - loss: 3.3822 - val_loss: 2.5026\n",
      "Epoch 10/14\n",
      "802/802 [==============================] - ETA: 0s - loss: 3.3663Epoch: 009 curr_lr: 3.0e-05 - train_loss: 3.3663 - val_loss: 2.5906 val_score: 0.815  best_val_score: 0.837  last_epoch t=61.14s, total_time_elapsed t=637.0s\n",
      "802/802 [==============================] - 61s 76ms/step - loss: 3.3663 - val_loss: 2.5906\n",
      "Epoch 11/14\n",
      "802/802 [==============================] - ETA: 0s - loss: 3.3402Epoch: 010 curr_lr: 2.7e-05 - train_loss: 3.3402 - val_loss: 2.4092 val_score: 0.845  best_val_score: 0.845  last_epoch t=62.60s, total_time_elapsed t=700.0s\n",
      "802/802 [==============================] - 63s 78ms/step - loss: 3.3402 - val_loss: 2.4092\n",
      "Epoch 12/14\n",
      "802/802 [==============================] - ETA: 0s - loss: 3.3253Epoch: 011 curr_lr: 2.5e-05 - train_loss: 3.3253 - val_loss: 2.5141 val_score: 0.828  best_val_score: 0.845  last_epoch t=60.97s, total_time_elapsed t=761.0s\n",
      "802/802 [==============================] - 61s 76ms/step - loss: 3.3253 - val_loss: 2.5141\n",
      "Epoch 13/14\n",
      "802/802 [==============================] - ETA: 0s - loss: 3.3121Epoch: 012 curr_lr: 2.2e-05 - train_loss: 3.3121 - val_loss: 2.5386 val_score: 0.829  best_val_score: 0.845  last_epoch t=59.90s, total_time_elapsed t=821.0s\n",
      "802/802 [==============================] - 60s 75ms/step - loss: 3.3121 - val_loss: 2.5386\n",
      "Epoch 14/14\n",
      "802/802 [==============================] - ETA: 0s - loss: 3.3118Epoch: 013 curr_lr: 2.0e-05 - train_loss: 3.3118 - val_loss: 2.5817 val_score: 0.832  best_val_score: 0.845  last_epoch t=59.41s, total_time_elapsed t=880.0s\n",
      "802/802 [==============================] - 59s 74ms/step - loss: 3.3118 - val_loss: 2.5817\n",
      "Model finished with val loss: 2.5816714763641357\n",
      "25/25 [==============================] - 4s 66ms/step\n",
      "Val Score: 0.8450064758790179\n",
      "WARNING:tensorflow:Compiled the loaded model, but the compiled metrics have yet to be built. `model.compile_metrics` will be empty until you train or evaluate the model.\n"
     ]
    },
    {
     "name": "stderr",
     "output_type": "stream",
     "text": [
      "100%|██████████| 529/529 [00:05<00:00, 98.24it/s] \n"
     ]
    },
    {
     "name": "stdout",
     "output_type": "stream",
     "text": [
      "\n",
      "\n",
      "\n",
      "-----------Starting fold: 10-----------\n",
      "\n",
      "\n",
      "\n",
      "Using 238 series for training and 26 series for validation\n",
      "Using a split len of 17280\n"
     ]
    },
    {
     "name": "stderr",
     "output_type": "stream",
     "text": [
      "100%|██████████| 238/238 [00:10<00:00, 23.07it/s]\n"
     ]
    },
    {
     "name": "stdout",
     "output_type": "stream",
     "text": [
      "X: (6484, 17280, 32), y: (6484, 17280, 2), series_ids: (6484,)\n",
      "Using a split len of 17280\n"
     ]
    },
    {
     "name": "stderr",
     "output_type": "stream",
     "text": [
      "100%|██████████| 26/26 [00:00<00:00, 32.54it/s]\n"
     ]
    },
    {
     "name": "stdout",
     "output_type": "stream",
     "text": [
      "X: (720, 17280, 32), y: (720, 17280, 2), series_ids: (720,)\n",
      "Total model parameters: 37824268\n",
      "Epoch 1/14\n",
      "811/811 [==============================] - ETA: 0s - loss: 4.2096Epoch: 000 curr_lr: 6.0e-05 - train_loss: 4.2096 - val_loss: 3.7806 val_score: 0.756  best_val_score: 0.756  last_epoch t=73.56s, total_time_elapsed t=74.0s\n",
      "811/811 [==============================] - 74s 81ms/step - loss: 4.2096 - val_loss: 3.7806\n",
      "Epoch 2/14\n",
      "810/811 [============================>.] - ETA: 0s - loss: 3.5933Epoch: 001 curr_lr: 6.0e-05 - train_loss: 3.5930 - val_loss: 3.6341 val_score: 0.770  best_val_score: 0.770  last_epoch t=61.55s, total_time_elapsed t=135.0s\n",
      "811/811 [==============================] - 62s 76ms/step - loss: 3.5930 - val_loss: 3.6341\n",
      "Epoch 3/14\n",
      "811/811 [==============================] - ETA: 0s - loss: 3.4918Epoch: 002 curr_lr: 6.0e-05 - train_loss: 3.4918 - val_loss: 3.7586 val_score: 0.771  best_val_score: 0.771  last_epoch t=61.19s, total_time_elapsed t=196.0s\n",
      "811/811 [==============================] - 61s 75ms/step - loss: 3.4918 - val_loss: 3.7586\n",
      "Epoch 4/14\n",
      "811/811 [==============================] - ETA: 0s - loss: 3.4120Epoch: 003 curr_lr: 5.7e-05 - train_loss: 3.4120 - val_loss: 3.6237 val_score: 0.770  best_val_score: 0.771  last_epoch t=57.71s, total_time_elapsed t=254.0s\n",
      "811/811 [==============================] - 58s 71ms/step - loss: 3.4120 - val_loss: 3.6237\n",
      "Epoch 5/14\n",
      "811/811 [==============================] - ETA: 0s - loss: 3.3647Epoch: 004 curr_lr: 5.1e-05 - train_loss: 3.3647 - val_loss: 3.5826 val_score: 0.769  best_val_score: 0.771  last_epoch t=59.63s, total_time_elapsed t=314.0s\n",
      "811/811 [==============================] - 60s 74ms/step - loss: 3.3647 - val_loss: 3.5826\n",
      "Epoch 6/14\n",
      "811/811 [==============================] - ETA: 0s - loss: 3.3076Epoch: 005 curr_lr: 4.6e-05 - train_loss: 3.3076 - val_loss: 3.6120 val_score: 0.774  best_val_score: 0.774  last_epoch t=61.06s, total_time_elapsed t=375.0s\n",
      "811/811 [==============================] - 61s 75ms/step - loss: 3.3076 - val_loss: 3.6120\n",
      "Epoch 7/14\n",
      "811/811 [==============================] - ETA: 0s - loss: 3.2859Epoch: 006 curr_lr: 4.2e-05 - train_loss: 3.2859 - val_loss: 3.6144 val_score: 0.778  best_val_score: 0.778  last_epoch t=61.24s, total_time_elapsed t=436.0s\n",
      "811/811 [==============================] - 61s 76ms/step - loss: 3.2859 - val_loss: 3.6144\n",
      "Epoch 8/14\n",
      "811/811 [==============================] - ETA: 0s - loss: 3.2510Epoch: 007 curr_lr: 3.7e-05 - train_loss: 3.2510 - val_loss: 3.6080 val_score: 0.789  best_val_score: 0.789  last_epoch t=60.95s, total_time_elapsed t=497.0s\n",
      "811/811 [==============================] - 61s 75ms/step - loss: 3.2510 - val_loss: 3.6080\n",
      "Epoch 9/14\n",
      "811/811 [==============================] - ETA: 0s - loss: 3.2394Epoch: 008 curr_lr: 3.4e-05 - train_loss: 3.2394 - val_loss: 3.8058 val_score: 0.775  best_val_score: 0.789  last_epoch t=58.66s, total_time_elapsed t=556.0s\n",
      "811/811 [==============================] - 59s 72ms/step - loss: 3.2394 - val_loss: 3.8058\n",
      "Epoch 10/14\n",
      "811/811 [==============================] - ETA: 0s - loss: 3.1934Epoch: 009 curr_lr: 3.0e-05 - train_loss: 3.1934 - val_loss: 3.6713 val_score: 0.781  best_val_score: 0.789  last_epoch t=58.21s, total_time_elapsed t=614.0s\n",
      "811/811 [==============================] - 58s 72ms/step - loss: 3.1934 - val_loss: 3.6713\n",
      "Epoch 11/14\n",
      "811/811 [==============================] - ETA: 0s - loss: 3.1804Epoch: 010 curr_lr: 2.7e-05 - train_loss: 3.1804 - val_loss: 3.5228 val_score: 0.793  best_val_score: 0.793  last_epoch t=61.50s, total_time_elapsed t=675.0s\n",
      "811/811 [==============================] - 62s 76ms/step - loss: 3.1804 - val_loss: 3.5228\n",
      "Epoch 12/14\n",
      "811/811 [==============================] - ETA: 0s - loss: 3.1638Epoch: 011 curr_lr: 2.5e-05 - train_loss: 3.1638 - val_loss: 3.6336 val_score: 0.790  best_val_score: 0.793  last_epoch t=58.78s, total_time_elapsed t=734.0s\n",
      "811/811 [==============================] - 59s 72ms/step - loss: 3.1638 - val_loss: 3.6336\n",
      "Epoch 13/14\n",
      "811/811 [==============================] - ETA: 0s - loss: 3.1408Epoch: 012 curr_lr: 2.2e-05 - train_loss: 3.1408 - val_loss: 3.6164 val_score: 0.788  best_val_score: 0.793  last_epoch t=58.61s, total_time_elapsed t=793.0s\n",
      "811/811 [==============================] - 59s 72ms/step - loss: 3.1408 - val_loss: 3.6164\n",
      "Epoch 14/14\n",
      "811/811 [==============================] - ETA: 0s - loss: 3.1262Epoch: 013 curr_lr: 2.0e-05 - train_loss: 3.1262 - val_loss: 3.5772 val_score: 0.789  best_val_score: 0.793  last_epoch t=59.12s, total_time_elapsed t=852.0s\n",
      "811/811 [==============================] - 59s 73ms/step - loss: 3.1262 - val_loss: 3.5772\n",
      "Model finished with val loss: 3.57720947265625\n",
      "23/23 [==============================] - 4s 67ms/step\n",
      "Val Score: 0.7928747953298481\n",
      "WARNING:tensorflow:Compiled the loaded model, but the compiled metrics have yet to be built. `model.compile_metrics` will be empty until you train or evaluate the model.\n",
      "Avg val score: 0.8211663731127243 and std val score: 0.04442420148395574\n"
     ]
    }
   ],
   "source": [
    "n_folds = 10\n",
    "fold_run_order = list(np.arange(1, n_folds+1))\n",
    "\n",
    "val_preds_lst = []\n",
    "val_series_lst = []\n",
    "val_starts_splits_lst = []\n",
    "\n",
    "val_y_lst = []\n",
    "models_lst = []\n",
    "val_scores = []\n",
    "\n",
    "model_dct = {}\n",
    "\n",
    "for fold_num in fold_run_order:\n",
    "    \n",
    "    X_s, y_s, series_ids = load_data(cfg.processed_data_path)\n",
    "    \n",
    "\n",
    "    print(f'\\n\\n\\n-----------Starting fold: {fold_num}-----------\\n\\n\\n')\n",
    "    \n",
    "    series_ids_val = splits_df.filter(pl.col(f'{n_folds}_fold') == fold_num)['series_id'].to_numpy()\n",
    "\n",
    "    val_idxs = [series_ids.index(s) for s in series_ids_val]\n",
    "    trn_idxs = np.setdiff1d(np.arange(len(series_ids)), val_idxs)\n",
    "    \n",
    "    print(f'Using {len(trn_idxs)} series for training and {len(val_idxs)} series for validation')\n",
    "\n",
    "    X_s_trn, y_s_trn, series_ids_trn = [X_s[i] for i in trn_idxs], [y_s[i] for i in trn_idxs], [series_ids[i] for i in trn_idxs]\n",
    "    X_s_val, y_s_val, series_ids_val = [X_s[i] for i in val_idxs], [y_s[i] for i in val_idxs], [series_ids[i] for i in val_idxs]\n",
    "\n",
    "    trn_ds = SleepDataset(X_s_trn, y_s_trn, series_ids_trn, cfg.samp_freq, remove_no_dets=False, is_train=True)\n",
    "    norm_params = trn_ds.norm_params\n",
    "    model_dct[fold_num] = norm_params\n",
    "    \n",
    "    val_ds = SleepDataset(X_s_val, y_s_val, series_ids_val, cfg.samp_freq, remove_no_dets=False, is_train=False, norm_params=norm_params)\n",
    "\n",
    "    del X_s_trn, y_s_trn,  X_s_val, y_s_val, series_ids_trn, X_s, y_s, series_ids\n",
    "    _ = gc.collect()\n",
    "\n",
    "\n",
    "    model = get_model(trn_ds.X.shape[1:])\n",
    "    \n",
    "    print(f'Total model parameters: {model.count_params()}')\n",
    "\n",
    "    val_events_df = train_events.filter(pl.col('series_id').is_in(series_ids_val))\n",
    "    inter_eval = IntervalEvaluation(val_ds, val_events_df, cfg.samp_freq, (trn_ds.X.shape[0]//model_cfg.batch_size)*model_cfg.n_epochs, model_cfg.start_lr, model_cfg.end_lr)\n",
    "    \n",
    "    model.fit(trn_ds.X, trn_ds.y,\n",
    "          epochs=model_cfg.n_epochs,\n",
    "          batch_size=model_cfg.batch_size,\n",
    "          callbacks=[inter_eval],\n",
    "          verbose=1,\n",
    "          validation_data=(val_ds.X, val_ds.y))\n",
    "    \n",
    "    \n",
    "    \n",
    "    last_loss = model.history.history['val_loss'][-1]\n",
    "    print(f'Model finished with val loss: {last_loss}')\n",
    "    \n",
    "    model = inter_eval.best_model\n",
    "    val_preds = model.predict(val_ds.X)\n",
    "    \n",
    "    val_score = post_process_preds(val_events_df, val_preds, val_ds.series_ids, val_ds.starts_splits, cfg.samp_freq, get_score=True)\n",
    "    print(f'Val Score: {val_score}')\n",
    "    \n",
    "    val_scores.append(val_score)\n",
    "    \n",
    "    val_y_lst.append(val_ds.y)\n",
    "    val_preds_lst.append(val_preds)\n",
    "    val_series_lst.append(val_ds.series_ids)\n",
    "    val_starts_splits_lst.append(val_ds.starts_splits)\n",
    "    \n",
    "    tf.keras.models.save_model(model, os.path.join(cfg.output_dir, cfg.ver, f'tf_model_fold_{fold_num}.h5'))\n",
    "    \n",
    "    del trn_ds, val_ds, model, inter_eval\n",
    "    _ = gc.collect()\n",
    "\n",
    "avg_val_score, std_val_score = np.mean(val_scores), np.std(val_scores)\n",
    "print(f'Avg val score: {avg_val_score} and std val score: {std_val_score}')"
   ]
  },
  {
   "cell_type": "markdown",
   "id": "35ff482f",
   "metadata": {},
   "source": [
    "###### series_ids_val"
   ]
  },
  {
   "cell_type": "code",
   "execution_count": 19,
   "id": "b6d9e397",
   "metadata": {},
   "outputs": [
    {
     "name": "stdout",
     "output_type": "stream",
     "text": [
      "(7204, 17280, 2) (7204, 17280, 2) (7204,)\n"
     ]
    }
   ],
   "source": [
    "val_starts_splits_all = np.concatenate(val_starts_splits_lst)\n",
    "val_preds_all = np.concatenate(val_preds_lst)\n",
    "val_series_all = np.concatenate(val_series_lst)\n",
    "val_y_all = np.concatenate(val_y_lst)\n",
    "\n",
    "print(val_preds_all.shape, val_y_all.shape, val_series_all.shape)"
   ]
  },
  {
   "cell_type": "code",
   "execution_count": 20,
   "id": "990abfbb",
   "metadata": {},
   "outputs": [
    {
     "name": "stdout",
     "output_type": "stream",
     "text": [
      "(127946340, 5)\n",
      "(122539680, 5)\n",
      "(124485120, 4)\n",
      "(122539680, 4)\n"
     ]
    }
   ],
   "source": [
    "# The code is creating a DataFrame `oof_preds_df` that contains the predicted values for the \"onset\" and \"wakeup\" columns.\n",
    "\n",
    "res_steps = []\n",
    "res_preds_onsets = []\n",
    "res_preds_wakeups = []\n",
    "\n",
    "res_series_ids = []\n",
    "\n",
    "start = 0\n",
    "while start < len(val_preds_all):\n",
    "    \n",
    "    end = start+1\n",
    "    while end < len(val_preds_all) and val_series_all[end] == val_series_all[start]:\n",
    "        end += 1\n",
    "        \n",
    "    preds = val_preds_all[start:end]\n",
    "    \n",
    "    steps = np.concatenate([val_starts_splits_all[idx] + np.arange(len(val_preds_all[idx])) for idx in range(start, end)])\n",
    "    preds = preds.reshape((preds.shape[0]*preds.shape[1]), 2)\n",
    "    \n",
    "    res_preds_onsets.append(preds[:, 0])\n",
    "    res_preds_wakeups.append(preds[:, 1])\n",
    "    \n",
    "    res_steps.append(steps)\n",
    "    ser_id = val_series_all[start]\n",
    "    \n",
    "    res_series_ids.append([ser_id for _ in range(len(preds))])\n",
    "    \n",
    "    start=end\n",
    "    \n",
    "    \n",
    "oof_preds_df = pl.DataFrame().with_columns([\n",
    "    pl.Series(np.concatenate(res_series_ids)).alias('series_id'),\n",
    "    pl.Series(np.concatenate(res_steps)).alias('step'),\n",
    "    pl.Series(np.concatenate(res_preds_onsets)).alias('onset'),\n",
    "    pl.Series(np.concatenate(res_preds_wakeups)).alias('wakeup')\n",
    "\n",
    "])\n",
    "\n",
    "train_series = pl.read_parquet(cfg.train_series_path)\n",
    "print(train_series.shape)\n",
    "train_series = train_series.filter(pl.col('series_id').is_in(list(np.unique(val_series_all))))\n",
    "train_series = train_series.with_columns(pl.col('step').cast(pl.Int64))\n",
    "print(train_series.shape)\n",
    "\n",
    "\n",
    "\n",
    "print(oof_preds_df.shape)\n",
    "oof_preds_df = train_series[['series_id', 'step']].join(oof_preds_df, on=['series_id', 'step'], how='left')\n",
    "print(oof_preds_df.shape)\n",
    "\n",
    "oof_preds_df.write_parquet(os.path.join(cfg.output_dir, cfg.ver, 'oof_preds.parquet'))"
   ]
  },
  {
   "cell_type": "code",
   "execution_count": 21,
   "id": "cc0cef66",
   "metadata": {},
   "outputs": [],
   "source": [
    "# !rm -r ../data_processed/{cfg.ver}"
   ]
  },
  {
   "cell_type": "code",
   "execution_count": 22,
   "id": "800ba20e",
   "metadata": {},
   "outputs": [
    {
     "name": "stdout",
     "output_type": "stream",
     "text": [
      "05e1944c3818\n"
     ]
    },
    {
     "data": {
      "image/png": "[encoded data removed]",
      "text/plain": [
       "<Figure size 640x480 with 1 Axes>"
      ]
     },
     "metadata": {},
     "output_type": "display_data"
    }
   ],
   "source": [
    "i = 2\n",
    "# sid = val_series_all.filter(pl.col())\n",
    "plt.plot(val_y_all[i], label=\"Actual Values\")\n",
    "print(val_series_all[i])\n",
    "\n",
    "plt.plot(val_preds_all[i], label=\"Predicted Values\")\n",
    "\n",
    "\n",
    "plt.legend()\n",
    "plt.show()"
   ]
  },
  {
   "cell_type": "code",
   "execution_count": 23,
   "id": "b2a3f1d7",
   "metadata": {},
   "outputs": [],
   "source": [
    "def nms_nikhil(preds_orig, k_orig=150, max_thresh=0.05, max_count=500):\n",
    "    \n",
    "    preds=preds_orig.copy()\n",
    "    preds = np.convolve(preds, np.array([0.2, 0.6, 0.2]), mode='same')\n",
    "\n",
    "    count = 0\n",
    "    base=6.75\n",
    "    \n",
    "    k = k_orig\n",
    "    prev_max = None\n",
    "\n",
    "    scores = []\n",
    "    indices = []\n",
    "    \n",
    "    while True:\n",
    "            \n",
    "        curr_max_idx = np.argmax(preds)\n",
    "        curr_max = preds[curr_max_idx] \n",
    "        \n",
    "        if (curr_max < max_thresh) or count > max_count:\n",
    "            break\n",
    "        \n",
    "        indices.append(curr_max_idx)\n",
    "        scores.append(curr_max)\n",
    "        \n",
    "        preds[curr_max_idx] = 0\n",
    "        \n",
    "        supress_rates = np.logspace(start=0, stop=1, num=k, base=base)/base\n",
    "        supress_rates[:20] = 0\n",
    "        # supress_rates[20:] += 0.1\n",
    "\n",
    "        preds[max(curr_max_idx-k, 0):curr_max_idx] *= supress_rates[:min(k, curr_max_idx-0)][::-1]\n",
    "\n",
    "        preds[curr_max_idx+1:min(curr_max_idx+k+1, preds.shape[0])] *= supress_rates[:min(k, preds.shape[0]-curr_max_idx-1)]\n",
    "\n",
    "        prev_max = curr_max\n",
    "        \n",
    "        count += 1\n",
    "        \n",
    "    return indices, scores\n",
    "\n",
    "def get_actual_preds(val_preds, val_series_ids, val_steps, type_):\n",
    "    times = []\n",
    "    series_ids = []\n",
    "    scores = []\n",
    "    scores_y = []\n",
    "    \n",
    "    for i in np.arange(len(val_preds)):\n",
    "        \n",
    "        vp_i = val_preds[i]\n",
    "        ser_id = val_series_ids[i]\n",
    "        \n",
    "        col_index = 0 if type_ == \"onset\" else 1\n",
    "        other_col_index = 1 if type_ == \"onset\" else 0\n",
    "        \n",
    "        preds = vp_i[:, col_index]\n",
    "        preds_other = vp_i[:, other_col_index]\n",
    "\n",
    "        height_thresh = 0.05\n",
    "        \n",
    "        peaks, peak_scores = nms_nikhil(preds)\n",
    "\n",
    "        times.extend(val_steps[i][peaks])\n",
    "        scores.extend(list(peak_scores))\n",
    "        series_ids.extend([ser_id] * len(peaks))\n",
    "\n",
    "    return np.array(series_ids), np.array(times), np.array(scores)\n",
    "\n",
    "\n",
    "\n",
    "\n",
    "def post_process_preds(val_events_df, val_preds, val_series_ids, val_starts_splits, samp_freq, get_score=False):\n",
    "    \n",
    "#     val_steps = np.concatenate([val_starts_splits[idx] + np.arange(len(val_preds[idx])) for idx in range(val_preds.shape[0])])\n",
    "\n",
    "    val_res = []\n",
    "    \n",
    "    prev_ser_id = None\n",
    "    \n",
    "    res_steps = []\n",
    "    res_preds = []\n",
    "    res_series_ids = []\n",
    "    \n",
    "    start = 0\n",
    "    while start < len(val_preds):\n",
    "        \n",
    "        end = start+1\n",
    "        while end < len(val_preds) and val_series_ids[end] == val_series_ids[start]:\n",
    "            end += 1\n",
    "            \n",
    "        preds = val_preds[start:end]\n",
    "        \n",
    "        steps = np.concatenate([val_starts_splits[idx] + np.arange(len(val_preds[idx])) for idx in range(start, end)])\n",
    "        preds = preds.reshape((preds.shape[0]*preds.shape[1]), 2)\n",
    "        \n",
    "        res_preds.append(preds)\n",
    "        res_steps.append(steps)\n",
    "        res_series_ids.append(val_series_ids[start])\n",
    "        \n",
    "        start=end\n",
    "        \n",
    "        \n",
    "#     print(len(res_series_ids), len(res_steps), len(res_preds))\n",
    "\n",
    "    series_ids_onsets, onsets,  scores_onsets = get_actual_preds(res_preds, res_series_ids, res_steps, 'onset')\n",
    "    series_ids_wakeups, wakeups,  scores_wakeups =get_actual_preds(res_preds, res_series_ids, res_steps, 'wakeup')\n",
    "    \n",
    "    \n",
    "    onset_preds = pl.DataFrame().with_columns([pl.Series(series_ids_onsets).alias('series_id'),\n",
    "                                           pl.Series(onsets).cast(pl.Int64).alias('step'),\n",
    "                                           pl.lit('onset').alias('event'),\n",
    "                                           pl.Series(scores_onsets).alias('score')])\n",
    "\n",
    "    wakeup_preds = pl.DataFrame().with_columns([pl.Series(series_ids_wakeups).alias('series_id'),\n",
    "                                               pl.Series(wakeups).cast(pl.Int64).cast(pl.Int64).alias('step'),\n",
    "                                               pl.lit('wakeup').alias('event'),\n",
    "                                               pl.Series(scores_wakeups).alias('score')])\n",
    "    \n",
    "    val_preds_df = pl.concat([onset_preds, wakeup_preds]).sort(by=['series_id', 'step'])\n",
    "    \n",
    "    if get_score:\n",
    "        toleranaces = {'onset': [12, 36, 60, 90, 120, 150, 180, 240, 300, 360],'wakeup': [12, 36, 60, 90, 120, 150, 180, 240, 300, 360]}\n",
    "        comp_score = metric_fast.comp_scorer(\n",
    "        val_events_df,\n",
    "        val_preds_df,\n",
    "        tolerances = toleranaces,\n",
    "        )\n",
    "        return comp_score\n",
    "    \n",
    "    else:\n",
    "        return val_preds_df"
   ]
  },
  {
   "cell_type": "code",
   "execution_count": 24,
   "id": "10354814",
   "metadata": {},
   "outputs": [
    {
     "name": "stdout",
     "output_type": "stream",
     "text": [
      "0.8104805500602077\n",
      "0.8905906691126992\n",
      "0.8447164398555154\n",
      "0.8444944727192153\n",
      "0.8127955505922131\n",
      "0.7953424761182206\n",
      "0.7191334872219555\n",
      "0.8555174238499521\n",
      "0.8498881563788429\n",
      "0.7909417592262871\n",
      "CPU times: user 35.4 s, sys: 43.5 s, total: 1min 18s\n",
      "Wall time: 1min 17s\n"
     ]
    },
    {
     "data": {
      "text/plain": [
       "(0.8213900985135109, 0.04483117438553839)"
      ]
     },
     "execution_count": 24,
     "metadata": {},
     "output_type": "execute_result"
    }
   ],
   "source": [
    "%%time\n",
    "scores = []\n",
    "\n",
    "for fold_num in range(1, n_folds+1):\n",
    "    \n",
    "    test_ser_ids = list(np.unique(val_series_lst[fold_num-1]))\n",
    "\n",
    "\n",
    "    val_events_df = train_events.filter(pl.col('series_id').is_in(test_ser_ids))\n",
    "    score = post_process_preds(val_events_df,\n",
    "                               val_preds_lst[fold_num-1],\n",
    "                               val_series_lst[fold_num-1],\n",
    "                               val_starts_splits_lst[fold_num-1],\n",
    "                               cfg.samp_freq,\n",
    "                               get_score=True)\n",
    "    print(score)\n",
    "    scores.append(score)\n",
    "    \n",
    "np.mean(scores), np.std(scores)"
   ]
  },
  {
   "cell_type": "code",
   "execution_count": 25,
   "id": "e911c72d",
   "metadata": {},
   "outputs": [],
   "source": [
    "val_preds_df = post_process_preds(val_events_df, val_preds_all, val_series_all, val_starts_splits_all, cfg.samp_freq, get_score=False)"
   ]
  },
  {
   "cell_type": "code",
   "execution_count": 26,
   "id": "b93f28c5",
   "metadata": {},
   "outputs": [],
   "source": [
    "def round_to_nearest_multiple(df, column_name='step'):\n",
    "    df[column_name] = df[column_name].apply(lambda x: x+1 if x%12==0  else x)\n",
    "    return df\n"
   ]
  },
  {
   "cell_type": "code",
   "execution_count": 27,
   "id": "b63863c7",
   "metadata": {},
   "outputs": [],
   "source": [
    "val_preds_df = round_to_nearest_multiple(val_preds_df.to_pandas())\n",
    "val_preds_df = pl.DataFrame(val_preds_df)"
   ]
  },
  {
   "cell_type": "code",
   "execution_count": 28,
   "id": "02c02a52",
   "metadata": {},
   "outputs": [],
   "source": [
    "tolerances = {'onset': [12, 36, 60, 90, 120, 150, 180, 240, 300, 360],\n",
    "               'wakeup': [12, 36, 60, 90, 120, 150, 180, 240, 300, 360]}"
   ]
  },
  {
   "cell_type": "code",
   "execution_count": 29,
   "id": "5dcf3c69",
   "metadata": {},
   "outputs": [
    {
     "data": {
      "text/plain": [
       "0.811546857079024"
      ]
     },
     "execution_count": 29,
     "metadata": {},
     "output_type": "execute_result"
    }
   ],
   "source": [
    "metric_fast.comp_scorer(train_events, val_preds_df, tolerances=tolerances)"
   ]
  },
  {
   "cell_type": "code",
   "execution_count": 30,
   "id": "fa0b2952",
   "metadata": {},
   "outputs": [
    {
     "data": {
      "text/plain": [
       "(261376, 4)"
      ]
     },
     "execution_count": 30,
     "metadata": {},
     "output_type": "execute_result"
    }
   ],
   "source": [
    "val_preds_df.shape"
   ]
  },
  {
   "cell_type": "code",
   "execution_count": 31,
   "id": "3bbdae54",
   "metadata": {},
   "outputs": [
    {
     "name": "stderr",
     "output_type": "stream",
     "text": [
      "100%|██████████| 26/26 [00:06<00:00,  4.31it/s]\n"
     ]
    }
   ],
   "source": [
    "preds_partitions  = val_preds_df.partition_by(by=['series_id'], maintain_order=True, as_dict=True)\n",
    "events_partitions  = val_events_df.partition_by(by=['series_id'], maintain_order=True, as_dict=True)\n",
    "\n",
    "tolerances = {'onset': [12, 36, 60, 90, 120, 150, 180, 240, 300, 360],\n",
    "               'wakeup': [12, 36, 60, 90, 120, 150, 180, 240, 300, 360]}\n",
    "\n",
    "scores_dict = {}\n",
    "for ser_id in tqdm(events_partitions.keys()):\n",
    "    scores_dict[ser_id] = metric_fast.comp_scorer(events_partitions[ser_id], preds_partitions[ser_id],\n",
    "                                                  tolerances)\n",
    "    "
   ]
  },
  {
   "cell_type": "code",
   "execution_count": 32,
   "id": "47012ab1",
   "metadata": {},
   "outputs": [
    {
     "data": {
      "text/plain": [
       "a596ad0b82aa    0.354350\n",
       "0a96f4993bd7    0.576204\n",
       "062dbd4c95e6    0.627559\n",
       "fa149c3c4bde    0.729653\n",
       "aa81faa78747    0.731018\n",
       "de6fedfb6139    0.742531\n",
       "ad425f3ee76d    0.781065\n",
       "c68260cc9e8f    0.793531\n",
       "51c49c540b4e    0.797994\n",
       "c908a0ad3e31    0.803042\n",
       "83fa182bec3a    0.806568\n",
       "bfe41e96d12f    0.810714\n",
       "0cd1e3d0ed95    0.849057\n",
       "1c7c0bad1263    0.855242\n",
       "e2b60820c325    0.869627\n",
       "c8053490cec2    0.882568\n",
       "e586cbfa7762    0.891209\n",
       "eec197a4bdca    0.891943\n",
       "ebb6fae8ed43    0.907523\n",
       "9ddd40f2cb36    0.920076\n",
       "87a6cbb7c4ed    0.927780\n",
       "78569a801a38    0.929197\n",
       "2b0a1fa8eba8    0.933291\n",
       "c7d693f24684    0.956661\n",
       "1b92be89db4c    0.956774\n",
       "939932f1822d    0.975336\n",
       "dtype: float64"
      ]
     },
     "execution_count": 32,
     "metadata": {},
     "output_type": "execute_result"
    }
   ],
   "source": [
    "pd.Series(scores_dict).sort_values()"
   ]
  },
  {
   "cell_type": "code",
   "execution_count": 33,
   "id": "d6a12ac0",
   "metadata": {},
   "outputs": [],
   "source": [
    "cfg_attributes_dict = {k: v for k, v in cfg.__dict__.items() if not k.startswith('__') and not callable(v)}\n",
    "joblib.dump(cfg_attributes_dict, os.path.join(cfg.output_dir, cfg.ver, 'cfg.pkl'))\n",
    "joblib.dump(model_dct, os.path.join(cfg.output_dir, cfg.ver, 'model_dct.pkl'))\n",
    "\n",
    "np.save(os.path.join(cfg.output_dir, cfg.ver, 'val_series_all.npy'), val_series_all)\n",
    "\n",
    "\n",
    "val_preds_df.to_pandas().to_csv(os.path.join(cfg.output_dir, cfg.ver, 'val_preds_df.csv'), index=False)\n",
    "\n",
    "np.save(os.path.join(cfg.output_dir, cfg.ver, 'val_preds_all.npy'), val_preds_all)\n",
    "np.save(os.path.join(cfg.output_dir, cfg.ver, 'val_y_all.npy'), val_y_all)"
   ]
  },
  {
   "cell_type": "code",
   "execution_count": 34,
   "id": "89201dfe",
   "metadata": {},
   "outputs": [],
   "source": [
    "import json\n",
    "\n",
    "meta_json = {\n",
    "  \"title\": f\"sleep-model-{cfg.ver}\",\n",
    "  \"id\": f\"nikhilmishradev/sleep-model-{cfg.ver}\",\n",
    "  \"licenses\": [\n",
    "    {\n",
    "      \"name\": \"CC0-1.0\"\n",
    "    }\n",
    "  ]\n",
    "}\n",
    "\n",
    "\n",
    "\n",
    "json.dump(meta_json, open(os.path.join(cfg.output_dir, cfg.ver, 'dataset-metadata.json'), 'w'))"
   ]
  },
  {
   "cell_type": "code",
   "execution_count": 35,
   "id": "482e8991",
   "metadata": {},
   "outputs": [
    {
     "name": "stdout",
     "output_type": "stream",
     "text": [
      "\u001b[33mWARNING: Running pip as the 'root' user can result in broken permissions and conflicting behaviour with the system package manager. It is recommended to use a virtual environment instead: https://pip.pypa.io/warnings/venv\u001b[0m\u001b[33m\n",
      "\u001b[0mWarning: Your Kaggle API key is readable by other users on this system! To fix this, you can run 'chmod 600 /home/.kaggle/kaggle.json'\n",
      "Skipping folder: .ipynb_checkpoints; use '--dir-mode' to upload folders\n",
      "Starting upload for file cfg.pkl\n",
      "100%|███████████████████████████████████████████| 119/119 [00:03<00:00, 39.3B/s]\n",
      "Upload successful: cfg.pkl (119B)\n",
      "Starting upload for file model_dct.pkl\n",
      "100%|██████████████████████████████████████| 4.00k/4.00k [00:02<00:00, 1.77kB/s]\n",
      "Upload successful: model_dct.pkl (4KB)\n",
      "Starting upload for file oof_preds.parquet\n",
      "100%|██████████████████████████████████████| 1.02G/1.02G [01:00<00:00, 18.3MB/s]\n",
      "Upload successful: oof_preds.parquet (1GB)\n",
      "Starting upload for file tf_model_fold_1.h5\n",
      "100%|████████████████████████████████████████| 145M/145M [00:11<00:00, 13.6MB/s]\n",
      "Upload successful: tf_model_fold_1.h5 (145MB)\n",
      "Starting upload for file tf_model_fold_10.h5\n",
      "100%|████████████████████████████████████████| 145M/145M [00:11<00:00, 13.1MB/s]\n",
      "Upload successful: tf_model_fold_10.h5 (145MB)\n",
      "Starting upload for file tf_model_fold_2.h5\n",
      "100%|████████████████████████████████████████| 145M/145M [00:13<00:00, 11.3MB/s]\n",
      "Upload successful: tf_model_fold_2.h5 (145MB)\n",
      "Starting upload for file tf_model_fold_3.h5\n",
      "100%|████████████████████████████████████████| 145M/145M [00:10<00:00, 14.1MB/s]\n",
      "Upload successful: tf_model_fold_3.h5 (145MB)\n",
      "Starting upload for file tf_model_fold_4.h5\n",
      "100%|████████████████████████████████████████| 145M/145M [00:11<00:00, 12.7MB/s]\n",
      "Upload successful: tf_model_fold_4.h5 (145MB)\n",
      "Starting upload for file tf_model_fold_5.h5\n",
      "100%|████████████████████████████████████████| 145M/145M [00:11<00:00, 13.3MB/s]\n",
      "Upload successful: tf_model_fold_5.h5 (145MB)\n",
      "Starting upload for file tf_model_fold_6.h5\n",
      "100%|████████████████████████████████████████| 145M/145M [00:10<00:00, 14.1MB/s]\n",
      "Upload successful: tf_model_fold_6.h5 (145MB)\n",
      "Starting upload for file tf_model_fold_7.h5\n",
      "100%|████████████████████████████████████████| 145M/145M [00:11<00:00, 13.8MB/s]\n",
      "Upload successful: tf_model_fold_7.h5 (145MB)\n",
      "Starting upload for file tf_model_fold_8.h5\n",
      "100%|████████████████████████████████████████| 145M/145M [00:10<00:00, 13.9MB/s]\n",
      "Upload successful: tf_model_fold_8.h5 (145MB)\n",
      "Starting upload for file tf_model_fold_9.h5\n",
      "100%|████████████████████████████████████████| 145M/145M [00:11<00:00, 13.5MB/s]\n",
      "Upload successful: tf_model_fold_9.h5 (145MB)\n",
      "Starting upload for file val_preds_df.csv\n",
      "100%|██████████████████████████████████████| 11.3M/11.3M [00:03<00:00, 3.04MB/s]\n",
      "Upload successful: val_preds_df.csv (11MB)\n",
      "Starting upload for file val_series_all.npy\n",
      "100%|█████████████████████████████████████████| 338k/338k [00:02<00:00, 143kB/s]\n",
      "Upload successful: val_series_all.npy (338KB)\n",
      "Your private Dataset is being created. Please check progress at https://www.kaggle.com/datasets/nikhilmishradev/sleep-model-fm-v21-final\n"
     ]
    }
   ],
   "source": [
    "# !rm -r ../outputs/vx/*\n",
    "# !cp -r {os.path.join(cfg.output_dir, cfg.ver)}/* ../outputs/vx\n",
    "# !rm ../outputs/vx/val_preds_all.npy ../outputs/vx/val_y_all.npy\n",
    "# !pip install -q kaggle\n",
    "# !kaggle datasets create -p ../outputs/vx"
   ]
  },
  {
   "cell_type": "code",
   "execution_count": 36,
   "id": "a4ed9dbf",
   "metadata": {},
   "outputs": [],
   "source": [
    "np.save(os.path.join(cfg.output_dir, cfg.ver, 'val_preds_all.npy'), val_preds_all)\n",
    "np.save(os.path.join(cfg.output_dir, cfg.ver, 'val_y_all.npy'), val_y_all)"
   ]
  },
  {
   "cell_type": "code",
   "execution_count": 37,
   "id": "61dd1def",
   "metadata": {},
   "outputs": [
    {
     "data": {
      "text/plain": [
       "'fm-v21-final'"
      ]
     },
     "execution_count": 37,
     "metadata": {},
     "output_type": "execute_result"
    }
   ],
   "source": [
    "cfg.ver"
   ]
  },
  {
   "cell_type": "code",
   "execution_count": null,
   "id": "bfdf4d4b",
   "metadata": {},
   "outputs": [],
   "source": []
  }
 ],
 "metadata": {
  "kernelspec": {
   "display_name": "Python 3 (ipykernel)",
   "language": "python",
   "name": "python3"
  },
  "language_info": {
   "codemirror_mode": {
    "name": "ipython",
    "version": 3
   },
   "file_extension": ".py",
   "mimetype": "text/x-python",
   "name": "python",
   "nbconvert_exporter": "python",
   "pygments_lexer": "ipython3",
   "version": "3.8.10"
  }
 },
 "nbformat": 4,
 "nbformat_minor": 5
}
