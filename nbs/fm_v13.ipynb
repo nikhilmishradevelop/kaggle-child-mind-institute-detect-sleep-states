{
 "cells": [
  {
   "cell_type": "code",
   "execution_count": 6,
   "id": "33b94e6b",
   "metadata": {},
   "outputs": [
    {
     "data": {
      "text/plain": [
       "<module 'src.metric_fast' from '/home/sleep-kaggle/kaggle_submit_solution/nbs/../src/metric_fast.py'>"
      ]
     },
     "execution_count": 6,
     "metadata": {},
     "output_type": "execute_result"
    }
   ],
   "source": [
    "import pandas as pd\n",
    "import polars as pl\n",
    "import numpy as np\n",
    "from tqdm import tqdm\n",
    "import gc\n",
    "import json\n",
    "\n",
    "import tensorflow as tf\n",
    "import tensorflow_addons as tfa\n",
    "import matplotlib.pyplot as plt\n",
    "from sklearn.model_selection import KFold\n",
    "import gc\n",
    "import os\n",
    "import sys\n",
    "sys.path.append('..')\n",
    "\n",
    "from src import metric_fast\n",
    "import joblib\n",
    "import time\n",
    "import importlib\n",
    "importlib.reload(metric_fast)"
   ]
  },
  {
   "cell_type": "code",
   "execution_count": 30,
   "id": "e630b9d5",
   "metadata": {},
   "outputs": [],
   "source": [
    "# pip freeze > ../requirements.txt"
   ]
  },
  {
   "cell_type": "code",
   "execution_count": 7,
   "id": "f58ab388",
   "metadata": {},
   "outputs": [],
   "source": [
    "class cfg:\n",
    "    samp_freq=1\n",
    "    gaussian_overlay_len = 60\n",
    "    std_dev_num = 2400\n",
    "    ver='fm-v13-final'"
   ]
  },
  {
   "cell_type": "code",
   "execution_count": 8,
   "id": "ee9a3116",
   "metadata": {},
   "outputs": [
    {
     "name": "stdout",
     "output_type": "stream",
     "text": [
      "{'train_events_path': '../data/train_events.csv', 'train_series_path': '../data/train_series.parquet', 'processed_data_path': '../data_processed_models', 'models_path': '../outputs'}\n",
      "{'__module__': '__main__', 'samp_freq': 1, 'gaussian_overlay_len': 60, 'std_dev_num': 2400, 'output_dir': '../outputs', 'ver': 'fm-v13-final', '__dict__': <attribute '__dict__' of 'cfg' objects>, '__weakref__': <attribute '__weakref__' of 'cfg' objects>, '__doc__': None, 'train_events_path': '../data/train_events.csv', 'train_series_path': '../data/train_series.parquet', 'processed_data_path': '../data_processed_models', 'models_path': '../outputs'}\n"
     ]
    }
   ],
   "source": [
    "settings_json = json.load(open('../settings.json', 'r'))\n",
    "print(settings_json)\n",
    "\n",
    "for k,v in settings_json.items():\n",
    "    setattr(cfg, k, v)\n",
    "    \n",
    "print(cfg.__dict__)"
   ]
  },
  {
   "cell_type": "code",
   "execution_count": 9,
   "id": "6f380211",
   "metadata": {},
   "outputs": [
    {
     "name": "stdout",
     "output_type": "stream",
     "text": [
      "CPU times: user 0 ns, sys: 3.3 ms, total: 3.3 ms\n",
      "Wall time: 3.28 ms\n"
     ]
    },
    {
     "name": "stderr",
     "output_type": "stream",
     "text": [
      "Could not mmap compressed IPC file, defaulting to normal read. Toggle off 'memory_map' to silence this warning.\n"
     ]
    }
   ],
   "source": [
    "%%time\n",
    "train_events = pl.read_ipc(os.path.join(cfg.processed_data_path, 'train_events.ipc'))"
   ]
  },
  {
   "cell_type": "code",
   "execution_count": 11,
   "id": "5a58c334",
   "metadata": {},
   "outputs": [],
   "source": [
    "splits_df = train_events[['series_id']].unique(maintain_order=True)\n",
    "splits_df = splits_df.to_pandas()\n",
    "\n",
    "for n_splits in [5, 7, 10]:\n",
    "    folds = KFold(n_splits, shuffle=True, random_state=5)\n",
    "\n",
    "    splits_df[f'{n_splits}_fold'] = 0\n",
    "    for i, (trn_idx, val_idx) in enumerate(folds.split(splits_df['series_id'], splits_df['series_id'])):\n",
    "        \n",
    "        splits_df.loc[val_idx, f'{n_splits}_fold'] = i+1\n",
    "        \n",
    "        \n",
    "splits_df = pl.DataFrame(splits_df)"
   ]
  },
  {
   "cell_type": "code",
   "execution_count": 12,
   "id": "deb1b8d9",
   "metadata": {},
   "outputs": [
    {
     "data": {
      "text/html": [
       "<div><style>\n",
       ".dataframe > thead > tr,\n",
       ".dataframe > tbody > tr {\n",
       "  text-align: right;\n",
       "  white-space: pre-wrap;\n",
       "}\n",
       "</style>\n",
       "<small>shape: (264, 4)</small><table border=\"1\" class=\"dataframe\"><thead><tr><th>series_id</th><th>5_fold</th><th>7_fold</th><th>10_fold</th></tr><tr><td>str</td><td>i64</td><td>i64</td><td>i64</td></tr></thead><tbody><tr><td>&quot;038441c925bb&quot;</td><td>5</td><td>6</td><td>9</td></tr><tr><td>&quot;03d92c9f6f8a&quot;</td><td>2</td><td>3</td><td>4</td></tr><tr><td>&quot;0402a003dae9&quot;</td><td>5</td><td>6</td><td>9</td></tr><tr><td>&quot;04f547b8017d&quot;</td><td>1</td><td>1</td><td>2</td></tr><tr><td>&quot;05e1944c3818&quot;</td><td>3</td><td>4</td><td>6</td></tr><tr><td>&quot;062cae666e2a&quot;</td><td>5</td><td>6</td><td>9</td></tr><tr><td>&quot;062dbd4c95e6&quot;</td><td>1</td><td>1</td><td>2</td></tr><tr><td>&quot;08db4255286f&quot;</td><td>5</td><td>7</td><td>10</td></tr><tr><td>&quot;0a96f4993bd7&quot;</td><td>5</td><td>7</td><td>10</td></tr><tr><td>&quot;0cd1e3d0ed95&quot;</td><td>4</td><td>5</td><td>7</td></tr><tr><td>&quot;0cfc06c129cc&quot;</td><td>3</td><td>4</td><td>6</td></tr><tr><td>&quot;0d0ad1e77851&quot;</td><td>4</td><td>6</td><td>8</td></tr><tr><td>&hellip;</td><td>&hellip;</td><td>&hellip;</td><td>&hellip;</td></tr><tr><td>&quot;f2c2436cf7b7&quot;</td><td>2</td><td>3</td><td>3</td></tr><tr><td>&quot;f564985ab692&quot;</td><td>1</td><td>1</td><td>2</td></tr><tr><td>&quot;f56824b503a0&quot;</td><td>5</td><td>6</td><td>9</td></tr><tr><td>&quot;f6d2cc003183&quot;</td><td>4</td><td>6</td><td>8</td></tr><tr><td>&quot;f7eb179216c2&quot;</td><td>1</td><td>1</td><td>1</td></tr><tr><td>&quot;f88e18cb4100&quot;</td><td>5</td><td>7</td><td>10</td></tr><tr><td>&quot;f981a0805fd0&quot;</td><td>2</td><td>3</td><td>4</td></tr><tr><td>&quot;fa149c3c4bde&quot;</td><td>4</td><td>5</td><td>7</td></tr><tr><td>&quot;fb223ed2278c&quot;</td><td>2</td><td>3</td><td>4</td></tr><tr><td>&quot;fbf33b1a2c10&quot;</td><td>4</td><td>5</td><td>7</td></tr><tr><td>&quot;fcca183903b7&quot;</td><td>4</td><td>5</td><td>7</td></tr><tr><td>&quot;fe90110788d2&quot;</td><td>5</td><td>6</td><td>9</td></tr></tbody></table></div>"
      ],
      "text/plain": [
       "shape: (264, 4)\n",
       "┌──────────────┬────────┬────────┬─────────┐\n",
       "│ series_id    ┆ 5_fold ┆ 7_fold ┆ 10_fold │\n",
       "│ ---          ┆ ---    ┆ ---    ┆ ---     │\n",
       "│ str          ┆ i64    ┆ i64    ┆ i64     │\n",
       "╞══════════════╪════════╪════════╪═════════╡\n",
       "│ 038441c925bb ┆ 5      ┆ 6      ┆ 9       │\n",
       "│ 03d92c9f6f8a ┆ 2      ┆ 3      ┆ 4       │\n",
       "│ 0402a003dae9 ┆ 5      ┆ 6      ┆ 9       │\n",
       "│ 04f547b8017d ┆ 1      ┆ 1      ┆ 2       │\n",
       "│ …            ┆ …      ┆ …      ┆ …       │\n",
       "│ fb223ed2278c ┆ 2      ┆ 3      ┆ 4       │\n",
       "│ fbf33b1a2c10 ┆ 4      ┆ 5      ┆ 7       │\n",
       "│ fcca183903b7 ┆ 4      ┆ 5      ┆ 7       │\n",
       "│ fe90110788d2 ┆ 5      ┆ 6      ┆ 9       │\n",
       "└──────────────┴────────┴────────┴─────────┘"
      ]
     },
     "execution_count": 12,
     "metadata": {},
     "output_type": "execute_result"
    }
   ],
   "source": [
    "splits_df"
   ]
  },
  {
   "cell_type": "code",
   "execution_count": null,
   "id": "68262be4",
   "metadata": {},
   "outputs": [],
   "source": []
  },
  {
   "cell_type": "code",
   "execution_count": 13,
   "id": "02d23411",
   "metadata": {},
   "outputs": [],
   "source": [
    "def load_data(directory):\n",
    "    X_s = []\n",
    "    y_s = []\n",
    "    series_ids = []\n",
    "\n",
    "    for filename in tqdm(os.listdir(directory)):\n",
    "        if filename.endswith('_X.npy'):\n",
    "            series_id = filename.split('_X.npy')[0]\n",
    "            X = np.load(os.path.join(directory, filename))\n",
    "            y = np.load(os.path.join(directory, f'{series_id}_y.npy'))\n",
    "\n",
    "            X_s.append(X)\n",
    "            y_s.append(y)\n",
    "            series_ids.append(series_id)\n",
    "\n",
    "    return X_s, y_s, series_ids"
   ]
  },
  {
   "cell_type": "code",
   "execution_count": 14,
   "id": "a0ad2da0",
   "metadata": {},
   "outputs": [],
   "source": [
    "def normalize_y(y):\n",
    "    \n",
    "    for i in range(y.shape[1]):\n",
    "        \n",
    "        mean = y[:,i].mean()\n",
    "        std = y[:,i].std()\n",
    "        y[:,i] = (y[:,i]-mean)/(std+1e-16)\n",
    "    \n",
    "    return y"
   ]
  },
  {
   "cell_type": "code",
   "execution_count": 15,
   "id": "9c515709",
   "metadata": {},
   "outputs": [],
   "source": [
    "def split_and_pad(X, y=None, split_length=1440, stride=1440):\n",
    "    \"\"\"\n",
    "    Splits and pads the arrays X and y using a sliding window.\n",
    "\n",
    "    Parameters:\n",
    "    - X (np.array): Array with shape (timesteps, features)\n",
    "    - y (np.array): Array with shape (timesteps, 2)\n",
    "    - split_length (int): Desired timestep length for the resulting arrays.\n",
    "    - stride (int): Step size for sliding window.\n",
    "\n",
    "    Returns:\n",
    "    - List of arrays for X and y, each with shape (split_length, features)\n",
    "    \"\"\"\n",
    "    \n",
    "    if y is not None and len(X) != len(y):\n",
    "        raise ValueError(\"X and y should have the same number of timesteps.\")\n",
    "    \n",
    "    timesteps, features = X.shape\n",
    "    \n",
    "    # Create empty lists to store split segments\n",
    "    X_splits = []\n",
    "    y_splits = []\n",
    "    starts = []\n",
    "    \n",
    "    # Use sliding window to extract segments\n",
    "    \n",
    "    for start in range(0, timesteps, stride):\n",
    "        end = start + split_length\n",
    "        if end <= timesteps:\n",
    "            starts.append(start)\n",
    "            X_splits.append(X[start:end].copy())\n",
    "            if y is not None:\n",
    "                y_splits.append(y[start:end].copy())\n",
    "        else:\n",
    "            # If the segment is shorter than split_length, pad it\n",
    "            starts.append(start)\n",
    "            padding_length = end - timesteps\n",
    "            X_segment_padded = np.pad(X[start:], ((0, padding_length), (0, 0)), mode='constant', constant_values=-9)\n",
    "            X_splits.append(X_segment_padded)\n",
    "            \n",
    "            if y is not None:\n",
    "                y_segment_padded = np.pad(y[start:], ((0, padding_length), (0, 0)), mode='constant', constant_values=0)\n",
    "                y_splits.append(y_segment_padded)\n",
    "                \n",
    "            break\n",
    "            \n",
    "            \n",
    "    if y is not None:\n",
    "        return X_splits, y_splits, starts\n",
    "    \n",
    "    return X_splits, starts\n",
    "\n",
    "\n",
    "\n",
    "class SleepDataset:\n",
    "    \n",
    "    def __init__(self, X_s, y_s=None, series_ids=None, samp_freq=None, remove_no_dets=True, is_train=False, split_factor=1, norm_params=None):\n",
    "        \n",
    "        self.split_len = (24*60*12) // cfg.samp_freq\n",
    "        self.split_strides = self.split_len\n",
    "        self.remove_no_dets = remove_no_dets\n",
    "        self.is_train = is_train\n",
    "\n",
    "        print(f'Using a split len of {self.split_len}')\n",
    "        self.create_dataset(X_s, y_s, series_ids)\n",
    "\n",
    "        if self.is_train:\n",
    "            self.norm_params = self.calculate_norm_params()\n",
    "        else:\n",
    "            if norm_params is None:\n",
    "                raise ValueError(\"Normalization parameters must be provided for non-training data.\")\n",
    "            self.norm_params = norm_params\n",
    "\n",
    "        self.normalize_data()\n",
    "\n",
    "    def calculate_norm_params(self):\n",
    "        mean = np.mean(self.X, axis=(0, 1))\n",
    "        std = np.std(self.X, axis=(0, 1))\n",
    "        return {'mean': mean, 'std': std}\n",
    "\n",
    "    def normalize_data(self):\n",
    "        self.X = (self.X - self.norm_params['mean']) / (1e-6 + self.norm_params['std'])\n",
    "        \n",
    "        \n",
    "    def create_dataset(self, X_s, y_s=None, series_ids=None):\n",
    "        X_s_splits, y_s_splits, series_splits, starts_splits = [], [], [], []\n",
    "\n",
    "        for i in tqdm(range(len(X_s))):\n",
    "            x_splits, starts = split_and_pad(X_s[i].copy(), split_length = self.split_len, stride=self.split_strides)\n",
    "            X_s_splits.extend(x_splits)\n",
    "            starts_splits.extend(starts)\n",
    "\n",
    "            if y_s is not None:\n",
    "                _, y_splits, _ = split_and_pad(X_s[i].copy(), y_s[i].copy(), split_length=self.split_len, stride=self.split_strides)\n",
    "                y_s_splits.extend(y_splits)\n",
    "\n",
    "            if series_ids is not None:\n",
    "                series_splits.extend([series_ids[i] for _ in range(len(x_splits))])\n",
    "            \n",
    "        self.X = np.array(X_s_splits)\n",
    "        self.starts_splits = np.array(starts_splits)\n",
    "        \n",
    "        if y_s is not None:\n",
    "            self.y = np.array(y_s_splits)\n",
    "\n",
    "            if self.remove_no_dets:\n",
    "                fltr = (self.y[:, :, 1].sum(axis=1) + self.y[:, :, 0].sum(axis=1)) != 0\n",
    "                self.X = self.X[fltr]\n",
    "                self.y = self.y[fltr]\n",
    "                if series_ids is not None:\n",
    "                    self.series_ids = np.array(series_splits)[fltr]\n",
    "                else:\n",
    "                    self.series_ids = None\n",
    "            \n",
    "            self.y = np.array([normalize_y(yts) for yts in self.y])\n",
    "\n",
    "        else:\n",
    "            self.y = None\n",
    "\n",
    "        if series_ids is not None:\n",
    "            if not hasattr(self, 'series_ids'):\n",
    "                self.series_ids = np.array(series_splits)\n",
    "            print(f'X: {self.X.shape}, y: {self.y.shape if self.y is not None else \"Not provided\"}, series_ids: {self.series_ids.shape}')\n",
    "        else:\n",
    "            print(f'X: {self.X.shape}, y: {self.y.shape if self.y is not None else \"Not provided\"}')"
   ]
  },
  {
   "cell_type": "code",
   "execution_count": 16,
   "id": "20edbd34",
   "metadata": {},
   "outputs": [],
   "source": [
    "def nms_nikhil(preds_orig, k_orig=125, max_thresh=0.05, max_count=1000):\n",
    "    \n",
    "    preds=preds_orig.copy()\n",
    "\n",
    "    count = 0\n",
    "    base=6.75\n",
    "    \n",
    "    k = k_orig\n",
    "    prev_max = None\n",
    "\n",
    "    scores = []\n",
    "    indices = []\n",
    "    \n",
    "    while True:\n",
    "            \n",
    "        curr_max_idx = np.argmax(preds)\n",
    "        curr_max = preds[curr_max_idx] \n",
    "        \n",
    "        if (curr_max < max_thresh) or count > max_count:\n",
    "            break\n",
    "        \n",
    "        indices.append(curr_max_idx)\n",
    "        scores.append(curr_max)\n",
    "        \n",
    "        preds[curr_max_idx] = 0\n",
    "        \n",
    "        supress_rates = np.logspace(start=0, stop=1, num=k, base=base)/base\n",
    "\n",
    "        preds[max(curr_max_idx-k, 0):curr_max_idx] *= supress_rates[:min(k, curr_max_idx-0)][::-1]\n",
    "        preds[curr_max_idx+1:min(curr_max_idx+k+1, preds.shape[0])] *= supress_rates[:min(k, preds.shape[0]-curr_max_idx-1)]\n",
    "\n",
    "        prev_max = curr_max\n",
    "        \n",
    "        count += 1\n",
    "        \n",
    "    return indices, scores\n",
    "\n",
    "def get_actual_preds(val_preds, val_series_ids, val_steps, type_):\n",
    "    times = []\n",
    "    series_ids = []\n",
    "    scores = []\n",
    "    scores_y = []\n",
    "    \n",
    "    for i in np.arange(len(val_preds)):\n",
    "        \n",
    "        vp_i = val_preds[i]\n",
    "        ser_id = val_series_ids[i]\n",
    "        \n",
    "        col_index = 0 if type_ == \"onset\" else 1\n",
    "        other_col_index = 1 if type_ == \"onset\" else 0\n",
    "        \n",
    "        preds = vp_i[:, col_index]\n",
    "        preds_other = vp_i[:, other_col_index]\n",
    "\n",
    "        height_thresh = 0.05\n",
    "        \n",
    "        peaks, peak_scores = nms_nikhil(preds)\n",
    "\n",
    "        times.extend(val_steps[i][peaks])\n",
    "        scores.extend(list(peak_scores))\n",
    "        series_ids.extend([ser_id] * len(peaks))\n",
    "\n",
    "    return np.array(series_ids), np.array(times), np.array(scores)\n",
    "\n",
    "\n",
    "def post_process_preds(val_events_df, val_preds, val_series_ids, val_starts_splits, samp_freq, get_score=False):\n",
    "    \n",
    "#     val_steps = np.concatenate([val_starts_splits[idx] + np.arange(len(val_preds[idx])) for idx in range(val_preds.shape[0])])\n",
    "\n",
    "    val_res = []\n",
    "    \n",
    "    prev_ser_id = None\n",
    "    \n",
    "    res_steps = []\n",
    "    res_preds = []\n",
    "    res_series_ids = []\n",
    "    \n",
    "    start = 0\n",
    "    while start < len(val_preds):\n",
    "        \n",
    "        end = start+1\n",
    "        while end < len(val_preds) and val_series_ids[end] == val_series_ids[start]:\n",
    "            end += 1\n",
    "            \n",
    "        preds = val_preds[start:end]\n",
    "        \n",
    "        steps = np.concatenate([val_starts_splits[idx] + np.arange(len(val_preds[idx])) for idx in range(start, end)])\n",
    "        preds = preds.reshape((preds.shape[0]*preds.shape[1]), 2)\n",
    "        \n",
    "        res_preds.append(preds)\n",
    "        res_steps.append(steps)\n",
    "        res_series_ids.append(val_series_ids[start])\n",
    "        \n",
    "        start=end\n",
    "        \n",
    "        \n",
    "#     print(len(res_series_ids), len(res_steps), len(res_preds))\n",
    "\n",
    "    series_ids_onsets, onsets,  scores_onsets = get_actual_preds(res_preds, res_series_ids, res_steps, 'onset')\n",
    "    series_ids_wakeups, wakeups,  scores_wakeups =get_actual_preds(res_preds, res_series_ids, res_steps, 'wakeup')\n",
    "    \n",
    "    \n",
    "    onset_preds = pl.DataFrame().with_columns([pl.Series(series_ids_onsets).alias('series_id'),\n",
    "                                           pl.Series(onsets).cast(pl.Int64).alias('step'),\n",
    "                                           pl.lit('onset').alias('event'),\n",
    "                                           pl.Series(scores_onsets).alias('score')])\n",
    "\n",
    "    wakeup_preds = pl.DataFrame().with_columns([pl.Series(series_ids_wakeups).alias('series_id'),\n",
    "                                               pl.Series(wakeups).cast(pl.Int64).cast(pl.Int64).alias('step'),\n",
    "                                               pl.lit('wakeup').alias('event'),\n",
    "                                               pl.Series(scores_wakeups).alias('score')])\n",
    "    \n",
    "    val_preds_df = pl.concat([onset_preds, wakeup_preds]).sort(by=['series_id', 'step'])\n",
    "    \n",
    "    if get_score:\n",
    "        toleranaces = {'onset': [12, 36, 60, 90, 120, 150, 180, 240, 300, 360],'wakeup': [12, 36, 60, 90, 120, 150, 180, 240, 300, 360]}\n",
    "        comp_score = metric_fast.comp_scorer(\n",
    "        val_events_df,\n",
    "        val_preds_df,\n",
    "        tolerances = toleranaces,\n",
    "        )\n",
    "        return comp_score\n",
    "    \n",
    "    else:\n",
    "        return val_preds_df"
   ]
  },
  {
   "cell_type": "code",
   "execution_count": 17,
   "id": "1a630548",
   "metadata": {},
   "outputs": [],
   "source": [
    "def calculate_exponential_lr(start_lr, end_lr, num_steps, decay_rate=None):\n",
    "    \"\"\"\n",
    "    Calculate the exponentially decreasing learning rates.\n",
    "\n",
    "    Parameters:\n",
    "    start_lr (float): Initial learning rate.\n",
    "    end_lr (float): Final learning rate.\n",
    "    num_steps (int): Total number of steps over which the learning rate should decay.\n",
    "    decay_rate (float): Decay rate per step. If None, it will be computed based on start_lr, end_lr, and num_steps.\n",
    "\n",
    "    Returns:\n",
    "    list: A list containing the learning rate for each step.\n",
    "    \"\"\"\n",
    "    if decay_rate is None:\n",
    "        # Calculate decay rate based on the start_lr, end_lr, and num_steps\n",
    "        decay_rate = (end_lr / start_lr) ** (1 / (num_steps - 1))\n",
    "\n",
    "    learning_rates = [start_lr * (decay_rate ** step) for step in range(num_steps)]\n",
    "    return learning_rates\n",
    "\n"
   ]
  },
  {
   "cell_type": "code",
   "execution_count": 18,
   "id": "8cf0fbe2",
   "metadata": {},
   "outputs": [],
   "source": [
    "class IntervalEvaluation(tf.keras.callbacks.Callback):\n",
    "    def __init__(self, val_ds, val_events_df, samp_freq, n_steps, start_lr, end_lr):\n",
    "\n",
    "        super(tf.keras.callbacks.Callback, self).__init__()\n",
    "        self.val_ds = val_ds\n",
    "        self.val_events_df = val_events_df\n",
    "        self.samp_freq = samp_freq\n",
    "        \n",
    "        warmup_pct_steps = 0.25\n",
    "        warmup_steps = int(n_steps * warmup_pct_steps)\n",
    "        self.learning_rates = [start_lr] * (warmup_steps) + calculate_exponential_lr(start_lr, end_lr, n_steps-warmup_steps)\n",
    "        self.best_score = -np.inf\n",
    "        self.best_model = None\n",
    "        self.step_count=0\n",
    "\n",
    "    def on_epoch_begin(self, epoch, logs={}):\n",
    "\n",
    "        self.start_time = time.time()\n",
    "        \n",
    "        if epoch == 0:\n",
    "            self.first_epoch_start_time = self.start_time\n",
    "        \n",
    "    def on_train_batch_begin(self, batch, logs=None):\n",
    "        if self.step_count < len(self.learning_rates):\n",
    "\n",
    "            tf.keras.backend.set_value(self.model.optimizer.lr, self.learning_rates[self.step_count])\n",
    "            self.curr_lr = float(tf.keras.backend.get_value(self.model.optimizer.learning_rate))\n",
    "        self.step_count += 1\n",
    "    \n",
    "    def on_epoch_end(self, epoch, logs={}):\n",
    "\n",
    "        val_preds = self.model.predict(self.val_ds.X, batch_size=32, verbose=0)[:, :, :2]\n",
    "        val_score = post_process_preds(self.val_events_df, val_preds, self.val_ds.series_ids, self.val_ds.starts_splits, self.samp_freq, get_score=True)\n",
    "        \n",
    "        if val_score > self.best_score:\n",
    "            self.best_score = val_score\n",
    "            self.best_model = tf.keras.models.clone_model(self.model)\n",
    "            self.best_model.set_weights(self.model.get_weights()) \n",
    "        \n",
    "        total_time = round(time.time() - self.start_time, 2)\n",
    "        total_seconds_till_now = round(time.time() - self.first_epoch_start_time, 0)\n",
    "        \n",
    "        print(f\"Epoch: {epoch:03d} curr_lr: {self.curr_lr:.1e} - train_loss: {logs['loss']:.04f} - val_loss: {logs['val_loss']:.04f} val_score: {val_score:.03f}  best_val_score: {self.best_score:.03f}  last_epoch t={total_time:.02f}s, total_time_elapsed t={total_seconds_till_now}s\")\n",
    "        "
   ]
  },
  {
   "cell_type": "code",
   "execution_count": 19,
   "id": "aaf8b82a",
   "metadata": {},
   "outputs": [],
   "source": [
    "def transformer_encoder(inputs, head_size, num_heads, ff_dim, dropout=0):\n",
    "\n",
    "    # MultiHead Attention\n",
    "    x = tfa.layers.MultiHeadAttention(\n",
    "        head_size=head_size,\n",
    "        num_heads=num_heads,\n",
    "        use_projection_bias=True,\n",
    "        dropout=dropout\n",
    "    )([inputs, inputs, inputs])\n",
    "\n",
    "    # Residual connection with LayerNormalization and Scaling\n",
    "    x = tf.keras.layers.LayerNormalization(epsilon=1e-6)(x + inputs) * (0.5 ** 0.5)\n",
    "    \n",
    "    # Feed Forward Part\n",
    "    ff = tf.keras.layers.Dense(ff_dim, activation='gelu')(x)\n",
    "    ff = tf.keras.layers.Dropout(dropout)(ff)\n",
    "    ff = tf.keras.layers.Dense(inputs.shape[-1])(ff)\n",
    "    ff = tf.keras.layers.Dropout(dropout)(ff)\n",
    "    \n",
    "    # Residual connection with LayerNormalization and Scaling for FFN\n",
    "    x = tf.keras.layers.LayerNormalization(epsilon=1e-6)(x + ff) * (0.5 ** 0.5)\n",
    "\n",
    "    return x"
   ]
  },
  {
   "cell_type": "code",
   "execution_count": 20,
   "id": "10d34cfd",
   "metadata": {},
   "outputs": [],
   "source": [
    "def custom_mce_loss(y_true, y_pred):\n",
    "    # Clip the ground truth and predictions to the range (-100, 100)\n",
    "    y_true_clipped = tf.clip_by_value(y_true, -100, 100)\n",
    "    y_pred_clipped = tf.clip_by_value(y_pred, -100, 100)\n",
    "\n",
    "    # Calculate the mean cubed error\n",
    "    loss = tf.reduce_mean(tf.abs(y_true_clipped - y_pred_clipped) ** 3)\n",
    "    return loss"
   ]
  },
  {
   "cell_type": "code",
   "execution_count": 21,
   "id": "8e51837a",
   "metadata": {},
   "outputs": [
    {
     "name": "stderr",
     "output_type": "stream",
     "text": [
      "2023-12-15 09:11:23.299769: I tensorflow/core/platform/cpu_feature_guard.cc:194] This TensorFlow binary is optimized with oneAPI Deep Neural Network Library (oneDNN) to use the following CPU instructions in performance-critical operations:  SSE3 SSE4.1 SSE4.2 AVX\n",
      "To enable them in other operations, rebuild TensorFlow with the appropriate compiler flags.\n",
      "2023-12-15 09:11:23.506315: I tensorflow/core/common_runtime/gpu/gpu_device.cc:1637] Created device /job:localhost/replica:0/task:0/device:GPU:0 with 46413 MB memory:  -> device: 0, name: NVIDIA RTX 6000 Ada Generation, pci bus id: 0000:23:00.0, compute capability: 8.9\n",
      "/usr/local/lib/python3.8/dist-packages/keras/initializers/initializers_v2.py:120: UserWarning: The initializer GlorotUniform is unseeded and being called multiple times, which will return identical values  each time (even if the initializer is unseeded). Please update your code to provide a seed to the initializer, or avoid using the same initalizer instance more than once.\n",
      "  warnings.warn(\n"
     ]
    },
    {
     "data": {
      "text/plain": [
       "33813832"
      ]
     },
     "execution_count": 21,
     "metadata": {},
     "output_type": "execute_result"
    }
   ],
   "source": [
    "def conv_block(inputs, num_filters):\n",
    "    x = tf.keras.layers.Conv1D(num_filters, 8, padding=\"same\")(inputs)\n",
    "    x = tf.keras.layers.ReLU()(x)\n",
    "    x = tf.keras.layers.Conv1D(num_filters, 8, padding=\"same\")(x)\n",
    "    x = tf.keras.layers.ReLU()(x)\n",
    "\n",
    "    return x\n",
    "\n",
    "def encoder_block(inputs, num_filters):\n",
    "    x = conv_block(inputs, num_filters)\n",
    "    p = tf.keras.layers.MaxPooling1D(pool_size=2)(x)\n",
    "    return x, p\n",
    "\n",
    "def decoder_block(inputs, concat_tensors, num_filters):\n",
    "    x = tf.keras.layers.Conv1DTranspose(num_filters, 4, strides=2, padding=\"same\")(inputs)\n",
    "    i = len(concat_tensors)-1\n",
    "    for concat_tensor in concat_tensors:\n",
    "        concat_tensor_max = tf.keras.layers.MaxPool1D(pool_size=2**i)(concat_tensor)\n",
    "        x = tf.keras.layers.Concatenate()([x, concat_tensor_max])\n",
    "        i -= 1\n",
    "        \n",
    "    x = conv_block(x, num_filters)\n",
    "    return x\n",
    "\n",
    "def get_model(input_shape, num_blocks=4):\n",
    "    inputs = tf.keras.layers.Input(input_shape)\n",
    "    x = inputs\n",
    "    \n",
    "    orig_n_channels = x.shape[-1]\n",
    "    \n",
    "    x_t = []\n",
    "    n_split_fact = 4\n",
    "    \n",
    "    \n",
    "    for i in range(x.shape[-1]):\n",
    "        x_sp = tf.reshape(x[:, :, i], (-1, x.shape[1]//n_split_fact, n_split_fact))\n",
    "        \n",
    "        if i < orig_n_channels:\n",
    "        \n",
    "            # Calculating mean, max, and standard deviation\n",
    "            mean = tf.reduce_mean(x_sp, axis=-1, keepdims=True)\n",
    "            max_val = tf.reduce_max(x_sp, axis=-1, keepdims=True)\n",
    "            std_dev = tf.math.reduce_std(x_sp, axis=-1, keepdims=True)\n",
    "            min_val = tf.reduce_min(x_sp, axis=-1, keepdims=True)\n",
    "\n",
    "            x_sp = tf.keras.layers.Concatenate()([x_sp, mean, max_val, std_dev, min_val])\n",
    "        \n",
    "        x_sp = tf.keras.layers.Dense(n_split_fact*16, activation='relu')(x_sp)\n",
    "        \n",
    "        x_t.append(x_sp)\n",
    "        \n",
    "    \n",
    "    x_c1d = tf.keras.layers.Conv1D(64, kernel_size=12, strides=n_split_fact, padding=\"same\")(x)\n",
    "    x_c1d = tf.keras.layers.ReLU()(x_c1d)\n",
    "\n",
    "    x = tf.keras.layers.Concatenate()(x_t + [x_c1d])# tf.reshape(x, (-1, -1, 3))\n",
    "    \n",
    "    # Initial filter size\n",
    "    fsz = 64\n",
    "    \n",
    "    # Lists to hold the encoder and pooling outputs\n",
    "    encoder_outputs = []\n",
    "    pooling_outputs = []\n",
    "    \n",
    "    # Encoder\n",
    "    for i in range(num_blocks):\n",
    "        if i == 0:\n",
    "            # First block receives the model input\n",
    "            enc_out, pool_out = encoder_block(x, fsz * (2 ** i))\n",
    "        else:\n",
    "            # Subsequent blocks receive the pooling output of the previous block\n",
    "            enc_out, pool_out = encoder_block(pooling_outputs[-1], fsz * (2 ** i))\n",
    "        \n",
    "        encoder_outputs.append(enc_out)\n",
    "        pooling_outputs.append(pool_out)\n",
    "    \n",
    "    # Bottleneck\n",
    "    bottleneck = conv_block(pooling_outputs[-1], fsz * (2 ** num_blocks))\n",
    "    \n",
    "    \n",
    "    def gru_conv(x):\n",
    "        x = tf.keras.layers.Bidirectional(tf.keras.layers.GRU(x.shape[-1]//4, return_sequences=True))(x)\n",
    "        for i in range(1):\n",
    "            x_conv = tf.keras.layers.Conv1D(x.shape[-1], kernel_size=(4,), padding='same', activation='relu')(x)\n",
    "            x = tf.keras.layers.Dense(x.shape[-1], activation='relu')(x_conv)\n",
    "\n",
    "        return x\n",
    "    \n",
    "    for _ in range(1):\n",
    "        bottleneck = transformer_encoder(bottleneck, head_size=16, num_heads=8, ff_dim=256, dropout=0)\n",
    "\n",
    "    bottleneck = gru_conv(bottleneck)\n",
    "\n",
    "    decoder_input = bottleneck\n",
    "    for i in range(num_blocks - 1, -1, -1):\n",
    "        decoder_output = decoder_block(decoder_input, encoder_outputs[:i+1], fsz * (2 ** i))\n",
    "        decoder_input = decoder_output\n",
    "    \n",
    "    # Output Layer\n",
    "    x = tf.keras.layers.Conv1D(2*n_split_fact, 1, padding=\"same\", activation=\"linear\")(decoder_output)\n",
    "    x = tf.reshape(x, shape=(-1, x.shape[1]*n_split_fact, 2))\n",
    "    \n",
    "    outputs = x\n",
    "    \n",
    "    model = tf.keras.models.Model(inputs, outputs)\n",
    "    model.compile(optimizer=tfa.optimizers.AdamW(weight_decay=1e-4), loss=custom_mce_loss)\n",
    "    \n",
    "    return model\n",
    "\n",
    "# Usage:\n",
    "input_shape = (17280, 9)  # replace with your input shape\n",
    "num_blocks = 4  # specify the number of encoder/decoder blocks\n",
    "model = get_model(input_shape, num_blocks)\n",
    "model.count_params()"
   ]
  },
  {
   "cell_type": "code",
   "execution_count": 22,
   "id": "be712eff",
   "metadata": {},
   "outputs": [],
   "source": [
    "class model_cfg:\n",
    "    n_epochs = 14\n",
    "    batch_size = 8\n",
    "    start_lr = 6e-5\n",
    "    end_lr = 2e-5"
   ]
  },
  {
   "cell_type": "code",
   "execution_count": 23,
   "id": "507a829d",
   "metadata": {},
   "outputs": [],
   "source": [
    "_ = gc.collect()"
   ]
  },
  {
   "cell_type": "code",
   "execution_count": 24,
   "id": "3d01eb74",
   "metadata": {},
   "outputs": [
    {
     "data": {
      "text/plain": [
       "'../data_processed_models'"
      ]
     },
     "execution_count": 24,
     "metadata": {},
     "output_type": "execute_result"
    }
   ],
   "source": [
    "cfg.processed_data_path"
   ]
  },
  {
   "cell_type": "code",
   "execution_count": 25,
   "id": "59d255e7",
   "metadata": {},
   "outputs": [
    {
     "name": "stderr",
     "output_type": "stream",
     "text": [
      "100%|██████████| 529/529 [00:04<00:00, 119.38it/s]\n"
     ]
    },
    {
     "name": "stdout",
     "output_type": "stream",
     "text": [
      "\n",
      "\n",
      "\n",
      "-----------Starting fold: 2-----------\n",
      "\n",
      "\n",
      "\n",
      "Using 211 series for training and 53 series for validation\n",
      "Using a split len of 17280\n"
     ]
    },
    {
     "name": "stderr",
     "output_type": "stream",
     "text": [
      "100%|██████████| 211/211 [00:12<00:00, 16.99it/s]\n"
     ]
    },
    {
     "name": "stdout",
     "output_type": "stream",
     "text": [
      "X: (5742, 17280, 32), y: (5742, 17280, 2), series_ids: (5742,)\n",
      "Using a split len of 17280\n"
     ]
    },
    {
     "name": "stderr",
     "output_type": "stream",
     "text": [
      "100%|██████████| 53/53 [00:00<00:00, 68.46it/s]\n"
     ]
    },
    {
     "name": "stdout",
     "output_type": "stream",
     "text": [
      "X: (1462, 17280, 32), y: (1462, 17280, 2), series_ids: (1462,)\n"
     ]
    },
    {
     "name": "stderr",
     "output_type": "stream",
     "text": [
      "/usr/local/lib/python3.8/dist-packages/keras/initializers/initializers_v2.py:120: UserWarning: The initializer GlorotUniform is unseeded and being called multiple times, which will return identical values  each time (even if the initializer is unseeded). Please update your code to provide a seed to the initializer, or avoid using the same initalizer instance more than once.\n",
      "  warnings.warn(\n"
     ]
    },
    {
     "name": "stdout",
     "output_type": "stream",
     "text": [
      "Total model parameters: 34598408\n",
      "Epoch 1/14\n"
     ]
    },
    {
     "name": "stderr",
     "output_type": "stream",
     "text": [
      "2023-12-15 09:13:57.027467: I tensorflow/stream_executor/cuda/cuda_dnn.cc:424] Loaded cuDNN version 8700\n",
      "2023-12-15 09:13:57.041566: I tensorflow/stream_executor/cuda/cuda_blas.cc:1633] TensorFloat-32 will be used for the matrix multiplication. This will only be logged once.\n"
     ]
    },
    {
     "name": "stdout",
     "output_type": "stream",
     "text": [
      "718/718 [==============================] - ETA: 0s - loss: 4.5810Epoch: 000 curr_lr: 6.0e-05 - train_loss: 4.5810 - val_loss: 3.7517 val_score: 0.768  best_val_score: 0.768  last_epoch t=81.97s, total_time_elapsed t=82.0s\n",
      "718/718 [==============================] - 82s 104ms/step - loss: 4.5810 - val_loss: 3.7517\n",
      "Epoch 2/14\n",
      "718/718 [==============================] - ETA: 0s - loss: 3.7207Epoch: 001 curr_lr: 6.0e-05 - train_loss: 3.7207 - val_loss: 4.0584 val_score: 0.733  best_val_score: 0.768  last_epoch t=67.05s, total_time_elapsed t=149.0s\n",
      "718/718 [==============================] - 67s 93ms/step - loss: 3.7207 - val_loss: 4.0584\n",
      "Epoch 3/14\n",
      "718/718 [==============================] - ETA: 0s - loss: 3.6052Epoch: 002 curr_lr: 6.0e-05 - train_loss: 3.6052 - val_loss: 3.4685 val_score: 0.779  best_val_score: 0.779  last_epoch t=69.78s, total_time_elapsed t=219.0s\n",
      "718/718 [==============================] - 70s 97ms/step - loss: 3.6052 - val_loss: 3.4685\n",
      "Epoch 4/14\n",
      "718/718 [==============================] - ETA: 0s - loss: 3.5499Epoch: 003 curr_lr: 5.7e-05 - train_loss: 3.5499 - val_loss: 3.4015 val_score: 0.785  best_val_score: 0.785  last_epoch t=68.97s, total_time_elapsed t=288.0s\n",
      "718/718 [==============================] - 69s 96ms/step - loss: 3.5499 - val_loss: 3.4015\n",
      "Epoch 5/14\n",
      "718/718 [==============================] - ETA: 0s - loss: 3.4894Epoch: 004 curr_lr: 5.1e-05 - train_loss: 3.4894 - val_loss: 3.3430 val_score: 0.798  best_val_score: 0.798  last_epoch t=68.45s, total_time_elapsed t=356.0s\n",
      "718/718 [==============================] - 68s 95ms/step - loss: 3.4894 - val_loss: 3.3430\n",
      "Epoch 6/14\n",
      "718/718 [==============================] - ETA: 0s - loss: 3.4551Epoch: 005 curr_lr: 4.6e-05 - train_loss: 3.4551 - val_loss: 3.3017 val_score: 0.809  best_val_score: 0.809  last_epoch t=68.23s, total_time_elapsed t=424.0s\n",
      "718/718 [==============================] - 68s 95ms/step - loss: 3.4551 - val_loss: 3.3017\n",
      "Epoch 7/14\n",
      "718/718 [==============================] - ETA: 0s - loss: 3.4252Epoch: 006 curr_lr: 4.2e-05 - train_loss: 3.4252 - val_loss: 3.3627 val_score: 0.796  best_val_score: 0.809  last_epoch t=67.44s, total_time_elapsed t=492.0s\n",
      "718/718 [==============================] - 67s 94ms/step - loss: 3.4252 - val_loss: 3.3627\n",
      "Epoch 8/14\n",
      "718/718 [==============================] - ETA: 0s - loss: 3.3963Epoch: 007 curr_lr: 3.7e-05 - train_loss: 3.3963 - val_loss: 3.2926 val_score: 0.804  best_val_score: 0.809  last_epoch t=65.83s, total_time_elapsed t=558.0s\n",
      "718/718 [==============================] - 66s 92ms/step - loss: 3.3963 - val_loss: 3.2926\n",
      "Epoch 9/14\n",
      "718/718 [==============================] - ETA: 0s - loss: 3.3692Epoch: 008 curr_lr: 3.4e-05 - train_loss: 3.3692 - val_loss: 3.3679 val_score: 0.804  best_val_score: 0.809  last_epoch t=65.65s, total_time_elapsed t=623.0s\n",
      "718/718 [==============================] - 66s 91ms/step - loss: 3.3692 - val_loss: 3.3679\n",
      "Epoch 10/14\n",
      "718/718 [==============================] - ETA: 0s - loss: 3.3440Epoch: 009 curr_lr: 3.0e-05 - train_loss: 3.3440 - val_loss: 3.2469 val_score: 0.809  best_val_score: 0.809  last_epoch t=65.84s, total_time_elapsed t=689.0s\n",
      "718/718 [==============================] - 66s 92ms/step - loss: 3.3440 - val_loss: 3.2469\n",
      "Epoch 11/14\n",
      "718/718 [==============================] - ETA: 0s - loss: 3.3394Epoch: 010 curr_lr: 2.7e-05 - train_loss: 3.3394 - val_loss: 3.2822 val_score: 0.803  best_val_score: 0.809  last_epoch t=66.65s, total_time_elapsed t=756.0s\n",
      "718/718 [==============================] - 67s 93ms/step - loss: 3.3394 - val_loss: 3.2822\n",
      "Epoch 12/14\n",
      "718/718 [==============================] - ETA: 0s - loss: 3.3148Epoch: 011 curr_lr: 2.5e-05 - train_loss: 3.3148 - val_loss: 3.2662 val_score: 0.806  best_val_score: 0.809  last_epoch t=66.90s, total_time_elapsed t=823.0s\n",
      "718/718 [==============================] - 67s 93ms/step - loss: 3.3148 - val_loss: 3.2662\n",
      "Epoch 13/14\n",
      "718/718 [==============================] - ETA: 0s - loss: 3.2952"
     ]
    },
    {
     "name": "stderr",
     "output_type": "stream",
     "text": [
      "2023-12-15 09:28:29.472247: W tensorflow/core/common_runtime/bfc_allocator.cc:290] Allocator (GPU_0_bfc) ran out of memory trying to allocate 1.12GiB with freed_by_count=0. The caller indicates that this is not a failure, but this may mean that there could be performance gains if more memory were available.\n"
     ]
    },
    {
     "ename": "UnknownError",
     "evalue": "Graph execution error:\n\nDetected at node 'model_1/conv1d_22/Conv1D' defined at (most recent call last):\n    File \"/usr/lib/python3.8/runpy.py\", line 194, in _run_module_as_main\n      return _run_code(code, main_globals, None,\n    File \"/usr/lib/python3.8/runpy.py\", line 87, in _run_code\n      exec(code, run_globals)\n    File \"/usr/local/lib/python3.8/dist-packages/ipykernel_launcher.py\", line 17, in <module>\n      app.launch_new_instance()\n    File \"/usr/local/lib/python3.8/dist-packages/traitlets/config/application.py\", line 982, in launch_instance\n      app.start()\n    File \"/usr/local/lib/python3.8/dist-packages/ipykernel/kernelapp.py\", line 712, in start\n      self.io_loop.start()\n    File \"/usr/local/lib/python3.8/dist-packages/tornado/platform/asyncio.py\", line 199, in start\n      self.asyncio_loop.run_forever()\n    File \"/usr/lib/python3.8/asyncio/base_events.py\", line 570, in run_forever\n      self._run_once()\n    File \"/usr/lib/python3.8/asyncio/base_events.py\", line 1859, in _run_once\n      handle._run()\n    File \"/usr/lib/python3.8/asyncio/events.py\", line 81, in _run\n      self._context.run(self._callback, *self._args)\n    File \"/usr/local/lib/python3.8/dist-packages/ipykernel/kernelbase.py\", line 510, in dispatch_queue\n      await self.process_one()\n    File \"/usr/local/lib/python3.8/dist-packages/ipykernel/kernelbase.py\", line 499, in process_one\n      await dispatch(*args)\n    File \"/usr/local/lib/python3.8/dist-packages/ipykernel/kernelbase.py\", line 406, in dispatch_shell\n      await result\n    File \"/usr/local/lib/python3.8/dist-packages/ipykernel/kernelbase.py\", line 730, in execute_request\n      reply_content = await reply_content\n    File \"/usr/local/lib/python3.8/dist-packages/ipykernel/ipkernel.py\", line 383, in do_execute\n      res = shell.run_cell(\n    File \"/usr/local/lib/python3.8/dist-packages/ipykernel/zmqshell.py\", line 528, in run_cell\n      return super().run_cell(*args, **kwargs)\n    File \"/usr/local/lib/python3.8/dist-packages/IPython/core/interactiveshell.py\", line 2940, in run_cell\n      result = self._run_cell(\n    File \"/usr/local/lib/python3.8/dist-packages/IPython/core/interactiveshell.py\", line 2995, in _run_cell\n      return runner(coro)\n    File \"/usr/local/lib/python3.8/dist-packages/IPython/core/async_helpers.py\", line 129, in _pseudo_sync_runner\n      coro.send(None)\n    File \"/usr/local/lib/python3.8/dist-packages/IPython/core/interactiveshell.py\", line 3194, in run_cell_async\n      has_raised = await self.run_ast_nodes(code_ast.body, cell_name,\n    File \"/usr/local/lib/python3.8/dist-packages/IPython/core/interactiveshell.py\", line 3373, in run_ast_nodes\n      if await self.run_code(code, result, async_=asy):\n    File \"/usr/local/lib/python3.8/dist-packages/IPython/core/interactiveshell.py\", line 3433, in run_code\n      exec(code_obj, self.user_global_ns, self.user_ns)\n    File \"/tmp/ipykernel_5043/2478982756.py\", line 48, in <module>\n      model.fit(trn_ds.X, trn_ds.y,\n    File \"/usr/local/lib/python3.8/dist-packages/keras/utils/traceback_utils.py\", line 65, in error_handler\n      return fn(*args, **kwargs)\n    File \"/usr/local/lib/python3.8/dist-packages/keras/engine/training.py\", line 1624, in fit\n      callbacks.on_epoch_end(epoch, epoch_logs)\n    File \"/usr/local/lib/python3.8/dist-packages/keras/callbacks.py\", line 448, in on_epoch_end\n      callback.on_epoch_end(epoch, logs)\n    File \"/tmp/ipykernel_5043/2369401257.py\", line 32, in on_epoch_end\n      val_preds = self.model.predict(self.val_ds.X, batch_size=32, verbose=0)[:, :, :2]\n    File \"/usr/local/lib/python3.8/dist-packages/keras/utils/traceback_utils.py\", line 65, in error_handler\n      return fn(*args, **kwargs)\n    File \"/usr/local/lib/python3.8/dist-packages/keras/engine/training.py\", line 2253, in predict\n      tmp_batch_outputs = self.predict_function(iterator)\n    File \"/usr/local/lib/python3.8/dist-packages/keras/engine/training.py\", line 2041, in predict_function\n      return step_function(self, iterator)\n    File \"/usr/local/lib/python3.8/dist-packages/keras/engine/training.py\", line 2027, in step_function\n      outputs = model.distribute_strategy.run(run_step, args=(data,))\n    File \"/usr/local/lib/python3.8/dist-packages/keras/engine/training.py\", line 2015, in run_step\n      outputs = model.predict_step(data)\n    File \"/usr/local/lib/python3.8/dist-packages/keras/engine/training.py\", line 1983, in predict_step\n      return self(x, training=False)\n    File \"/usr/local/lib/python3.8/dist-packages/keras/utils/traceback_utils.py\", line 65, in error_handler\n      return fn(*args, **kwargs)\n    File \"/usr/local/lib/python3.8/dist-packages/keras/engine/training.py\", line 557, in __call__\n      return super().__call__(*args, **kwargs)\n    File \"/usr/local/lib/python3.8/dist-packages/keras/utils/traceback_utils.py\", line 65, in error_handler\n      return fn(*args, **kwargs)\n    File \"/usr/local/lib/python3.8/dist-packages/keras/engine/base_layer.py\", line 1097, in __call__\n      outputs = call_fn(inputs, *args, **kwargs)\n    File \"/usr/local/lib/python3.8/dist-packages/keras/utils/traceback_utils.py\", line 96, in error_handler\n      return fn(*args, **kwargs)\n    File \"/usr/local/lib/python3.8/dist-packages/keras/engine/functional.py\", line 510, in call\n      return self._run_internal_graph(inputs, training=training, mask=mask)\n    File \"/usr/local/lib/python3.8/dist-packages/keras/engine/functional.py\", line 667, in _run_internal_graph\n      outputs = node.layer(*args, **kwargs)\n    File \"/usr/local/lib/python3.8/dist-packages/keras/utils/traceback_utils.py\", line 65, in error_handler\n      return fn(*args, **kwargs)\n    File \"/usr/local/lib/python3.8/dist-packages/keras/engine/base_layer.py\", line 1097, in __call__\n      outputs = call_fn(inputs, *args, **kwargs)\n    File \"/usr/local/lib/python3.8/dist-packages/keras/utils/traceback_utils.py\", line 96, in error_handler\n      return fn(*args, **kwargs)\n    File \"/usr/local/lib/python3.8/dist-packages/keras/layers/convolutional/base_conv.py\", line 283, in call\n      outputs = self.convolution_op(inputs, self.kernel)\n    File \"/usr/local/lib/python3.8/dist-packages/keras/layers/convolutional/base_conv.py\", line 255, in convolution_op\n      return tf.nn.convolution(\nNode: 'model_1/conv1d_22/Conv1D'\nCUDNN failed to allocate the scratch space for the runner or to find a working no-scratch runner.\n\t [[{{node model_1/conv1d_22/Conv1D}}]] [Op:__inference_predict_function_33711]",
     "output_type": "error",
     "traceback": [
      "\u001b[0;31m---------------------------------------------------------------------------\u001b[0m",
      "\u001b[0;31mUnknownError\u001b[0m                              Traceback (most recent call last)",
      "Cell \u001b[0;32mIn [25], line 48\u001b[0m\n\u001b[1;32m     45\u001b[0m val_events_df \u001b[38;5;241m=\u001b[39m train_events\u001b[38;5;241m.\u001b[39mfilter(pl\u001b[38;5;241m.\u001b[39mcol(\u001b[38;5;124m'\u001b[39m\u001b[38;5;124mseries_id\u001b[39m\u001b[38;5;124m'\u001b[39m)\u001b[38;5;241m.\u001b[39mis_in(series_ids_val))\n\u001b[1;32m     46\u001b[0m inter_eval \u001b[38;5;241m=\u001b[39m IntervalEvaluation(val_ds, val_events_df, cfg\u001b[38;5;241m.\u001b[39msamp_freq, (trn_ds\u001b[38;5;241m.\u001b[39mX\u001b[38;5;241m.\u001b[39mshape[\u001b[38;5;241m0\u001b[39m]\u001b[38;5;241m/\u001b[39m\u001b[38;5;241m/\u001b[39mmodel_cfg\u001b[38;5;241m.\u001b[39mbatch_size)\u001b[38;5;241m*\u001b[39mmodel_cfg\u001b[38;5;241m.\u001b[39mn_epochs, model_cfg\u001b[38;5;241m.\u001b[39mstart_lr, model_cfg\u001b[38;5;241m.\u001b[39mend_lr)\n\u001b[0;32m---> 48\u001b[0m \u001b[43mmodel\u001b[49m\u001b[38;5;241;43m.\u001b[39;49m\u001b[43mfit\u001b[49m\u001b[43m(\u001b[49m\u001b[43mtrn_ds\u001b[49m\u001b[38;5;241;43m.\u001b[39;49m\u001b[43mX\u001b[49m\u001b[43m,\u001b[49m\u001b[43m \u001b[49m\u001b[43mtrn_ds\u001b[49m\u001b[38;5;241;43m.\u001b[39;49m\u001b[43my\u001b[49m\u001b[43m,\u001b[49m\n\u001b[1;32m     49\u001b[0m \u001b[43m      \u001b[49m\u001b[43mepochs\u001b[49m\u001b[38;5;241;43m=\u001b[39;49m\u001b[43mmodel_cfg\u001b[49m\u001b[38;5;241;43m.\u001b[39;49m\u001b[43mn_epochs\u001b[49m\u001b[43m,\u001b[49m\n\u001b[1;32m     50\u001b[0m \u001b[43m      \u001b[49m\u001b[43mbatch_size\u001b[49m\u001b[38;5;241;43m=\u001b[39;49m\u001b[43mmodel_cfg\u001b[49m\u001b[38;5;241;43m.\u001b[39;49m\u001b[43mbatch_size\u001b[49m\u001b[43m,\u001b[49m\n\u001b[1;32m     51\u001b[0m \u001b[43m      \u001b[49m\u001b[43mcallbacks\u001b[49m\u001b[38;5;241;43m=\u001b[39;49m\u001b[43m[\u001b[49m\u001b[43minter_eval\u001b[49m\u001b[43m]\u001b[49m\u001b[43m,\u001b[49m\n\u001b[1;32m     52\u001b[0m \u001b[43m      \u001b[49m\u001b[43mverbose\u001b[49m\u001b[38;5;241;43m=\u001b[39;49m\u001b[38;5;241;43m1\u001b[39;49m\u001b[43m,\u001b[49m\n\u001b[1;32m     53\u001b[0m \u001b[43m      \u001b[49m\u001b[43mvalidation_data\u001b[49m\u001b[38;5;241;43m=\u001b[39;49m\u001b[43m(\u001b[49m\u001b[43mval_ds\u001b[49m\u001b[38;5;241;43m.\u001b[39;49m\u001b[43mX\u001b[49m\u001b[43m,\u001b[49m\u001b[43m \u001b[49m\u001b[43mval_ds\u001b[49m\u001b[38;5;241;43m.\u001b[39;49m\u001b[43my\u001b[49m\u001b[43m)\u001b[49m\u001b[43m)\u001b[49m\n\u001b[1;32m     57\u001b[0m last_loss \u001b[38;5;241m=\u001b[39m model\u001b[38;5;241m.\u001b[39mhistory\u001b[38;5;241m.\u001b[39mhistory[\u001b[38;5;124m'\u001b[39m\u001b[38;5;124mval_loss\u001b[39m\u001b[38;5;124m'\u001b[39m][\u001b[38;5;241m-\u001b[39m\u001b[38;5;241m1\u001b[39m]\n\u001b[1;32m     58\u001b[0m \u001b[38;5;28mprint\u001b[39m(\u001b[38;5;124mf\u001b[39m\u001b[38;5;124m'\u001b[39m\u001b[38;5;124mModel finished with val loss: \u001b[39m\u001b[38;5;132;01m{\u001b[39;00mlast_loss\u001b[38;5;132;01m}\u001b[39;00m\u001b[38;5;124m'\u001b[39m)\n",
      "File \u001b[0;32m/usr/local/lib/python3.8/dist-packages/keras/utils/traceback_utils.py:70\u001b[0m, in \u001b[0;36mfilter_traceback.<locals>.error_handler\u001b[0;34m(*args, **kwargs)\u001b[0m\n\u001b[1;32m     67\u001b[0m     filtered_tb \u001b[38;5;241m=\u001b[39m _process_traceback_frames(e\u001b[38;5;241m.\u001b[39m__traceback__)\n\u001b[1;32m     68\u001b[0m     \u001b[38;5;66;03m# To get the full stack trace, call:\u001b[39;00m\n\u001b[1;32m     69\u001b[0m     \u001b[38;5;66;03m# `tf.debugging.disable_traceback_filtering()`\u001b[39;00m\n\u001b[0;32m---> 70\u001b[0m     \u001b[38;5;28;01mraise\u001b[39;00m e\u001b[38;5;241m.\u001b[39mwith_traceback(filtered_tb) \u001b[38;5;28;01mfrom\u001b[39;00m \u001b[38;5;28;01mNone\u001b[39;00m\n\u001b[1;32m     71\u001b[0m \u001b[38;5;28;01mfinally\u001b[39;00m:\n\u001b[1;32m     72\u001b[0m     \u001b[38;5;28;01mdel\u001b[39;00m filtered_tb\n",
      "Cell \u001b[0;32mIn [18], line 32\u001b[0m, in \u001b[0;36mIntervalEvaluation.on_epoch_end\u001b[0;34m(self, epoch, logs)\u001b[0m\n\u001b[1;32m     30\u001b[0m \u001b[38;5;28;01mdef\u001b[39;00m \u001b[38;5;21mon_epoch_end\u001b[39m(\u001b[38;5;28mself\u001b[39m, epoch, logs\u001b[38;5;241m=\u001b[39m{}):\n\u001b[0;32m---> 32\u001b[0m     val_preds \u001b[38;5;241m=\u001b[39m \u001b[38;5;28;43mself\u001b[39;49m\u001b[38;5;241;43m.\u001b[39;49m\u001b[43mmodel\u001b[49m\u001b[38;5;241;43m.\u001b[39;49m\u001b[43mpredict\u001b[49m\u001b[43m(\u001b[49m\u001b[38;5;28;43mself\u001b[39;49m\u001b[38;5;241;43m.\u001b[39;49m\u001b[43mval_ds\u001b[49m\u001b[38;5;241;43m.\u001b[39;49m\u001b[43mX\u001b[49m\u001b[43m,\u001b[49m\u001b[43m \u001b[49m\u001b[43mbatch_size\u001b[49m\u001b[38;5;241;43m=\u001b[39;49m\u001b[38;5;241;43m32\u001b[39;49m\u001b[43m,\u001b[49m\u001b[43m \u001b[49m\u001b[43mverbose\u001b[49m\u001b[38;5;241;43m=\u001b[39;49m\u001b[38;5;241;43m0\u001b[39;49m\u001b[43m)\u001b[49m[:, :, :\u001b[38;5;241m2\u001b[39m]\n\u001b[1;32m     33\u001b[0m     val_score \u001b[38;5;241m=\u001b[39m post_process_preds(\u001b[38;5;28mself\u001b[39m\u001b[38;5;241m.\u001b[39mval_events_df, val_preds, \u001b[38;5;28mself\u001b[39m\u001b[38;5;241m.\u001b[39mval_ds\u001b[38;5;241m.\u001b[39mseries_ids, \u001b[38;5;28mself\u001b[39m\u001b[38;5;241m.\u001b[39mval_ds\u001b[38;5;241m.\u001b[39mstarts_splits, \u001b[38;5;28mself\u001b[39m\u001b[38;5;241m.\u001b[39msamp_freq, get_score\u001b[38;5;241m=\u001b[39m\u001b[38;5;28;01mTrue\u001b[39;00m)\n\u001b[1;32m     35\u001b[0m     \u001b[38;5;28;01mif\u001b[39;00m val_score \u001b[38;5;241m>\u001b[39m \u001b[38;5;28mself\u001b[39m\u001b[38;5;241m.\u001b[39mbest_score:\n",
      "\u001b[0;31mUnknownError\u001b[0m: Graph execution error:\n\nDetected at node 'model_1/conv1d_22/Conv1D' defined at (most recent call last):\n    File \"/usr/lib/python3.8/runpy.py\", line 194, in _run_module_as_main\n      return _run_code(code, main_globals, None,\n    File \"/usr/lib/python3.8/runpy.py\", line 87, in _run_code\n      exec(code, run_globals)\n    File \"/usr/local/lib/python3.8/dist-packages/ipykernel_launcher.py\", line 17, in <module>\n      app.launch_new_instance()\n    File \"/usr/local/lib/python3.8/dist-packages/traitlets/config/application.py\", line 982, in launch_instance\n      app.start()\n    File \"/usr/local/lib/python3.8/dist-packages/ipykernel/kernelapp.py\", line 712, in start\n      self.io_loop.start()\n    File \"/usr/local/lib/python3.8/dist-packages/tornado/platform/asyncio.py\", line 199, in start\n      self.asyncio_loop.run_forever()\n    File \"/usr/lib/python3.8/asyncio/base_events.py\", line 570, in run_forever\n      self._run_once()\n    File \"/usr/lib/python3.8/asyncio/base_events.py\", line 1859, in _run_once\n      handle._run()\n    File \"/usr/lib/python3.8/asyncio/events.py\", line 81, in _run\n      self._context.run(self._callback, *self._args)\n    File \"/usr/local/lib/python3.8/dist-packages/ipykernel/kernelbase.py\", line 510, in dispatch_queue\n      await self.process_one()\n    File \"/usr/local/lib/python3.8/dist-packages/ipykernel/kernelbase.py\", line 499, in process_one\n      await dispatch(*args)\n    File \"/usr/local/lib/python3.8/dist-packages/ipykernel/kernelbase.py\", line 406, in dispatch_shell\n      await result\n    File \"/usr/local/lib/python3.8/dist-packages/ipykernel/kernelbase.py\", line 730, in execute_request\n      reply_content = await reply_content\n    File \"/usr/local/lib/python3.8/dist-packages/ipykernel/ipkernel.py\", line 383, in do_execute\n      res = shell.run_cell(\n    File \"/usr/local/lib/python3.8/dist-packages/ipykernel/zmqshell.py\", line 528, in run_cell\n      return super().run_cell(*args, **kwargs)\n    File \"/usr/local/lib/python3.8/dist-packages/IPython/core/interactiveshell.py\", line 2940, in run_cell\n      result = self._run_cell(\n    File \"/usr/local/lib/python3.8/dist-packages/IPython/core/interactiveshell.py\", line 2995, in _run_cell\n      return runner(coro)\n    File \"/usr/local/lib/python3.8/dist-packages/IPython/core/async_helpers.py\", line 129, in _pseudo_sync_runner\n      coro.send(None)\n    File \"/usr/local/lib/python3.8/dist-packages/IPython/core/interactiveshell.py\", line 3194, in run_cell_async\n      has_raised = await self.run_ast_nodes(code_ast.body, cell_name,\n    File \"/usr/local/lib/python3.8/dist-packages/IPython/core/interactiveshell.py\", line 3373, in run_ast_nodes\n      if await self.run_code(code, result, async_=asy):\n    File \"/usr/local/lib/python3.8/dist-packages/IPython/core/interactiveshell.py\", line 3433, in run_code\n      exec(code_obj, self.user_global_ns, self.user_ns)\n    File \"/tmp/ipykernel_5043/2478982756.py\", line 48, in <module>\n      model.fit(trn_ds.X, trn_ds.y,\n    File \"/usr/local/lib/python3.8/dist-packages/keras/utils/traceback_utils.py\", line 65, in error_handler\n      return fn(*args, **kwargs)\n    File \"/usr/local/lib/python3.8/dist-packages/keras/engine/training.py\", line 1624, in fit\n      callbacks.on_epoch_end(epoch, epoch_logs)\n    File \"/usr/local/lib/python3.8/dist-packages/keras/callbacks.py\", line 448, in on_epoch_end\n      callback.on_epoch_end(epoch, logs)\n    File \"/tmp/ipykernel_5043/2369401257.py\", line 32, in on_epoch_end\n      val_preds = self.model.predict(self.val_ds.X, batch_size=32, verbose=0)[:, :, :2]\n    File \"/usr/local/lib/python3.8/dist-packages/keras/utils/traceback_utils.py\", line 65, in error_handler\n      return fn(*args, **kwargs)\n    File \"/usr/local/lib/python3.8/dist-packages/keras/engine/training.py\", line 2253, in predict\n      tmp_batch_outputs = self.predict_function(iterator)\n    File \"/usr/local/lib/python3.8/dist-packages/keras/engine/training.py\", line 2041, in predict_function\n      return step_function(self, iterator)\n    File \"/usr/local/lib/python3.8/dist-packages/keras/engine/training.py\", line 2027, in step_function\n      outputs = model.distribute_strategy.run(run_step, args=(data,))\n    File \"/usr/local/lib/python3.8/dist-packages/keras/engine/training.py\", line 2015, in run_step\n      outputs = model.predict_step(data)\n    File \"/usr/local/lib/python3.8/dist-packages/keras/engine/training.py\", line 1983, in predict_step\n      return self(x, training=False)\n    File \"/usr/local/lib/python3.8/dist-packages/keras/utils/traceback_utils.py\", line 65, in error_handler\n      return fn(*args, **kwargs)\n    File \"/usr/local/lib/python3.8/dist-packages/keras/engine/training.py\", line 557, in __call__\n      return super().__call__(*args, **kwargs)\n    File \"/usr/local/lib/python3.8/dist-packages/keras/utils/traceback_utils.py\", line 65, in error_handler\n      return fn(*args, **kwargs)\n    File \"/usr/local/lib/python3.8/dist-packages/keras/engine/base_layer.py\", line 1097, in __call__\n      outputs = call_fn(inputs, *args, **kwargs)\n    File \"/usr/local/lib/python3.8/dist-packages/keras/utils/traceback_utils.py\", line 96, in error_handler\n      return fn(*args, **kwargs)\n    File \"/usr/local/lib/python3.8/dist-packages/keras/engine/functional.py\", line 510, in call\n      return self._run_internal_graph(inputs, training=training, mask=mask)\n    File \"/usr/local/lib/python3.8/dist-packages/keras/engine/functional.py\", line 667, in _run_internal_graph\n      outputs = node.layer(*args, **kwargs)\n    File \"/usr/local/lib/python3.8/dist-packages/keras/utils/traceback_utils.py\", line 65, in error_handler\n      return fn(*args, **kwargs)\n    File \"/usr/local/lib/python3.8/dist-packages/keras/engine/base_layer.py\", line 1097, in __call__\n      outputs = call_fn(inputs, *args, **kwargs)\n    File \"/usr/local/lib/python3.8/dist-packages/keras/utils/traceback_utils.py\", line 96, in error_handler\n      return fn(*args, **kwargs)\n    File \"/usr/local/lib/python3.8/dist-packages/keras/layers/convolutional/base_conv.py\", line 283, in call\n      outputs = self.convolution_op(inputs, self.kernel)\n    File \"/usr/local/lib/python3.8/dist-packages/keras/layers/convolutional/base_conv.py\", line 255, in convolution_op\n      return tf.nn.convolution(\nNode: 'model_1/conv1d_22/Conv1D'\nCUDNN failed to allocate the scratch space for the runner or to find a working no-scratch runner.\n\t [[{{node model_1/conv1d_22/Conv1D}}]] [Op:__inference_predict_function_33711]"
     ]
    }
   ],
   "source": [
    "n_folds = 5\n",
    "fold_run_order = [2, 1, 3, 4, 5]\n",
    "\n",
    "val_preds_lst = []\n",
    "val_series_lst = []\n",
    "val_starts_splits_lst = []\n",
    "\n",
    "val_y_lst = []\n",
    "models_lst = []\n",
    "val_scores = []\n",
    "\n",
    "model_dct = {}\n",
    "\n",
    "for fold_num in fold_run_order:\n",
    "    \n",
    "    X_s, y_s, series_ids = load_data(cfg.processed_data_path)\n",
    "    \n",
    "\n",
    "    print(f'\\n\\n\\n-----------Starting fold: {fold_num}-----------\\n\\n\\n')\n",
    "    \n",
    "    series_ids_val = splits_df.filter(pl.col(f'{n_folds}_fold') == fold_num)['series_id'].to_numpy()\n",
    "\n",
    "    val_idxs = [series_ids.index(s) for s in series_ids_val]\n",
    "    trn_idxs = np.setdiff1d(np.arange(len(series_ids)), val_idxs)\n",
    "    \n",
    "    print(f'Using {len(trn_idxs)} series for training and {len(val_idxs)} series for validation')\n",
    "\n",
    "    X_s_trn, y_s_trn, series_ids_trn = [X_s[i] for i in trn_idxs], [y_s[i] for i in trn_idxs], [series_ids[i] for i in trn_idxs]\n",
    "    X_s_val, y_s_val, series_ids_val = [X_s[i] for i in val_idxs], [y_s[i] for i in val_idxs], [series_ids[i] for i in val_idxs]\n",
    "\n",
    "    trn_ds = SleepDataset(X_s_trn, y_s_trn, series_ids_trn, cfg.samp_freq, remove_no_dets=False, is_train=True)\n",
    "    norm_params = trn_ds.norm_params\n",
    "    model_dct[fold_num] = norm_params\n",
    "    \n",
    "    val_ds = SleepDataset(X_s_val, y_s_val, series_ids_val, cfg.samp_freq, remove_no_dets=False, is_train=False, norm_params=norm_params)\n",
    "\n",
    "    del X_s_trn, y_s_trn,  X_s_val, y_s_val, series_ids_trn, X_s, y_s, series_ids\n",
    "    _ = gc.collect()\n",
    "\n",
    "\n",
    "    model = get_model(trn_ds.X.shape[1:])\n",
    "    \n",
    "    print(f'Total model parameters: {model.count_params()}')\n",
    "\n",
    "    val_events_df = train_events.filter(pl.col('series_id').is_in(series_ids_val))\n",
    "    inter_eval = IntervalEvaluation(val_ds, val_events_df, cfg.samp_freq, (trn_ds.X.shape[0]//model_cfg.batch_size)*model_cfg.n_epochs, model_cfg.start_lr, model_cfg.end_lr)\n",
    "    \n",
    "    model.fit(trn_ds.X, trn_ds.y,\n",
    "          epochs=model_cfg.n_epochs,\n",
    "          batch_size=model_cfg.batch_size,\n",
    "          callbacks=[inter_eval],\n",
    "          verbose=1,\n",
    "          validation_data=(val_ds.X, val_ds.y))\n",
    "    \n",
    "    \n",
    "    \n",
    "    last_loss = model.history.history['val_loss'][-1]\n",
    "    print(f'Model finished with val loss: {last_loss}')\n",
    "    \n",
    "    model = inter_eval.best_model\n",
    "    val_preds = model.predict(val_ds.X)\n",
    "    \n",
    "    val_score = post_process_preds(val_events_df, val_preds, val_ds.series_ids, val_ds.starts_splits, cfg.samp_freq, get_score=True)\n",
    "    print(f'Val Score: {val_score}')\n",
    "    \n",
    "    val_scores.append(val_score)\n",
    "    \n",
    "    val_y_lst.append(val_ds.y)\n",
    "    val_preds_lst.append(val_preds)\n",
    "    val_series_lst.append(val_ds.series_ids)\n",
    "    val_starts_splits_lst.append(val_ds.starts_splits)\n",
    "    \n",
    "    tf.keras.models.save_model(model, os.path.join(cfg.output_dir, cfg.ver, f'tf_model_fold_{fold_num}.h5'))\n",
    "    \n",
    "    del trn_ds, val_ds, model, inter_eval\n",
    "    _ = gc.collect()\n",
    "\n",
    "avg_val_score, std_val_score = np.mean(val_scores), np.std(val_scores)\n",
    "print(f'Avg val score: {avg_val_score} and std val score: {std_val_score}')"
   ]
  },
  {
   "cell_type": "code",
   "execution_count": 17,
   "id": "897530b5",
   "metadata": {},
   "outputs": [
    {
     "name": "stderr",
     "output_type": "stream",
     "text": [
      "100%|██████████| 529/529 [00:04<00:00, 129.76it/s]\n"
     ]
    },
    {
     "name": "stdout",
     "output_type": "stream",
     "text": [
      "\n",
      "\n",
      "\n",
      "-----------Starting fold: 2-----------\n",
      "\n",
      "\n",
      "\n",
      "Using 211 series for training and 53 series for validation\n",
      "Using a split len of 17280\n"
     ]
    },
    {
     "name": "stderr",
     "output_type": "stream",
     "text": [
      "100%|██████████| 211/211 [00:11<00:00, 18.66it/s]\n"
     ]
    },
    {
     "name": "stdout",
     "output_type": "stream",
     "text": [
      "X: (5742, 17280, 32), y: (5742, 17280, 2), series_ids: (5742,)\n",
      "Using a split len of 17280\n"
     ]
    },
    {
     "name": "stderr",
     "output_type": "stream",
     "text": [
      "100%|██████████| 53/53 [00:00<00:00, 69.57it/s]\n"
     ]
    },
    {
     "name": "stdout",
     "output_type": "stream",
     "text": [
      "X: (1462, 17280, 32), y: (1462, 17280, 2), series_ids: (1462,)\n",
      "Total model parameters: 34598408\n",
      "Epoch 1/14\n"
     ]
    },
    {
     "name": "stderr",
     "output_type": "stream",
     "text": [
      "2023-12-14 06:00:13.090553: I tensorflow/stream_executor/cuda/cuda_blas.cc:1633] TensorFloat-32 will be used for the matrix multiplication. This will only be logged once.\n",
      "2023-12-14 06:00:13.122684: I tensorflow/stream_executor/cuda/cuda_dnn.cc:424] Loaded cuDNN version 8700\n"
     ]
    },
    {
     "name": "stdout",
     "output_type": "stream",
     "text": [
      "718/718 [==============================] - ETA: 0s - loss: 4.4215Epoch: 000 curr_lr: 6.0e-05 - train_loss: 4.4215 - val_loss: 3.7856 val_score: 0.752  best_val_score: 0.752  last_epoch t=77.57s, total_time_elapsed t=78.0s\n",
      "718/718 [==============================] - 78s 99ms/step - loss: 4.4215 - val_loss: 3.7856\n",
      "Epoch 2/14\n",
      "718/718 [==============================] - ETA: 0s - loss: 3.7059Epoch: 001 curr_lr: 6.0e-05 - train_loss: 3.7059 - val_loss: 3.5250 val_score: 0.775  best_val_score: 0.775  last_epoch t=66.58s, total_time_elapsed t=144.0s\n",
      "718/718 [==============================] - 67s 93ms/step - loss: 3.7059 - val_loss: 3.5250\n",
      "Epoch 3/14\n",
      "718/718 [==============================] - ETA: 0s - loss: 3.5783Epoch: 002 curr_lr: 6.0e-05 - train_loss: 3.5783 - val_loss: 3.4094 val_score: 0.788  best_val_score: 0.788  last_epoch t=64.10s, total_time_elapsed t=208.0s\n",
      "718/718 [==============================] - 64s 89ms/step - loss: 3.5783 - val_loss: 3.4094\n",
      "Epoch 4/14\n",
      "718/718 [==============================] - ETA: 0s - loss: 3.5287Epoch: 003 curr_lr: 5.7e-05 - train_loss: 3.5287 - val_loss: 3.4144 val_score: 0.792  best_val_score: 0.792  last_epoch t=66.33s, total_time_elapsed t=275.0s\n",
      "718/718 [==============================] - 66s 92ms/step - loss: 3.5287 - val_loss: 3.4144\n",
      "Epoch 5/14\n",
      "718/718 [==============================] - ETA: 0s - loss: 3.4928Epoch: 004 curr_lr: 5.1e-05 - train_loss: 3.4928 - val_loss: 3.3444 val_score: 0.787  best_val_score: 0.792  last_epoch t=64.71s, total_time_elapsed t=339.0s\n",
      "718/718 [==============================] - 65s 90ms/step - loss: 3.4928 - val_loss: 3.3444\n",
      "Epoch 6/14\n",
      "718/718 [==============================] - ETA: 0s - loss: 3.4490Epoch: 005 curr_lr: 4.6e-05 - train_loss: 3.4490 - val_loss: 3.3179 val_score: 0.799  best_val_score: 0.799  last_epoch t=65.98s, total_time_elapsed t=405.0s\n",
      "718/718 [==============================] - 66s 92ms/step - loss: 3.4490 - val_loss: 3.3179\n",
      "Epoch 7/14\n",
      "718/718 [==============================] - ETA: 0s - loss: 3.4126Epoch: 006 curr_lr: 4.2e-05 - train_loss: 3.4126 - val_loss: 3.6757 val_score: 0.784  best_val_score: 0.799  last_epoch t=64.88s, total_time_elapsed t=470.0s\n",
      "718/718 [==============================] - 65s 90ms/step - loss: 3.4126 - val_loss: 3.6757\n",
      "Epoch 8/14\n",
      "718/718 [==============================] - ETA: 0s - loss: 3.3758Epoch: 007 curr_lr: 3.7e-05 - train_loss: 3.3758 - val_loss: 3.4671 val_score: 0.794  best_val_score: 0.799  last_epoch t=67.08s, total_time_elapsed t=537.0s\n",
      "718/718 [==============================] - 67s 93ms/step - loss: 3.3758 - val_loss: 3.4671\n",
      "Epoch 9/14\n",
      "718/718 [==============================] - ETA: 0s - loss: 3.3695Epoch: 008 curr_lr: 3.4e-05 - train_loss: 3.3695 - val_loss: 3.2521 val_score: 0.802  best_val_score: 0.802  last_epoch t=69.92s, total_time_elapsed t=607.0s\n",
      "718/718 [==============================] - 70s 97ms/step - loss: 3.3695 - val_loss: 3.2521\n",
      "Epoch 10/14\n",
      "718/718 [==============================] - ETA: 0s - loss: 3.3633Epoch: 009 curr_lr: 3.0e-05 - train_loss: 3.3633 - val_loss: 3.3065 val_score: 0.800  best_val_score: 0.802  last_epoch t=64.89s, total_time_elapsed t=672.0s\n",
      "718/718 [==============================] - 65s 90ms/step - loss: 3.3633 - val_loss: 3.3065\n",
      "Epoch 11/14\n",
      "718/718 [==============================] - ETA: 0s - loss: 3.3248Epoch: 010 curr_lr: 2.7e-05 - train_loss: 3.3248 - val_loss: 3.4022 val_score: 0.781  best_val_score: 0.802  last_epoch t=67.83s, total_time_elapsed t=740.0s\n",
      "718/718 [==============================] - 68s 94ms/step - loss: 3.3248 - val_loss: 3.4022\n",
      "Epoch 12/14\n",
      "718/718 [==============================] - ETA: 0s - loss: 3.3149Epoch: 011 curr_lr: 2.5e-05 - train_loss: 3.3149 - val_loss: 3.3622 val_score: 0.799  best_val_score: 0.802  last_epoch t=68.28s, total_time_elapsed t=808.0s\n",
      "718/718 [==============================] - 68s 95ms/step - loss: 3.3149 - val_loss: 3.3622\n",
      "Epoch 13/14\n",
      "718/718 [==============================] - ETA: 0s - loss: 3.3152Epoch: 012 curr_lr: 2.2e-05 - train_loss: 3.3152 - val_loss: 3.3423 val_score: 0.798  best_val_score: 0.802  last_epoch t=65.13s, total_time_elapsed t=873.0s\n",
      "718/718 [==============================] - 65s 91ms/step - loss: 3.3152 - val_loss: 3.3423\n",
      "Epoch 14/14\n",
      "718/718 [==============================] - ETA: 0s - loss: 3.2971Epoch: 013 curr_lr: 2.0e-05 - train_loss: 3.2971 - val_loss: 3.2751 val_score: 0.801  best_val_score: 0.802  last_epoch t=67.70s, total_time_elapsed t=941.0s\n",
      "718/718 [==============================] - 68s 94ms/step - loss: 3.2971 - val_loss: 3.2751\n",
      "Model finished with val loss: 3.275120735168457\n",
      "46/46 [==============================] - 5s 67ms/step\n",
      "Val Score: 0.8017610135795821\n",
      "WARNING:tensorflow:Compiled the loaded model, but the compiled metrics have yet to be built. `model.compile_metrics` will be empty until you train or evaluate the model.\n"
     ]
    },
    {
     "name": "stderr",
     "output_type": "stream",
     "text": [
      "100%|██████████| 529/529 [00:05<00:00, 105.66it/s]\n"
     ]
    },
    {
     "name": "stdout",
     "output_type": "stream",
     "text": [
      "\n",
      "\n",
      "\n",
      "-----------Starting fold: 1-----------\n",
      "\n",
      "\n",
      "\n",
      "Using 211 series for training and 53 series for validation\n",
      "Using a split len of 17280\n"
     ]
    },
    {
     "name": "stderr",
     "output_type": "stream",
     "text": [
      "100%|██████████| 211/211 [00:10<00:00, 20.14it/s]\n"
     ]
    },
    {
     "name": "stdout",
     "output_type": "stream",
     "text": [
      "X: (5831, 17280, 32), y: (5831, 17280, 2), series_ids: (5831,)\n",
      "Using a split len of 17280\n"
     ]
    },
    {
     "name": "stderr",
     "output_type": "stream",
     "text": [
      "100%|██████████| 53/53 [00:02<00:00, 25.37it/s]\n"
     ]
    },
    {
     "name": "stdout",
     "output_type": "stream",
     "text": [
      "X: (1373, 17280, 32), y: (1373, 17280, 2), series_ids: (1373,)\n",
      "Total model parameters: 34598408\n",
      "Epoch 1/14\n",
      "729/729 [==============================] - ETA: 0s - loss: 4.4836Epoch: 000 curr_lr: 6.0e-05 - train_loss: 4.4836 - val_loss: 3.8228 val_score: 0.787  best_val_score: 0.787  last_epoch t=79.34s, total_time_elapsed t=79.0s\n",
      "729/729 [==============================] - 79s 101ms/step - loss: 4.4836 - val_loss: 3.8228\n",
      "Epoch 2/14\n",
      "729/729 [==============================] - ETA: 0s - loss: 3.6446Epoch: 001 curr_lr: 6.0e-05 - train_loss: 3.6446 - val_loss: 3.8220 val_score: 0.791  best_val_score: 0.791  last_epoch t=68.01s, total_time_elapsed t=147.0s\n",
      "729/729 [==============================] - 68s 93ms/step - loss: 3.6446 - val_loss: 3.8220\n",
      "Epoch 3/14\n",
      "729/729 [==============================] - ETA: 0s - loss: 3.5298Epoch: 002 curr_lr: 6.0e-05 - train_loss: 3.5298 - val_loss: 3.7524 val_score: 0.812  best_val_score: 0.812  last_epoch t=67.47s, total_time_elapsed t=215.0s\n",
      "729/729 [==============================] - 67s 93ms/step - loss: 3.5298 - val_loss: 3.7524\n",
      "Epoch 4/14\n",
      "729/729 [==============================] - ETA: 0s - loss: 3.4715Epoch: 003 curr_lr: 5.7e-05 - train_loss: 3.4715 - val_loss: 3.7062 val_score: 0.810  best_val_score: 0.812  last_epoch t=66.32s, total_time_elapsed t=281.0s\n",
      "729/729 [==============================] - 66s 91ms/step - loss: 3.4715 - val_loss: 3.7062\n",
      "Epoch 5/14\n",
      "729/729 [==============================] - ETA: 0s - loss: 3.4315Epoch: 004 curr_lr: 5.1e-05 - train_loss: 3.4315 - val_loss: 3.6169 val_score: 0.822  best_val_score: 0.822  last_epoch t=67.75s, total_time_elapsed t=349.0s\n",
      "729/729 [==============================] - 68s 93ms/step - loss: 3.4315 - val_loss: 3.6169\n",
      "Epoch 6/14\n",
      "729/729 [==============================] - ETA: 0s - loss: 3.3791Epoch: 005 curr_lr: 4.6e-05 - train_loss: 3.3791 - val_loss: 3.6681 val_score: 0.822  best_val_score: 0.822  last_epoch t=66.19s, total_time_elapsed t=415.0s\n",
      "729/729 [==============================] - 66s 91ms/step - loss: 3.3791 - val_loss: 3.6681\n",
      "Epoch 7/14\n",
      "729/729 [==============================] - ETA: 0s - loss: 3.3447Epoch: 006 curr_lr: 4.2e-05 - train_loss: 3.3447 - val_loss: 3.7017 val_score: 0.811  best_val_score: 0.822  last_epoch t=66.87s, total_time_elapsed t=482.0s\n",
      "729/729 [==============================] - 67s 92ms/step - loss: 3.3447 - val_loss: 3.7017\n",
      "Epoch 8/14\n",
      "729/729 [==============================] - ETA: 0s - loss: 3.3224Epoch: 007 curr_lr: 3.7e-05 - train_loss: 3.3224 - val_loss: 3.5849 val_score: 0.824  best_val_score: 0.824  last_epoch t=69.03s, total_time_elapsed t=551.0s\n",
      "729/729 [==============================] - 69s 95ms/step - loss: 3.3224 - val_loss: 3.5849\n",
      "Epoch 9/14\n",
      "729/729 [==============================] - ETA: 0s - loss: 3.3122Epoch: 008 curr_lr: 3.4e-05 - train_loss: 3.3122 - val_loss: 3.5988 val_score: 0.820  best_val_score: 0.824  last_epoch t=65.64s, total_time_elapsed t=617.0s\n",
      "729/729 [==============================] - 66s 90ms/step - loss: 3.3122 - val_loss: 3.5988\n",
      "Epoch 10/14\n",
      "729/729 [==============================] - ETA: 0s - loss: 3.2788Epoch: 009 curr_lr: 3.0e-05 - train_loss: 3.2788 - val_loss: 3.6343 val_score: 0.824  best_val_score: 0.824  last_epoch t=65.28s, total_time_elapsed t=682.0s\n",
      "729/729 [==============================] - 65s 90ms/step - loss: 3.2788 - val_loss: 3.6343\n",
      "Epoch 11/14\n",
      "729/729 [==============================] - ETA: 0s - loss: 3.2706Epoch: 010 curr_lr: 2.7e-05 - train_loss: 3.2706 - val_loss: 3.5692 val_score: 0.826  best_val_score: 0.826  last_epoch t=68.40s, total_time_elapsed t=750.0s\n",
      "729/729 [==============================] - 68s 94ms/step - loss: 3.2706 - val_loss: 3.5692\n",
      "Epoch 12/14\n",
      "729/729 [==============================] - ETA: 0s - loss: 3.2477Epoch: 011 curr_lr: 2.5e-05 - train_loss: 3.2477 - val_loss: 3.6311 val_score: 0.827  best_val_score: 0.827  last_epoch t=67.88s, total_time_elapsed t=818.0s\n",
      "729/729 [==============================] - 68s 93ms/step - loss: 3.2477 - val_loss: 3.6311\n",
      "Epoch 13/14\n",
      "729/729 [==============================] - ETA: 0s - loss: 3.2426Epoch: 012 curr_lr: 2.2e-05 - train_loss: 3.2426 - val_loss: 3.5776 val_score: 0.824  best_val_score: 0.827  last_epoch t=65.63s, total_time_elapsed t=884.0s\n",
      "729/729 [==============================] - 66s 90ms/step - loss: 3.2426 - val_loss: 3.5776\n",
      "Epoch 14/14\n",
      "729/729 [==============================] - ETA: 0s - loss: 3.2297Epoch: 013 curr_lr: 2.0e-05 - train_loss: 3.2297 - val_loss: 3.5572 val_score: 0.829  best_val_score: 0.829  last_epoch t=68.49s, total_time_elapsed t=952.0s\n",
      "729/729 [==============================] - 68s 94ms/step - loss: 3.2297 - val_loss: 3.5572\n",
      "Model finished with val loss: 3.557244062423706\n",
      "43/43 [==============================] - 4s 65ms/step\n",
      "Val Score: 0.8288928935068927\n",
      "WARNING:tensorflow:Compiled the loaded model, but the compiled metrics have yet to be built. `model.compile_metrics` will be empty until you train or evaluate the model.\n"
     ]
    },
    {
     "name": "stderr",
     "output_type": "stream",
     "text": [
      "100%|██████████| 529/529 [00:04<00:00, 109.27it/s]\n"
     ]
    },
    {
     "name": "stdout",
     "output_type": "stream",
     "text": [
      "\n",
      "\n",
      "\n",
      "-----------Starting fold: 3-----------\n",
      "\n",
      "\n",
      "\n",
      "Using 211 series for training and 53 series for validation\n",
      "Using a split len of 17280\n"
     ]
    },
    {
     "name": "stderr",
     "output_type": "stream",
     "text": [
      "100%|██████████| 211/211 [00:08<00:00, 24.00it/s]\n"
     ]
    },
    {
     "name": "stdout",
     "output_type": "stream",
     "text": [
      "X: (5778, 17280, 32), y: (5778, 17280, 2), series_ids: (5778,)\n",
      "Using a split len of 17280\n"
     ]
    },
    {
     "name": "stderr",
     "output_type": "stream",
     "text": [
      "100%|██████████| 53/53 [00:02<00:00, 22.62it/s]\n"
     ]
    },
    {
     "name": "stdout",
     "output_type": "stream",
     "text": [
      "X: (1426, 17280, 32), y: (1426, 17280, 2), series_ids: (1426,)\n",
      "Total model parameters: 34598408\n",
      "Epoch 1/14\n",
      "723/723 [==============================] - ETA: 0s - loss: 4.4451Epoch: 000 curr_lr: 6.0e-05 - train_loss: 4.4451 - val_loss: 3.7266 val_score: 0.773  best_val_score: 0.773  last_epoch t=81.88s, total_time_elapsed t=82.0s\n",
      "723/723 [==============================] - 82s 105ms/step - loss: 4.4451 - val_loss: 3.7266\n",
      "Epoch 2/14\n",
      "723/723 [==============================] - ETA: 0s - loss: 3.6838Epoch: 001 curr_lr: 6.0e-05 - train_loss: 3.6838 - val_loss: 3.5825 val_score: 0.804  best_val_score: 0.804  last_epoch t=68.47s, total_time_elapsed t=150.0s\n",
      "723/723 [==============================] - 68s 95ms/step - loss: 3.6838 - val_loss: 3.5825\n",
      "Epoch 3/14\n",
      "723/723 [==============================] - ETA: 0s - loss: 3.5801Epoch: 002 curr_lr: 6.0e-05 - train_loss: 3.5801 - val_loss: 3.5486 val_score: 0.810  best_val_score: 0.810  last_epoch t=68.56s, total_time_elapsed t=219.0s\n",
      "723/723 [==============================] - 69s 95ms/step - loss: 3.5801 - val_loss: 3.5486\n",
      "Epoch 4/14\n",
      "723/723 [==============================] - ETA: 0s - loss: 3.5190Epoch: 003 curr_lr: 5.7e-05 - train_loss: 3.5190 - val_loss: 3.4994 val_score: 0.814  best_val_score: 0.814  last_epoch t=69.31s, total_time_elapsed t=288.0s\n",
      "723/723 [==============================] - 69s 96ms/step - loss: 3.5190 - val_loss: 3.4994\n",
      "Epoch 5/14\n",
      "723/723 [==============================] - ETA: 0s - loss: 3.5189Epoch: 004 curr_lr: 5.1e-05 - train_loss: 3.5189 - val_loss: 3.4980 val_score: 0.800  best_val_score: 0.814  last_epoch t=67.55s, total_time_elapsed t=356.0s\n",
      "723/723 [==============================] - 68s 93ms/step - loss: 3.5189 - val_loss: 3.4980\n",
      "Epoch 6/14\n",
      "723/723 [==============================] - ETA: 0s - loss: 3.4333Epoch: 005 curr_lr: 4.6e-05 - train_loss: 3.4333 - val_loss: 3.4614 val_score: 0.816  best_val_score: 0.816  last_epoch t=69.58s, total_time_elapsed t=425.0s\n",
      "723/723 [==============================] - 70s 96ms/step - loss: 3.4333 - val_loss: 3.4614\n",
      "Epoch 7/14\n",
      "723/723 [==============================] - ETA: 0s - loss: 3.4172Epoch: 006 curr_lr: 4.2e-05 - train_loss: 3.4172 - val_loss: 3.4183 val_score: 0.815  best_val_score: 0.816  last_epoch t=67.56s, total_time_elapsed t=493.0s\n",
      "723/723 [==============================] - 68s 93ms/step - loss: 3.4172 - val_loss: 3.4183\n",
      "Epoch 8/14\n",
      "723/723 [==============================] - ETA: 0s - loss: 3.3785Epoch: 007 curr_lr: 3.7e-05 - train_loss: 3.3785 - val_loss: 3.4252 val_score: 0.813  best_val_score: 0.816  last_epoch t=67.91s, total_time_elapsed t=561.0s\n",
      "723/723 [==============================] - 68s 94ms/step - loss: 3.3785 - val_loss: 3.4252\n",
      "Epoch 9/14\n",
      "723/723 [==============================] - ETA: 0s - loss: 3.3405Epoch: 008 curr_lr: 3.4e-05 - train_loss: 3.3405 - val_loss: 3.4126 val_score: 0.818  best_val_score: 0.818  last_epoch t=70.31s, total_time_elapsed t=631.0s\n",
      "723/723 [==============================] - 70s 97ms/step - loss: 3.3405 - val_loss: 3.4126\n",
      "Epoch 10/14\n",
      "723/723 [==============================] - ETA: 0s - loss: 3.3392Epoch: 009 curr_lr: 3.0e-05 - train_loss: 3.3392 - val_loss: 3.4231 val_score: 0.813  best_val_score: 0.818  last_epoch t=67.82s, total_time_elapsed t=699.0s\n",
      "723/723 [==============================] - 68s 94ms/step - loss: 3.3392 - val_loss: 3.4231\n",
      "Epoch 11/14\n",
      "723/723 [==============================] - ETA: 0s - loss: 3.3245Epoch: 010 curr_lr: 2.7e-05 - train_loss: 3.3245 - val_loss: 3.3613 val_score: 0.815  best_val_score: 0.818  last_epoch t=67.01s, total_time_elapsed t=766.0s\n",
      "723/723 [==============================] - 67s 93ms/step - loss: 3.3245 - val_loss: 3.3613\n",
      "Epoch 12/14\n",
      "723/723 [==============================] - ETA: 0s - loss: 3.2946Epoch: 011 curr_lr: 2.5e-05 - train_loss: 3.2946 - val_loss: 3.5856 val_score: 0.792  best_val_score: 0.818  last_epoch t=67.70s, total_time_elapsed t=834.0s\n",
      "723/723 [==============================] - 68s 94ms/step - loss: 3.2946 - val_loss: 3.5856\n",
      "Epoch 13/14\n",
      "723/723 [==============================] - ETA: 0s - loss: 3.2897Epoch: 012 curr_lr: 2.2e-05 - train_loss: 3.2897 - val_loss: 3.3432 val_score: 0.816  best_val_score: 0.818  last_epoch t=67.49s, total_time_elapsed t=901.0s\n",
      "723/723 [==============================] - 67s 93ms/step - loss: 3.2897 - val_loss: 3.3432\n",
      "Epoch 14/14\n",
      "723/723 [==============================] - ETA: 0s - loss: 3.2683Epoch: 013 curr_lr: 2.0e-05 - train_loss: 3.2683 - val_loss: 3.3509 val_score: 0.818  best_val_score: 0.818  last_epoch t=67.48s, total_time_elapsed t=969.0s\n",
      "723/723 [==============================] - 67s 93ms/step - loss: 3.2683 - val_loss: 3.3509\n",
      "Model finished with val loss: 3.350882053375244\n",
      "45/45 [==============================] - 5s 68ms/step\n",
      "Val Score: 0.8184229626747149\n",
      "WARNING:tensorflow:Compiled the loaded model, but the compiled metrics have yet to be built. `model.compile_metrics` will be empty until you train or evaluate the model.\n"
     ]
    },
    {
     "name": "stderr",
     "output_type": "stream",
     "text": [
      "100%|██████████| 529/529 [00:05<00:00, 104.76it/s]\n"
     ]
    },
    {
     "name": "stdout",
     "output_type": "stream",
     "text": [
      "\n",
      "\n",
      "\n",
      "-----------Starting fold: 4-----------\n",
      "\n",
      "\n",
      "\n",
      "Using 211 series for training and 53 series for validation\n",
      "Using a split len of 17280\n"
     ]
    },
    {
     "name": "stderr",
     "output_type": "stream",
     "text": [
      "100%|██████████| 211/211 [00:08<00:00, 24.94it/s]\n"
     ]
    },
    {
     "name": "stdout",
     "output_type": "stream",
     "text": [
      "X: (5820, 17280, 32), y: (5820, 17280, 2), series_ids: (5820,)\n",
      "Using a split len of 17280\n"
     ]
    },
    {
     "name": "stderr",
     "output_type": "stream",
     "text": [
      "100%|██████████| 53/53 [00:01<00:00, 35.73it/s]\n"
     ]
    },
    {
     "name": "stdout",
     "output_type": "stream",
     "text": [
      "X: (1384, 17280, 32), y: (1384, 17280, 2), series_ids: (1384,)\n",
      "Total model parameters: 34598408\n",
      "Epoch 1/14\n",
      "728/728 [==============================] - ETA: 0s - loss: 4.4297Epoch: 000 curr_lr: 6.0e-05 - train_loss: 4.4297 - val_loss: 3.8778 val_score: 0.776  best_val_score: 0.776  last_epoch t=79.25s, total_time_elapsed t=79.0s\n",
      "728/728 [==============================] - 79s 101ms/step - loss: 4.4297 - val_loss: 3.8778\n",
      "Epoch 2/14\n",
      "728/728 [==============================] - ETA: 0s - loss: 3.6392Epoch: 001 curr_lr: 6.0e-05 - train_loss: 3.6392 - val_loss: 3.9547 val_score: 0.779  best_val_score: 0.779  last_epoch t=67.73s, total_time_elapsed t=147.0s\n",
      "728/728 [==============================] - 68s 93ms/step - loss: 3.6392 - val_loss: 3.9547\n",
      "Epoch 3/14\n",
      "728/728 [==============================] - ETA: 0s - loss: 3.5414Epoch: 002 curr_lr: 6.0e-05 - train_loss: 3.5414 - val_loss: 3.6769 val_score: 0.799  best_val_score: 0.799  last_epoch t=66.06s, total_time_elapsed t=213.0s\n",
      "728/728 [==============================] - 66s 91ms/step - loss: 3.5414 - val_loss: 3.6769\n",
      "Epoch 4/14\n",
      "728/728 [==============================] - ETA: 0s - loss: 3.4828Epoch: 003 curr_lr: 5.7e-05 - train_loss: 3.4828 - val_loss: 3.6396 val_score: 0.801  best_val_score: 0.801  last_epoch t=68.13s, total_time_elapsed t=281.0s\n",
      "728/728 [==============================] - 68s 94ms/step - loss: 3.4828 - val_loss: 3.6396\n",
      "Epoch 5/14\n",
      "728/728 [==============================] - ETA: 0s - loss: 3.4313Epoch: 004 curr_lr: 5.1e-05 - train_loss: 3.4313 - val_loss: 3.5919 val_score: 0.803  best_val_score: 0.803  last_epoch t=68.45s, total_time_elapsed t=350.0s\n",
      "728/728 [==============================] - 68s 94ms/step - loss: 3.4313 - val_loss: 3.5919\n",
      "Epoch 6/14\n",
      "728/728 [==============================] - ETA: 0s - loss: 3.3972Epoch: 005 curr_lr: 4.6e-05 - train_loss: 3.3972 - val_loss: 3.5615 val_score: 0.808  best_val_score: 0.808  last_epoch t=66.93s, total_time_elapsed t=417.0s\n",
      "728/728 [==============================] - 67s 92ms/step - loss: 3.3972 - val_loss: 3.5615\n",
      "Epoch 7/14\n",
      "728/728 [==============================] - ETA: 0s - loss: 3.3518Epoch: 006 curr_lr: 4.2e-05 - train_loss: 3.3518 - val_loss: 3.5976 val_score: 0.801  best_val_score: 0.808  last_epoch t=65.87s, total_time_elapsed t=482.0s\n",
      "728/728 [==============================] - 66s 91ms/step - loss: 3.3518 - val_loss: 3.5976\n",
      "Epoch 8/14\n",
      "728/728 [==============================] - ETA: 0s - loss: 3.3258Epoch: 007 curr_lr: 3.7e-05 - train_loss: 3.3258 - val_loss: 3.5874 val_score: 0.800  best_val_score: 0.808  last_epoch t=66.24s, total_time_elapsed t=549.0s\n",
      "728/728 [==============================] - 66s 91ms/step - loss: 3.3258 - val_loss: 3.5874\n",
      "Epoch 9/14\n",
      "728/728 [==============================] - ETA: 0s - loss: 3.3090Epoch: 008 curr_lr: 3.4e-05 - train_loss: 3.3090 - val_loss: 3.5445 val_score: 0.809  best_val_score: 0.809  last_epoch t=68.03s, total_time_elapsed t=617.0s\n",
      "728/728 [==============================] - 68s 93ms/step - loss: 3.3090 - val_loss: 3.5445\n",
      "Epoch 10/14\n",
      "728/728 [==============================] - ETA: 0s - loss: 3.2827Epoch: 009 curr_lr: 3.0e-05 - train_loss: 3.2827 - val_loss: 3.5365 val_score: 0.810  best_val_score: 0.810  last_epoch t=67.26s, total_time_elapsed t=684.0s\n",
      "728/728 [==============================] - 67s 92ms/step - loss: 3.2827 - val_loss: 3.5365\n",
      "Epoch 11/14\n",
      "728/728 [==============================] - ETA: 0s - loss: 3.2756Epoch: 010 curr_lr: 2.7e-05 - train_loss: 3.2756 - val_loss: 3.5646 val_score: 0.815  best_val_score: 0.815  last_epoch t=67.01s, total_time_elapsed t=751.0s\n",
      "728/728 [==============================] - 67s 92ms/step - loss: 3.2756 - val_loss: 3.5646\n",
      "Epoch 12/14\n",
      "728/728 [==============================] - ETA: 0s - loss: 3.2511Epoch: 011 curr_lr: 2.5e-05 - train_loss: 3.2511 - val_loss: 3.4805 val_score: 0.817  best_val_score: 0.817  last_epoch t=67.80s, total_time_elapsed t=819.0s\n",
      "728/728 [==============================] - 68s 93ms/step - loss: 3.2511 - val_loss: 3.4805\n",
      "Epoch 13/14\n",
      "728/728 [==============================] - ETA: 0s - loss: 3.2384Epoch: 012 curr_lr: 2.2e-05 - train_loss: 3.2384 - val_loss: 3.5497 val_score: 0.815  best_val_score: 0.817  last_epoch t=64.89s, total_time_elapsed t=884.0s\n",
      "728/728 [==============================] - 65s 89ms/step - loss: 3.2384 - val_loss: 3.5497\n",
      "Epoch 14/14\n",
      "728/728 [==============================] - ETA: 0s - loss: 3.2240Epoch: 013 curr_lr: 2.0e-05 - train_loss: 3.2240 - val_loss: 3.5087 val_score: 0.814  best_val_score: 0.817  last_epoch t=63.82s, total_time_elapsed t=948.0s\n",
      "728/728 [==============================] - 64s 88ms/step - loss: 3.2240 - val_loss: 3.5087\n",
      "Model finished with val loss: 3.5087311267852783\n",
      "44/44 [==============================] - 7s 68ms/step\n",
      "Val Score: 0.8172003954278348\n",
      "WARNING:tensorflow:Compiled the loaded model, but the compiled metrics have yet to be built. `model.compile_metrics` will be empty until you train or evaluate the model.\n"
     ]
    },
    {
     "name": "stderr",
     "output_type": "stream",
     "text": [
      "100%|██████████| 529/529 [00:04<00:00, 107.17it/s]\n"
     ]
    },
    {
     "name": "stdout",
     "output_type": "stream",
     "text": [
      "\n",
      "\n",
      "\n",
      "-----------Starting fold: 5-----------\n",
      "\n",
      "\n",
      "\n",
      "Using 212 series for training and 52 series for validation\n",
      "Using a split len of 17280\n"
     ]
    },
    {
     "name": "stderr",
     "output_type": "stream",
     "text": [
      "100%|██████████| 212/212 [00:08<00:00, 25.80it/s]\n"
     ]
    },
    {
     "name": "stdout",
     "output_type": "stream",
     "text": [
      "X: (5645, 17280, 32), y: (5645, 17280, 2), series_ids: (5645,)\n",
      "Using a split len of 17280\n"
     ]
    },
    {
     "name": "stderr",
     "output_type": "stream",
     "text": [
      "100%|██████████| 52/52 [00:01<00:00, 29.22it/s]\n"
     ]
    },
    {
     "name": "stdout",
     "output_type": "stream",
     "text": [
      "X: (1559, 17280, 32), y: (1559, 17280, 2), series_ids: (1559,)\n",
      "Total model parameters: 34598408\n",
      "Epoch 1/14\n",
      "706/706 [==============================] - ETA: 0s - loss: 4.5370Epoch: 000 curr_lr: 6.0e-05 - train_loss: 4.5370 - val_loss: 3.8569 val_score: 0.759  best_val_score: 0.759  last_epoch t=80.07s, total_time_elapsed t=80.0s\n",
      "706/706 [==============================] - 80s 105ms/step - loss: 4.5370 - val_loss: 3.8569\n",
      "Epoch 2/14\n",
      "706/706 [==============================] - ETA: 0s - loss: 3.7308Epoch: 001 curr_lr: 6.0e-05 - train_loss: 3.7308 - val_loss: 3.4689 val_score: 0.785  best_val_score: 0.785  last_epoch t=68.68s, total_time_elapsed t=149.0s\n",
      "706/706 [==============================] - 69s 97ms/step - loss: 3.7308 - val_loss: 3.4689\n",
      "Epoch 3/14\n",
      "706/706 [==============================] - ETA: 0s - loss: 3.6313Epoch: 002 curr_lr: 6.0e-05 - train_loss: 3.6313 - val_loss: 3.5643 val_score: 0.808  best_val_score: 0.808  last_epoch t=69.40s, total_time_elapsed t=218.0s\n",
      "706/706 [==============================] - 69s 98ms/step - loss: 3.6313 - val_loss: 3.5643\n",
      "Epoch 4/14\n",
      "706/706 [==============================] - ETA: 0s - loss: 3.5606Epoch: 003 curr_lr: 5.7e-05 - train_loss: 3.5606 - val_loss: 3.6755 val_score: 0.799  best_val_score: 0.808  last_epoch t=67.13s, total_time_elapsed t=285.0s\n",
      "706/706 [==============================] - 67s 95ms/step - loss: 3.5606 - val_loss: 3.6755\n",
      "Epoch 5/14\n",
      "706/706 [==============================] - ETA: 0s - loss: 3.5011Epoch: 004 curr_lr: 5.1e-05 - train_loss: 3.5011 - val_loss: 3.3932 val_score: 0.804  best_val_score: 0.808  last_epoch t=67.12s, total_time_elapsed t=352.0s\n",
      "706/706 [==============================] - 67s 95ms/step - loss: 3.5011 - val_loss: 3.3932\n",
      "Epoch 6/14\n",
      "706/706 [==============================] - ETA: 0s - loss: 3.4690Epoch: 005 curr_lr: 4.6e-05 - train_loss: 3.4690 - val_loss: 3.3324 val_score: 0.804  best_val_score: 0.808  last_epoch t=67.34s, total_time_elapsed t=420.0s\n",
      "706/706 [==============================] - 67s 95ms/step - loss: 3.4690 - val_loss: 3.3324\n",
      "Epoch 7/14\n",
      "706/706 [==============================] - ETA: 0s - loss: 3.4215Epoch: 006 curr_lr: 4.2e-05 - train_loss: 3.4215 - val_loss: 3.3372 val_score: 0.802  best_val_score: 0.808  last_epoch t=67.47s, total_time_elapsed t=487.0s\n",
      "706/706 [==============================] - 67s 96ms/step - loss: 3.4215 - val_loss: 3.3372\n",
      "Epoch 8/14\n",
      "706/706 [==============================] - ETA: 0s - loss: 3.4038Epoch: 007 curr_lr: 3.7e-05 - train_loss: 3.4038 - val_loss: 3.2650 val_score: 0.818  best_val_score: 0.818  last_epoch t=71.84s, total_time_elapsed t=559.0s\n",
      "706/706 [==============================] - 72s 102ms/step - loss: 3.4038 - val_loss: 3.2650\n",
      "Epoch 9/14\n",
      "705/706 [============================>.] - ETA: 0s - loss: 3.3821Epoch: 008 curr_lr: 3.4e-05 - train_loss: 3.3811 - val_loss: 3.3180 val_score: 0.811  best_val_score: 0.818  last_epoch t=67.45s, total_time_elapsed t=627.0s\n",
      "706/706 [==============================] - 67s 96ms/step - loss: 3.3811 - val_loss: 3.3180\n",
      "Epoch 10/14\n",
      "706/706 [==============================] - ETA: 0s - loss: 3.3539Epoch: 009 curr_lr: 3.0e-05 - train_loss: 3.3539 - val_loss: 3.3901 val_score: 0.809  best_val_score: 0.818  last_epoch t=67.38s, total_time_elapsed t=694.0s\n",
      "706/706 [==============================] - 67s 95ms/step - loss: 3.3539 - val_loss: 3.3901\n",
      "Epoch 11/14\n",
      "706/706 [==============================] - ETA: 0s - loss: 3.3445Epoch: 010 curr_lr: 2.7e-05 - train_loss: 3.3445 - val_loss: 3.2581 val_score: 0.822  best_val_score: 0.822  last_epoch t=70.55s, total_time_elapsed t=764.0s\n",
      "706/706 [==============================] - 71s 100ms/step - loss: 3.3445 - val_loss: 3.2581\n",
      "Epoch 12/14\n",
      "706/706 [==============================] - ETA: 0s - loss: 3.3265Epoch: 011 curr_lr: 2.5e-05 - train_loss: 3.3265 - val_loss: 3.3986 val_score: 0.814  best_val_score: 0.822  last_epoch t=68.21s, total_time_elapsed t=833.0s\n",
      "706/706 [==============================] - 68s 97ms/step - loss: 3.3265 - val_loss: 3.3986\n",
      "Epoch 13/14\n",
      "706/706 [==============================] - ETA: 0s - loss: 3.3064Epoch: 012 curr_lr: 2.2e-05 - train_loss: 3.3064 - val_loss: 3.2586 val_score: 0.820  best_val_score: 0.822  last_epoch t=66.69s, total_time_elapsed t=899.0s\n",
      "706/706 [==============================] - 67s 94ms/step - loss: 3.3064 - val_loss: 3.2586\n",
      "Epoch 14/14\n",
      "706/706 [==============================] - ETA: 0s - loss: 3.2902Epoch: 013 curr_lr: 2.0e-05 - train_loss: 3.2902 - val_loss: 3.2775 val_score: 0.808  best_val_score: 0.822  last_epoch t=67.43s, total_time_elapsed t=967.0s\n",
      "706/706 [==============================] - 67s 95ms/step - loss: 3.2902 - val_loss: 3.2775\n",
      "Model finished with val loss: 3.277470588684082\n",
      "49/49 [==============================] - 7s 67ms/step\n",
      "Val Score: 0.8219070302989154\n",
      "WARNING:tensorflow:Compiled the loaded model, but the compiled metrics have yet to be built. `model.compile_metrics` will be empty until you train or evaluate the model.\n",
      "Avg val score: 0.817636859097588 and std val score: 0.008919457416151183\n"
     ]
    }
   ],
   "source": [
    "n_folds = 5\n",
    "fold_run_order = [2, 1, 3, 4, 5]\n",
    "\n",
    "val_preds_lst = []\n",
    "val_series_lst = []\n",
    "val_starts_splits_lst = []\n",
    "\n",
    "val_y_lst = []\n",
    "models_lst = []\n",
    "val_scores = []\n",
    "\n",
    "model_dct = {}\n",
    "\n",
    "for fold_num in fold_run_order:\n",
    "    \n",
    "    X_s, y_s, series_ids = load_data(cfg.processed_data_path)\n",
    "    \n",
    "\n",
    "    print(f'\\n\\n\\n-----------Starting fold: {fold_num}-----------\\n\\n\\n')\n",
    "    \n",
    "    series_ids_val = splits_df.filter(pl.col(f'{n_folds}_fold') == fold_num)['series_id'].to_numpy()\n",
    "\n",
    "    val_idxs = [series_ids.index(s) for s in series_ids_val]\n",
    "    trn_idxs = np.setdiff1d(np.arange(len(series_ids)), val_idxs)\n",
    "    \n",
    "    print(f'Using {len(trn_idxs)} series for training and {len(val_idxs)} series for validation')\n",
    "\n",
    "    X_s_trn, y_s_trn, series_ids_trn = [X_s[i] for i in trn_idxs], [y_s[i] for i in trn_idxs], [series_ids[i] for i in trn_idxs]\n",
    "    X_s_val, y_s_val, series_ids_val = [X_s[i] for i in val_idxs], [y_s[i] for i in val_idxs], [series_ids[i] for i in val_idxs]\n",
    "\n",
    "    trn_ds = SleepDataset(X_s_trn, y_s_trn, series_ids_trn, cfg.samp_freq, remove_no_dets=False, is_train=True)\n",
    "    norm_params = trn_ds.norm_params\n",
    "    model_dct[fold_num] = norm_params\n",
    "    \n",
    "    val_ds = SleepDataset(X_s_val, y_s_val, series_ids_val, cfg.samp_freq, remove_no_dets=False, is_train=False, norm_params=norm_params)\n",
    "\n",
    "    del X_s_trn, y_s_trn,  X_s_val, y_s_val, series_ids_trn, X_s, y_s, series_ids\n",
    "    _ = gc.collect()\n",
    "\n",
    "\n",
    "    model = get_model(trn_ds.X.shape[1:])\n",
    "    \n",
    "    print(f'Total model parameters: {model.count_params()}')\n",
    "\n",
    "    val_events_df = train_events.filter(pl.col('series_id').is_in(series_ids_val))\n",
    "    inter_eval = IntervalEvaluation(val_ds, val_events_df, cfg.samp_freq, (trn_ds.X.shape[0]//model_cfg.batch_size)*model_cfg.n_epochs, model_cfg.start_lr, model_cfg.end_lr)\n",
    "    \n",
    "    model.fit(trn_ds.X, trn_ds.y,\n",
    "          epochs=model_cfg.n_epochs,\n",
    "          batch_size=model_cfg.batch_size,\n",
    "          callbacks=[inter_eval],\n",
    "          verbose=1,\n",
    "          validation_data=(val_ds.X, val_ds.y))\n",
    "    \n",
    "    \n",
    "    \n",
    "    last_loss = model.history.history['val_loss'][-1]\n",
    "    print(f'Model finished with val loss: {last_loss}')\n",
    "    \n",
    "    model = inter_eval.best_model\n",
    "    val_preds = model.predict(val_ds.X)\n",
    "    \n",
    "    val_score = post_process_preds(val_events_df, val_preds, val_ds.series_ids, val_ds.starts_splits, cfg.samp_freq, get_score=True)\n",
    "    print(f'Val Score: {val_score}')\n",
    "    \n",
    "    val_scores.append(val_score)\n",
    "    \n",
    "    val_y_lst.append(val_ds.y)\n",
    "    val_preds_lst.append(val_preds)\n",
    "    val_series_lst.append(val_ds.series_ids)\n",
    "    val_starts_splits_lst.append(val_ds.starts_splits)\n",
    "    \n",
    "    tf.keras.models.save_model(model, os.path.join(cfg.output_dir, cfg.ver, f'tf_model_fold_{fold_num}.h5'))\n",
    "    \n",
    "    del trn_ds, val_ds, model, inter_eval\n",
    "    _ = gc.collect()\n",
    "\n",
    "avg_val_score, std_val_score = np.mean(val_scores), np.std(val_scores)\n",
    "print(f'Avg val score: {avg_val_score} and std val score: {std_val_score}')"
   ]
  },
  {
   "cell_type": "markdown",
   "id": "35ff482f",
   "metadata": {},
   "source": [
    "###### series_ids_val"
   ]
  },
  {
   "cell_type": "code",
   "execution_count": 18,
   "id": "b6d9e397",
   "metadata": {},
   "outputs": [
    {
     "name": "stdout",
     "output_type": "stream",
     "text": [
      "(7204, 17280, 2) (7204, 17280, 2) (7204,)\n"
     ]
    }
   ],
   "source": [
    "val_starts_splits_all = np.concatenate(val_starts_splits_lst)\n",
    "val_preds_all = np.concatenate(val_preds_lst)\n",
    "val_series_all = np.concatenate(val_series_lst)\n",
    "val_y_all = np.concatenate(val_y_lst)\n",
    "\n",
    "print(val_preds_all.shape, val_y_all.shape, val_series_all.shape)"
   ]
  },
  {
   "cell_type": "code",
   "execution_count": 23,
   "id": "990abfbb",
   "metadata": {},
   "outputs": [
    {
     "name": "stdout",
     "output_type": "stream",
     "text": [
      "(127946340, 5)\n",
      "(122539680, 5)\n",
      "(124485120, 4)\n",
      "(122539680, 4)\n"
     ]
    }
   ],
   "source": [
    "# The code is creating a DataFrame `oof_preds_df` that contains the predicted values for the \"onset\" and \"wakeup\" columns.\n",
    "\n",
    "res_steps = []\n",
    "res_preds_onsets = []\n",
    "res_preds_wakeups = []\n",
    "\n",
    "res_series_ids = []\n",
    "\n",
    "start = 0\n",
    "while start < len(val_preds_all):\n",
    "    \n",
    "    end = start+1\n",
    "    while end < len(val_preds_all) and val_series_all[end] == val_series_all[start]:\n",
    "        end += 1\n",
    "        \n",
    "    preds = val_preds_all[start:end]\n",
    "    \n",
    "    steps = np.concatenate([val_starts_splits_all[idx] + np.arange(len(val_preds_all[idx])) for idx in range(start, end)])\n",
    "    preds = preds.reshape((preds.shape[0]*preds.shape[1]), 2)\n",
    "    \n",
    "    res_preds_onsets.append(preds[:, 0])\n",
    "    res_preds_wakeups.append(preds[:, 1])\n",
    "    \n",
    "    res_steps.append(steps)\n",
    "    ser_id = val_series_all[start]\n",
    "    \n",
    "    res_series_ids.append([ser_id for _ in range(len(preds))])\n",
    "    \n",
    "    start=end\n",
    "    \n",
    "    \n",
    "oof_preds_df = pl.DataFrame().with_columns([\n",
    "    pl.Series(np.concatenate(res_series_ids)).alias('series_id'),\n",
    "    pl.Series(np.concatenate(res_steps)).alias('step'),\n",
    "    pl.Series(np.concatenate(res_preds_onsets)).alias('onset'),\n",
    "    pl.Series(np.concatenate(res_preds_wakeups)).alias('wakeup')\n",
    "\n",
    "])\n",
    "\n",
    "train_series = pl.read_parquet(cfg.train_series_path)\n",
    "print(train_series.shape)\n",
    "train_series = train_series.filter(pl.col('series_id').is_in(list(np.unique(val_series_all))))\n",
    "train_series = train_series.with_columns(pl.col('step').cast(pl.Int64))\n",
    "print(train_series.shape)\n",
    "\n",
    "\n",
    "\n",
    "print(oof_preds_df.shape)\n",
    "oof_preds_df = train_series[['series_id', 'step']].join(oof_preds_df, on=['series_id', 'step'], how='left')\n",
    "print(oof_preds_df.shape)\n",
    "\n",
    "oof_preds_df.write_parquet(os.path.join(cfg.output_dir, cfg.ver, 'oof_preds.parquet'))"
   ]
  },
  {
   "cell_type": "code",
   "execution_count": 24,
   "id": "800ba20e",
   "metadata": {},
   "outputs": [
    {
     "name": "stdout",
     "output_type": "stream",
     "text": [
      "03d92c9f6f8a\n"
     ]
    },
    {
     "data": {
      "image/png": "[encoded data removed]",
      "text/plain": [
       "<Figure size 640x480 with 1 Axes>"
      ]
     },
     "metadata": {},
     "output_type": "display_data"
    }
   ],
   "source": [
    "i = 2\n",
    "# sid = val_series_all.filter(pl.col())\n",
    "plt.plot(val_y_all[i], label=\"Actual Values\")\n",
    "print(val_series_all[i])\n",
    "\n",
    "plt.plot(val_preds_all[i], label=\"Predicted Values\")\n",
    "\n",
    "\n",
    "plt.legend()\n",
    "plt.show()"
   ]
  },
  {
   "cell_type": "code",
   "execution_count": 25,
   "id": "b2a3f1d7",
   "metadata": {},
   "outputs": [],
   "source": [
    "def nms_nikhil(preds_orig, k_orig=150, max_thresh=0.05, max_count=500):\n",
    "    \n",
    "    preds=preds_orig.copy()\n",
    "    preds = np.convolve(preds, np.array([0.2, 0.6, 0.2]), mode='same')\n",
    "\n",
    "    count = 0\n",
    "    base=6.75\n",
    "    \n",
    "    k = k_orig\n",
    "    prev_max = None\n",
    "\n",
    "    scores = []\n",
    "    indices = []\n",
    "    \n",
    "    while True:\n",
    "            \n",
    "        curr_max_idx = np.argmax(preds)\n",
    "        curr_max = preds[curr_max_idx] \n",
    "        \n",
    "        if (curr_max < max_thresh) or count > max_count:\n",
    "            break\n",
    "        \n",
    "        indices.append(curr_max_idx)\n",
    "        scores.append(curr_max)\n",
    "        \n",
    "        preds[curr_max_idx] = 0\n",
    "        \n",
    "        supress_rates = np.logspace(start=0, stop=1, num=k, base=base)/base\n",
    "        supress_rates[:20] = 0\n",
    "        # supress_rates[20:] += 0.1\n",
    "\n",
    "        preds[max(curr_max_idx-k, 0):curr_max_idx] *= supress_rates[:min(k, curr_max_idx-0)][::-1]\n",
    "\n",
    "        preds[curr_max_idx+1:min(curr_max_idx+k+1, preds.shape[0])] *= supress_rates[:min(k, preds.shape[0]-curr_max_idx-1)]\n",
    "\n",
    "        prev_max = curr_max\n",
    "        \n",
    "        count += 1\n",
    "        \n",
    "    return indices, scores\n",
    "\n",
    "def get_actual_preds(val_preds, val_series_ids, val_steps, type_):\n",
    "    times = []\n",
    "    series_ids = []\n",
    "    scores = []\n",
    "    scores_y = []\n",
    "    \n",
    "    for i in np.arange(len(val_preds)):\n",
    "        \n",
    "        vp_i = val_preds[i]\n",
    "        ser_id = val_series_ids[i]\n",
    "        \n",
    "        col_index = 0 if type_ == \"onset\" else 1\n",
    "        other_col_index = 1 if type_ == \"onset\" else 0\n",
    "        \n",
    "        preds = vp_i[:, col_index]\n",
    "        preds_other = vp_i[:, other_col_index]\n",
    "\n",
    "        height_thresh = 0.05\n",
    "        \n",
    "        peaks, peak_scores = nms_nikhil(preds)\n",
    "\n",
    "        times.extend(val_steps[i][peaks])\n",
    "        scores.extend(list(peak_scores))\n",
    "        series_ids.extend([ser_id] * len(peaks))\n",
    "\n",
    "    return np.array(series_ids), np.array(times), np.array(scores)\n",
    "\n",
    "\n",
    "\n",
    "\n",
    "def post_process_preds(val_events_df, val_preds, val_series_ids, val_starts_splits, samp_freq, get_score=False):\n",
    "    \n",
    "#     val_steps = np.concatenate([val_starts_splits[idx] + np.arange(len(val_preds[idx])) for idx in range(val_preds.shape[0])])\n",
    "\n",
    "    val_res = []\n",
    "    \n",
    "    prev_ser_id = None\n",
    "    \n",
    "    res_steps = []\n",
    "    res_preds = []\n",
    "    res_series_ids = []\n",
    "    \n",
    "    start = 0\n",
    "    while start < len(val_preds):\n",
    "        \n",
    "        end = start+1\n",
    "        while end < len(val_preds) and val_series_ids[end] == val_series_ids[start]:\n",
    "            end += 1\n",
    "            \n",
    "        preds = val_preds[start:end]\n",
    "        \n",
    "        steps = np.concatenate([val_starts_splits[idx] + np.arange(len(val_preds[idx])) for idx in range(start, end)])\n",
    "        preds = preds.reshape((preds.shape[0]*preds.shape[1]), 2)\n",
    "        \n",
    "        res_preds.append(preds)\n",
    "        res_steps.append(steps)\n",
    "        res_series_ids.append(val_series_ids[start])\n",
    "        \n",
    "        start=end\n",
    "        \n",
    "        \n",
    "#     print(len(res_series_ids), len(res_steps), len(res_preds))\n",
    "\n",
    "    series_ids_onsets, onsets,  scores_onsets = get_actual_preds(res_preds, res_series_ids, res_steps, 'onset')\n",
    "    series_ids_wakeups, wakeups,  scores_wakeups =get_actual_preds(res_preds, res_series_ids, res_steps, 'wakeup')\n",
    "    \n",
    "    \n",
    "    onset_preds = pl.DataFrame().with_columns([pl.Series(series_ids_onsets).alias('series_id'),\n",
    "                                           pl.Series(onsets).cast(pl.Int64).alias('step'),\n",
    "                                           pl.lit('onset').alias('event'),\n",
    "                                           pl.Series(scores_onsets).alias('score')])\n",
    "\n",
    "    wakeup_preds = pl.DataFrame().with_columns([pl.Series(series_ids_wakeups).alias('series_id'),\n",
    "                                               pl.Series(wakeups).cast(pl.Int64).cast(pl.Int64).alias('step'),\n",
    "                                               pl.lit('wakeup').alias('event'),\n",
    "                                               pl.Series(scores_wakeups).alias('score')])\n",
    "    \n",
    "    val_preds_df = pl.concat([onset_preds, wakeup_preds]).sort(by=['series_id', 'step'])\n",
    "    \n",
    "    if get_score:\n",
    "        toleranaces = {'onset': [12, 36, 60, 90, 120, 150, 180, 240, 300, 360],'wakeup': [12, 36, 60, 90, 120, 150, 180, 240, 300, 360]}\n",
    "        comp_score = metric_fast.comp_scorer(\n",
    "        val_events_df,\n",
    "        val_preds_df,\n",
    "        tolerances = toleranaces,\n",
    "        )\n",
    "        return comp_score\n",
    "    \n",
    "    else:\n",
    "        return val_preds_df"
   ]
  },
  {
   "cell_type": "code",
   "execution_count": 26,
   "id": "10354814",
   "metadata": {},
   "outputs": [
    {
     "name": "stdout",
     "output_type": "stream",
     "text": [
      "0.8022631312494917\n",
      "0.8294395003530312\n",
      "0.816764528932012\n",
      "0.8176620669745143\n",
      "0.8230182746728448\n",
      "CPU times: user 30 s, sys: 39.6 s, total: 1min 9s\n",
      "Wall time: 1min 8s\n"
     ]
    },
    {
     "data": {
      "text/plain": [
       "(0.8178295004363788, 0.009002105576734986)"
      ]
     },
     "execution_count": 26,
     "metadata": {},
     "output_type": "execute_result"
    }
   ],
   "source": [
    "%%time\n",
    "scores = []\n",
    "\n",
    "for fold_num in range(1, 5+1):\n",
    "    \n",
    "    test_ser_ids = list(np.unique(val_series_lst[fold_num-1]))\n",
    "\n",
    "\n",
    "    val_events_df = train_events.filter(pl.col('series_id').is_in(test_ser_ids))\n",
    "    score = post_process_preds(val_events_df,\n",
    "                               val_preds_lst[fold_num-1],\n",
    "                               val_series_lst[fold_num-1],\n",
    "                               val_starts_splits_lst[fold_num-1],\n",
    "                               cfg.samp_freq,\n",
    "                               get_score=True)\n",
    "    print(score)\n",
    "    scores.append(score)\n",
    "    \n",
    "np.mean(scores), np.std(scores)"
   ]
  },
  {
   "cell_type": "code",
   "execution_count": 27,
   "id": "e911c72d",
   "metadata": {},
   "outputs": [],
   "source": [
    "val_preds_df = post_process_preds(val_events_df, val_preds_all, val_series_all, val_starts_splits_all, cfg.samp_freq, get_score=False)"
   ]
  },
  {
   "cell_type": "code",
   "execution_count": 28,
   "id": "b93f28c5",
   "metadata": {},
   "outputs": [],
   "source": [
    "def round_to_nearest_multiple(df, column_name='step'):\n",
    "    df[column_name] = df[column_name].apply(lambda x: x+1 if x%12==0  else x)\n",
    "    return df\n"
   ]
  },
  {
   "cell_type": "code",
   "execution_count": 29,
   "id": "b63863c7",
   "metadata": {},
   "outputs": [],
   "source": [
    "val_preds_df = round_to_nearest_multiple(val_preds_df.to_pandas())\n",
    "val_preds_df = pl.DataFrame(val_preds_df)"
   ]
  },
  {
   "cell_type": "code",
   "execution_count": 30,
   "id": "02c02a52",
   "metadata": {},
   "outputs": [],
   "source": [
    "tolerances = {'onset': [12, 36, 60, 90, 120, 150, 180, 240, 300, 360],\n",
    "               'wakeup': [12, 36, 60, 90, 120, 150, 180, 240, 300, 360]}"
   ]
  },
  {
   "cell_type": "code",
   "execution_count": 33,
   "id": "5e72bc10",
   "metadata": {},
   "outputs": [
    {
     "data": {
      "text/html": [
       "<div><style>\n",
       ".dataframe > thead > tr,\n",
       ".dataframe > tbody > tr {\n",
       "  text-align: right;\n",
       "  white-space: pre-wrap;\n",
       "}\n",
       "</style>\n",
       "<small>shape: (9_386, 6)</small><table border=\"1\" class=\"dataframe\"><thead><tr><th>series_id</th><th>night</th><th>event</th><th>step</th><th>timestamp</th><th>date</th></tr><tr><td>str</td><td>i64</td><td>str</td><td>i64</td><td>datetime[μs]</td><td>date</td></tr></thead><tbody><tr><td>&quot;038441c925bb&quot;</td><td>1</td><td>&quot;onset&quot;</td><td>4992</td><td>2018-08-14 22:26:00</td><td>2018-08-14</td></tr><tr><td>&quot;038441c925bb&quot;</td><td>1</td><td>&quot;wakeup&quot;</td><td>10932</td><td>2018-08-15 06:41:00</td><td>2018-08-15</td></tr><tr><td>&quot;038441c925bb&quot;</td><td>2</td><td>&quot;onset&quot;</td><td>20244</td><td>2018-08-15 19:37:00</td><td>2018-08-15</td></tr><tr><td>&quot;038441c925bb&quot;</td><td>2</td><td>&quot;wakeup&quot;</td><td>27492</td><td>2018-08-16 05:41:00</td><td>2018-08-16</td></tr><tr><td>&quot;038441c925bb&quot;</td><td>3</td><td>&quot;onset&quot;</td><td>39996</td><td>2018-08-16 23:03:00</td><td>2018-08-16</td></tr><tr><td>&quot;038441c925bb&quot;</td><td>3</td><td>&quot;wakeup&quot;</td><td>44400</td><td>2018-08-17 05:10:00</td><td>2018-08-17</td></tr><tr><td>&quot;038441c925bb&quot;</td><td>4</td><td>&quot;onset&quot;</td><td>57240</td><td>2018-08-17 23:00:00</td><td>2018-08-17</td></tr><tr><td>&quot;038441c925bb&quot;</td><td>4</td><td>&quot;wakeup&quot;</td><td>62856</td><td>2018-08-18 06:48:00</td><td>2018-08-18</td></tr><tr><td>&quot;038441c925bb&quot;</td><td>6</td><td>&quot;onset&quot;</td><td>91296</td><td>2018-08-19 22:18:00</td><td>2018-08-19</td></tr><tr><td>&quot;038441c925bb&quot;</td><td>6</td><td>&quot;wakeup&quot;</td><td>97860</td><td>2018-08-20 07:25:00</td><td>2018-08-20</td></tr><tr><td>&quot;038441c925bb&quot;</td><td>7</td><td>&quot;onset&quot;</td><td>109500</td><td>2018-08-20 23:35:00</td><td>2018-08-20</td></tr><tr><td>&quot;038441c925bb&quot;</td><td>7</td><td>&quot;wakeup&quot;</td><td>118524</td><td>2018-08-21 12:07:00</td><td>2018-08-21</td></tr><tr><td>&hellip;</td><td>&hellip;</td><td>&hellip;</td><td>&hellip;</td><td>&hellip;</td><td>&hellip;</td></tr><tr><td>&quot;fe90110788d2&quot;</td><td>29</td><td>&quot;onset&quot;</td><td>488424</td><td>2017-09-01 23:52:00</td><td>2017-09-01</td></tr><tr><td>&quot;fe90110788d2&quot;</td><td>29</td><td>&quot;wakeup&quot;</td><td>494952</td><td>2017-09-02 08:56:00</td><td>2017-09-02</td></tr><tr><td>&quot;fe90110788d2&quot;</td><td>30</td><td>&quot;onset&quot;</td><td>505116</td><td>2017-09-02 23:03:00</td><td>2017-09-02</td></tr><tr><td>&quot;fe90110788d2&quot;</td><td>30</td><td>&quot;wakeup&quot;</td><td>511284</td><td>2017-09-03 07:37:00</td><td>2017-09-03</td></tr><tr><td>&quot;fe90110788d2&quot;</td><td>31</td><td>&quot;onset&quot;</td><td>522852</td><td>2017-09-03 23:41:00</td><td>2017-09-03</td></tr><tr><td>&quot;fe90110788d2&quot;</td><td>31</td><td>&quot;wakeup&quot;</td><td>529104</td><td>2017-09-04 08:22:00</td><td>2017-09-04</td></tr><tr><td>&quot;fe90110788d2&quot;</td><td>32</td><td>&quot;onset&quot;</td><td>538956</td><td>2017-09-04 22:03:00</td><td>2017-09-04</td></tr><tr><td>&quot;fe90110788d2&quot;</td><td>32</td><td>&quot;wakeup&quot;</td><td>547152</td><td>2017-09-05 09:26:00</td><td>2017-09-05</td></tr><tr><td>&quot;fe90110788d2&quot;</td><td>33</td><td>&quot;onset&quot;</td><td>556560</td><td>2017-09-05 22:30:00</td><td>2017-09-05</td></tr><tr><td>&quot;fe90110788d2&quot;</td><td>33</td><td>&quot;wakeup&quot;</td><td>560604</td><td>2017-09-06 04:07:00</td><td>2017-09-06</td></tr><tr><td>&quot;fe90110788d2&quot;</td><td>34</td><td>&quot;onset&quot;</td><td>574620</td><td>2017-09-06 23:35:00</td><td>2017-09-06</td></tr><tr><td>&quot;fe90110788d2&quot;</td><td>34</td><td>&quot;wakeup&quot;</td><td>581604</td><td>2017-09-07 09:17:00</td><td>2017-09-07</td></tr></tbody></table></div>"
      ],
      "text/plain": [
       "shape: (9_386, 6)\n",
       "┌──────────────┬───────┬────────┬────────┬─────────────────────┬────────────┐\n",
       "│ series_id    ┆ night ┆ event  ┆ step   ┆ timestamp           ┆ date       │\n",
       "│ ---          ┆ ---   ┆ ---    ┆ ---    ┆ ---                 ┆ ---        │\n",
       "│ str          ┆ i64   ┆ str    ┆ i64    ┆ datetime[μs]        ┆ date       │\n",
       "╞══════════════╪═══════╪════════╪════════╪═════════════════════╪════════════╡\n",
       "│ 038441c925bb ┆ 1     ┆ onset  ┆ 4992   ┆ 2018-08-14 22:26:00 ┆ 2018-08-14 │\n",
       "│ 038441c925bb ┆ 1     ┆ wakeup ┆ 10932  ┆ 2018-08-15 06:41:00 ┆ 2018-08-15 │\n",
       "│ 038441c925bb ┆ 2     ┆ onset  ┆ 20244  ┆ 2018-08-15 19:37:00 ┆ 2018-08-15 │\n",
       "│ 038441c925bb ┆ 2     ┆ wakeup ┆ 27492  ┆ 2018-08-16 05:41:00 ┆ 2018-08-16 │\n",
       "│ …            ┆ …     ┆ …      ┆ …      ┆ …                   ┆ …          │\n",
       "│ fe90110788d2 ┆ 33    ┆ onset  ┆ 556560 ┆ 2017-09-05 22:30:00 ┆ 2017-09-05 │\n",
       "│ fe90110788d2 ┆ 33    ┆ wakeup ┆ 560604 ┆ 2017-09-06 04:07:00 ┆ 2017-09-06 │\n",
       "│ fe90110788d2 ┆ 34    ┆ onset  ┆ 574620 ┆ 2017-09-06 23:35:00 ┆ 2017-09-06 │\n",
       "│ fe90110788d2 ┆ 34    ┆ wakeup ┆ 581604 ┆ 2017-09-07 09:17:00 ┆ 2017-09-07 │\n",
       "└──────────────┴───────┴────────┴────────┴─────────────────────┴────────────┘"
      ]
     },
     "execution_count": 33,
     "metadata": {},
     "output_type": "execute_result"
    }
   ],
   "source": [
    "train_events"
   ]
  },
  {
   "cell_type": "code",
   "execution_count": 34,
   "id": "5dcf3c69",
   "metadata": {},
   "outputs": [
    {
     "data": {
      "text/plain": [
       "0.816398799536687"
      ]
     },
     "execution_count": 34,
     "metadata": {},
     "output_type": "execute_result"
    }
   ],
   "source": [
    "metric_fast.comp_scorer(train_events, val_preds_df, tolerances=tolerances)"
   ]
  },
  {
   "cell_type": "code",
   "execution_count": 37,
   "id": "3bbdae54",
   "metadata": {},
   "outputs": [
    {
     "name": "stderr",
     "output_type": "stream",
     "text": [
      "100%|██████████| 52/52 [00:11<00:00,  4.71it/s]\n"
     ]
    }
   ],
   "source": [
    "preds_partitions  = val_preds_df.partition_by(by=['series_id'], maintain_order=True, as_dict=True)\n",
    "events_partitions  = val_events_df.partition_by(by=['series_id'], maintain_order=True, as_dict=True)\n",
    "\n",
    "tolerances = {'onset': [12, 36, 60, 90, 120, 150, 180, 240, 300, 360],\n",
    "               'wakeup': [12, 36, 60, 90, 120, 150, 180, 240, 300, 360]}\n",
    "\n",
    "scores_dict = {}\n",
    "for ser_id in tqdm(events_partitions.keys()):\n",
    "    scores_dict[ser_id] = metric_fast.comp_scorer(events_partitions[ser_id], preds_partitions[ser_id],\n",
    "                                                  tolerances)\n",
    "    "
   ]
  },
  {
   "cell_type": "code",
   "execution_count": 38,
   "id": "47012ab1",
   "metadata": {},
   "outputs": [
    {
     "data": {
      "text/plain": [
       "f56824b503a0    0.104892\n",
       "854206f602d0    0.341218\n",
       "703b5efa9bc1    0.476915\n",
       "0a96f4993bd7    0.567911\n",
       "6ca4f4fca6a2    0.620421\n",
       "280e08693c6d    0.660638\n",
       "cf13ed7e457a    0.725000\n",
       "1762ab70ec76    0.734673\n",
       "8b8b9e29171c    0.775790\n",
       "72bbd1ac3edf    0.776648\n",
       "ccdee561ee5d    0.791009\n",
       "91cb6c98201f    0.797848\n",
       "dfc3ccebfdc9    0.800082\n",
       "038441c925bb    0.808368\n",
       "a167532acca2    0.809247\n",
       "51b23d177971    0.816383\n",
       "694faf956ebf    0.821412\n",
       "0402a003dae9    0.821771\n",
       "6bf95a3cf91c    0.821938\n",
       "b84960841a75    0.825812\n",
       "3d53bfea61d6    0.838426\n",
       "fe90110788d2    0.838430\n",
       "d2d6b9af0553    0.844190\n",
       "e0d7b0dcf9f3    0.853044\n",
       "483d6545417f    0.853561\n",
       "ce85771a714c    0.857657\n",
       "8898e6db816d    0.868157\n",
       "d150801f3145    0.870137\n",
       "f88e18cb4100    0.876963\n",
       "ebd76e93ec7d    0.880675\n",
       "c38707ef76df    0.887521\n",
       "18b61dd5aae8    0.888008\n",
       "062cae666e2a    0.888333\n",
       "a81f4472c637    0.894801\n",
       "804594bb1f06    0.897186\n",
       "1955d568d987    0.901855\n",
       "91127c2b0e60    0.903690\n",
       "ce9164297046    0.912093\n",
       "72d2234e84e4    0.912264\n",
       "d043c0ca71cd    0.912957\n",
       "3664fe9233f9    0.913353\n",
       "25e2b3dd9c3b    0.921470\n",
       "599ca4ed791b    0.924863\n",
       "29d3469bd15d    0.928046\n",
       "78569a801a38    0.930691\n",
       "40dce6018935    0.931799\n",
       "c3072a759efb    0.932345\n",
       "08db4255286f    0.933033\n",
       "927dd0c35dfd    0.939362\n",
       "b7188813d58a    0.940270\n",
       "bb5612895813    0.950770\n",
       "76237b9406d5    0.968889\n",
       "dtype: float64"
      ]
     },
     "execution_count": 38,
     "metadata": {},
     "output_type": "execute_result"
    }
   ],
   "source": [
    "pd.Series(scores_dict).sort_values()"
   ]
  },
  {
   "cell_type": "code",
   "execution_count": 39,
   "id": "d6a12ac0",
   "metadata": {},
   "outputs": [],
   "source": [
    "cfg_attributes_dict = {k: v for k, v in cfg.__dict__.items() if not k.startswith('__') and not callable(v)}\n",
    "joblib.dump(cfg_attributes_dict, os.path.join(cfg.output_dir, cfg.ver, 'cfg.pkl'))\n",
    "joblib.dump(model_dct, os.path.join(cfg.output_dir, cfg.ver, 'model_dct.pkl'))\n",
    "\n",
    "np.save(os.path.join(cfg.output_dir, cfg.ver, 'val_series_all.npy'), val_series_all)\n",
    "\n",
    "\n",
    "val_preds_df.to_pandas().to_csv(os.path.join(cfg.output_dir, cfg.ver, 'val_preds_df.csv'), index=False)\n",
    "\n",
    "np.save(os.path.join(cfg.output_dir, cfg.ver, 'val_preds_all.npy'), val_preds_all)\n",
    "np.save(os.path.join(cfg.output_dir, cfg.ver, 'val_y_all.npy'), val_y_all)"
   ]
  },
  {
   "cell_type": "code",
   "execution_count": 41,
   "id": "89201dfe",
   "metadata": {},
   "outputs": [],
   "source": [
    "import json\n",
    "\n",
    "meta_json = {\n",
    "  \"title\": f\"sleep-model-{cfg.ver}\",\n",
    "  \"id\": f\"nikhilmishradev/sleep-model-{cfg.ver}\",\n",
    "  \"licenses\": [\n",
    "    {\n",
    "      \"name\": \"CC0-1.0\"\n",
    "    }\n",
    "  ]\n",
    "}\n",
    "\n",
    "json.dump(meta_json, open(os.path.join(cfg.output_dir, cfg.ver, 'dataset-metadata.json'), 'w'))"
   ]
  },
  {
   "cell_type": "code",
   "execution_count": 42,
   "id": "482e8991",
   "metadata": {},
   "outputs": [
    {
     "name": "stdout",
     "output_type": "stream",
     "text": [
      "\u001b[33mWARNING: Running pip as the 'root' user can result in broken permissions and conflicting behaviour with the system package manager. It is recommended to use a virtual environment instead: https://pip.pypa.io/warnings/venv\u001b[0m\u001b[33m\n",
      "\u001b[0mWarning: Your Kaggle API key is readable by other users on this system! To fix this, you can run 'chmod 600 /home/.kaggle/kaggle.json'\n",
      "Skipping folder: .ipynb_checkpoints; use '--dir-mode' to upload folders\n",
      "Starting upload for file cfg.pkl\n",
      "100%|███████████████████████████████████████████| 119/119 [00:02<00:00, 58.7B/s]\n",
      "Upload successful: cfg.pkl (119B)\n",
      "Starting upload for file model_dct.pkl\n",
      "100%|████████████████████████████████████████| 1.99k/1.99k [00:02<00:00, 889B/s]\n",
      "Upload successful: model_dct.pkl (2KB)\n",
      "Starting upload for file oof_preds.parquet\n",
      "100%|██████████████████████████████████████| 1.02G/1.02G [00:59<00:00, 18.5MB/s]\n",
      "Upload successful: oof_preds.parquet (1GB)\n",
      "Starting upload for file tf_model_fold_1.h5\n",
      "100%|████████████████████████████████████████| 133M/133M [00:10<00:00, 12.9MB/s]\n",
      "Upload successful: tf_model_fold_1.h5 (133MB)\n",
      "Starting upload for file tf_model_fold_2.h5\n",
      "100%|████████████████████████████████████████| 133M/133M [00:11<00:00, 12.3MB/s]\n",
      "Upload successful: tf_model_fold_2.h5 (133MB)\n",
      "Starting upload for file tf_model_fold_3.h5\n",
      "100%|████████████████████████████████████████| 133M/133M [00:11<00:00, 12.3MB/s]\n",
      "Upload successful: tf_model_fold_3.h5 (133MB)\n",
      "Starting upload for file tf_model_fold_4.h5\n",
      "100%|████████████████████████████████████████| 133M/133M [00:12<00:00, 11.3MB/s]\n",
      "Upload successful: tf_model_fold_4.h5 (133MB)\n",
      "Starting upload for file tf_model_fold_5.h5\n",
      "100%|████████████████████████████████████████| 133M/133M [00:10<00:00, 13.4MB/s]\n",
      "Upload successful: tf_model_fold_5.h5 (133MB)\n",
      "Starting upload for file val_preds_df.csv\n",
      "100%|██████████████████████████████████████| 11.4M/11.4M [00:04<00:00, 2.97MB/s]\n",
      "Upload successful: val_preds_df.csv (11MB)\n",
      "Starting upload for file val_series_all.npy\n",
      "100%|█████████████████████████████████████████| 338k/338k [00:02<00:00, 143kB/s]\n",
      "Upload successful: val_series_all.npy (338KB)\n",
      "Your private Dataset is being created. Please check progress at https://www.kaggle.com/datasets/nikhilmishradev/sleep-model-fm-v13-final\n"
     ]
    }
   ],
   "source": [
    "# !rm -r ../outputs/vx/*\n",
    "# !cp -r {os.path.join(cfg.output_dir, cfg.ver)}/* ../outputs/vx\n",
    "# !rm ../outputs/vx/val_preds_all.npy ../outputs/vx/val_y_all.npy\n",
    "# !pip install -q kaggle\n",
    "# !kaggle datasets create -p ../outputs/vx"
   ]
  },
  {
   "cell_type": "code",
   "execution_count": 46,
   "id": "a4ed9dbf",
   "metadata": {},
   "outputs": [],
   "source": [
    "np.save(os.path.join(cfg.output_dir, cfg.ver, 'val_preds_all.npy'), val_preds_all)\n",
    "np.save(os.path.join(cfg.output_dir, cfg.ver, 'val_y_all.npy'), val_y_all)"
   ]
  },
  {
   "cell_type": "code",
   "execution_count": 47,
   "id": "61dd1def",
   "metadata": {},
   "outputs": [
    {
     "data": {
      "text/plain": [
       "'fm-v13-final'"
      ]
     },
     "execution_count": 47,
     "metadata": {},
     "output_type": "execute_result"
    }
   ],
   "source": [
    "cfg.ver"
   ]
  },
  {
   "cell_type": "code",
   "execution_count": null,
   "id": "bfdf4d4b",
   "metadata": {},
   "outputs": [],
   "source": [
    "s"
   ]
  },
  {
   "cell_type": "code",
   "execution_count": null,
   "id": "c6fa6aaf",
   "metadata": {},
   "outputs": [],
   "source": []
  }
 ],
 "metadata": {
  "kernelspec": {
   "display_name": "Python 3 (ipykernel)",
   "language": "python",
   "name": "python3"
  },
  "language_info": {
   "codemirror_mode": {
    "name": "ipython",
    "version": 3
   },
   "file_extension": ".py",
   "mimetype": "text/x-python",
   "name": "python",
   "nbconvert_exporter": "python",
   "pygments_lexer": "ipython3",
   "version": "3.8.10"
  }
 },
 "nbformat": 4,
 "nbformat_minor": 5
}
