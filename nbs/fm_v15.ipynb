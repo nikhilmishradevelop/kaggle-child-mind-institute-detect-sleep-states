{
 "cells": [
  {
   "cell_type": "code",
   "execution_count": 1,
   "id": "f4b58577",
   "metadata": {},
   "outputs": [],
   "source": [
    "# !pip install --upgrade -q numpy numba polars lightgbm tensorflow-addons"
   ]
  },
  {
   "cell_type": "code",
   "execution_count": 2,
   "id": "0b305924",
   "metadata": {},
   "outputs": [
    {
     "name": "stderr",
     "output_type": "stream",
     "text": [
      "2023-12-14 07:56:28.940194: I tensorflow/core/platform/cpu_feature_guard.cc:194] This TensorFlow binary is optimized with oneAPI Deep Neural Network Library (oneDNN) to use the following CPU instructions in performance-critical operations:  SSE3 SSE4.1 SSE4.2 AVX\n",
      "To enable them in other operations, rebuild TensorFlow with the appropriate compiler flags.\n",
      "/usr/local/lib/python3.8/dist-packages/tensorflow_addons/utils/tfa_eol_msg.py:23: UserWarning: \n",
      "\n",
      "TensorFlow Addons (TFA) has ended development and introduction of new features.\n",
      "TFA has entered a minimal maintenance and release mode until a planned end of life in May 2024.\n",
      "Please modify downstream libraries to take dependencies from other repositories in our TensorFlow community (e.g. Keras, Keras-CV, and Keras-NLP). \n",
      "\n",
      "For more information see: https://github.com/tensorflow/addons/issues/2807 \n",
      "\n",
      "  warnings.warn(\n",
      "/usr/local/lib/python3.8/dist-packages/tensorflow_addons/utils/ensure_tf_install.py:53: UserWarning: Tensorflow Addons supports using Python ops for all Tensorflow versions above or equal to 2.11.0 and strictly below 2.14.0 (nightly versions are not supported). \n",
      " The versions of TensorFlow you are currently using is 2.10.0 and is not supported. \n",
      "Some things might work, some things might not.\n",
      "If you were to encounter a bug, do not file an issue.\n",
      "If you want to make sure you're using a tested and supported configuration, either change the TensorFlow version or the TensorFlow Addons's version. \n",
      "You can find the compatibility matrix in TensorFlow Addon's readme:\n",
      "https://github.com/tensorflow/addons\n",
      "  warnings.warn(\n"
     ]
    },
    {
     "data": {
      "text/plain": [
       "<module 'src.metric_fast' from '/home/sleep-kaggle/kaggle_final_solution/../src/metric_fast.py'>"
      ]
     },
     "execution_count": 2,
     "metadata": {},
     "output_type": "execute_result"
    }
   ],
   "source": [
    "import pandas as pd\n",
    "import polars as pl\n",
    "import numpy as np\n",
    "from tqdm import tqdm\n",
    "import gc\n",
    "import json\n",
    "import tensorflow as tf\n",
    "import tensorflow_addons as tfa\n",
    "import matplotlib.pyplot as plt\n",
    "from sklearn.model_selection import KFold\n",
    "import gc\n",
    "import os\n",
    "import sys\n",
    "sys.path.append('..')\n",
    "\n",
    "from src import metric_fast\n",
    "import joblib\n",
    "import time\n",
    "import importlib\n",
    "importlib.reload(metric_fast)"
   ]
  },
  {
   "cell_type": "code",
   "execution_count": 4,
   "id": "a1b91c99",
   "metadata": {},
   "outputs": [],
   "source": [
    "class cfg:\n",
    "    samp_freq=1\n",
    "    gaussian_overlay_len = 60\n",
    "    std_dev_num = 2400\n",
    "    ver='fm-v15-final'"
   ]
  },
  {
   "cell_type": "code",
   "execution_count": null,
   "id": "6e5642b8",
   "metadata": {},
   "outputs": [],
   "source": [
    "settings_json = json.load(open('../settings.json', 'r'))\n",
    "print(settings_json)\n",
    "\n",
    "for k,v in settings_json.items():\n",
    "    setattr(cfg, k, v)\n",
    "    \n",
    "print(cfg.__dict__)"
   ]
  },
  {
   "cell_type": "code",
   "execution_count": null,
   "id": "68a8ad3c",
   "metadata": {},
   "outputs": [],
   "source": [
    "%%time\n",
    "train_events = pl.read_ipc(os.path.join(cfg.processed_data_path, 'train_events.ipc'))"
   ]
  },
  {
   "cell_type": "code",
   "execution_count": 5,
   "metadata": {},
   "outputs": [],
   "source": [
    "splits_df = train_events[['series_id']].unique(maintain_order=True)\n",
    "splits_df = splits_df.to_pandas()\n",
    "\n",
    "for n_splits in [5, 7, 10]:\n",
    "    folds = KFold(n_splits, shuffle=True, random_state=5)\n",
    "\n",
    "    splits_df[f'{n_splits}_fold'] = 0\n",
    "    for i, (trn_idx, val_idx) in enumerate(folds.split(splits_df['series_id'], splits_df['series_id'])):\n",
    "        \n",
    "        splits_df.loc[val_idx, f'{n_splits}_fold'] = i+1\n",
    "        \n",
    "        \n",
    "splits_df = pl.DataFrame(splits_df)"
   ]
  },
  {
   "cell_type": "code",
   "execution_count": 6,
   "id": "86c90a0a",
   "metadata": {},
   "outputs": [],
   "source": [
    "def load_data(directory):\n",
    "    X_s = []\n",
    "    y_s = []\n",
    "    series_ids = []\n",
    "\n",
    "    for filename in tqdm(os.listdir(directory)):\n",
    "        if filename.endswith('_X.npy'):\n",
    "            series_id = filename.split('_X.npy')[0]\n",
    "            X = np.load(os.path.join(directory, filename))\n",
    "            y = np.load(os.path.join(directory, f'{series_id}_y.npy'))\n",
    "\n",
    "            X_s.append(X)\n",
    "            y_s.append(y)\n",
    "            series_ids.append(series_id)\n",
    "\n",
    "    return X_s, y_s, series_ids"
   ]
  },
  {
   "cell_type": "code",
   "execution_count": 7,
   "metadata": {},
   "outputs": [],
   "source": [
    "def normalize_y(y):\n",
    "    \n",
    "    for i in range(y.shape[1]):\n",
    "        \n",
    "        mean = y[:,i].mean()\n",
    "        std = y[:,i].std()\n",
    "        y[:,i] = (y[:,i]-mean)/(std+1e-16)\n",
    "    \n",
    "    return y"
   ]
  },
  {
   "cell_type": "code",
   "execution_count": 8,
   "id": "e715f791",
   "metadata": {},
   "outputs": [],
   "source": [
    "def split_and_pad(X, y=None, split_length=1440, stride=1440):\n",
    "    \"\"\"\n",
    "    Splits and pads the arrays X and y using a sliding window.\n",
    "\n",
    "    Parameters:\n",
    "    - X (np.array): Array with shape (timesteps, features)\n",
    "    - y (np.array): Array with shape (timesteps, 2)\n",
    "    - split_length (int): Desired timestep length for the resulting arrays.\n",
    "    - stride (int): Step size for sliding window.\n",
    "\n",
    "    Returns:\n",
    "    - List of arrays for X and y, each with shape (split_length, features)\n",
    "    \"\"\"\n",
    "    \n",
    "    if y is not None and len(X) != len(y):\n",
    "        raise ValueError(\"X and y should have the same number of timesteps.\")\n",
    "    \n",
    "    timesteps, features = X.shape\n",
    "    \n",
    "    # Create empty lists to store split segments\n",
    "    X_splits = []\n",
    "    y_splits = []\n",
    "    starts = []\n",
    "    \n",
    "    # Use sliding window to extract segments\n",
    "    \n",
    "    for start in range(0, timesteps, stride):\n",
    "        end = start + split_length\n",
    "        if end <= timesteps:\n",
    "            starts.append(start)\n",
    "            X_splits.append(X[start:end].copy())\n",
    "            if y is not None:\n",
    "                y_splits.append(y[start:end].copy())\n",
    "        else:\n",
    "            # If the segment is shorter than split_length, pad it\n",
    "            starts.append(start)\n",
    "            padding_length = end - timesteps\n",
    "            X_segment_padded = np.pad(X[start:], ((0, padding_length), (0, 0)), mode='constant', constant_values=-9)\n",
    "            X_splits.append(X_segment_padded)\n",
    "            \n",
    "            if y is not None:\n",
    "                y_segment_padded = np.pad(y[start:], ((0, padding_length), (0, 0)), mode='constant', constant_values=0)\n",
    "                y_splits.append(y_segment_padded)\n",
    "                \n",
    "            break\n",
    "            \n",
    "            \n",
    "    if y is not None:\n",
    "        return X_splits, y_splits, starts\n",
    "    \n",
    "    return X_splits, starts\n",
    "\n",
    "\n",
    "\n",
    "class SleepDataset:\n",
    "    \n",
    "    def __init__(self, X_s, y_s=None, series_ids=None, samp_freq=None, remove_no_dets=True, is_train=False, split_factor=1, norm_params=None):\n",
    "        \n",
    "        self.split_len = (24*60*12) // cfg.samp_freq\n",
    "        self.split_strides = self.split_len\n",
    "        self.remove_no_dets = remove_no_dets\n",
    "        self.is_train = is_train\n",
    "\n",
    "        print(f'Using a split len of {self.split_len}')\n",
    "        self.create_dataset(X_s, y_s, series_ids)\n",
    "\n",
    "        if self.is_train:\n",
    "            self.norm_params = self.calculate_norm_params()\n",
    "        else:\n",
    "            if norm_params is None:\n",
    "                raise ValueError(\"Normalization parameters must be provided for non-training data.\")\n",
    "            self.norm_params = norm_params\n",
    "\n",
    "        self.normalize_data()\n",
    "\n",
    "    def calculate_norm_params(self):\n",
    "        mean = np.mean(self.X, axis=(0, 1))\n",
    "        std = np.std(self.X, axis=(0, 1))\n",
    "        return {'mean': mean, 'std': std}\n",
    "\n",
    "    def normalize_data(self):\n",
    "        self.X = (self.X - self.norm_params['mean']) / (1e-6 + self.norm_params['std'])\n",
    "        \n",
    "        \n",
    "    def create_dataset(self, X_s, y_s=None, series_ids=None):\n",
    "        X_s_splits, y_s_splits, series_splits, starts_splits = [], [], [], []\n",
    "\n",
    "        for i in tqdm(range(len(X_s))):\n",
    "            x_splits, starts = split_and_pad(X_s[i].copy(), split_length = self.split_len, stride=self.split_strides)\n",
    "            X_s_splits.extend(x_splits)\n",
    "            starts_splits.extend(starts)\n",
    "\n",
    "            if y_s is not None:\n",
    "                _, y_splits, _ = split_and_pad(X_s[i].copy(), y_s[i].copy(), split_length=self.split_len, stride=self.split_strides)\n",
    "                y_s_splits.extend(y_splits)\n",
    "\n",
    "            if series_ids is not None:\n",
    "                series_splits.extend([series_ids[i] for _ in range(len(x_splits))])\n",
    "            \n",
    "        self.X = np.array(X_s_splits)\n",
    "        self.starts_splits = np.array(starts_splits)\n",
    "        \n",
    "        if y_s is not None:\n",
    "            self.y = np.array(y_s_splits)\n",
    "\n",
    "            if self.remove_no_dets:\n",
    "                fltr = (self.y[:, :, 1].sum(axis=1) + self.y[:, :, 0].sum(axis=1)) != 0\n",
    "                self.X = self.X[fltr]\n",
    "                self.y = self.y[fltr]\n",
    "                if series_ids is not None:\n",
    "                    self.series_ids = np.array(series_splits)[fltr]\n",
    "                else:\n",
    "                    self.series_ids = None\n",
    "            \n",
    "            self.y = np.array([normalize_y(yts) for yts in self.y])\n",
    "\n",
    "        else:\n",
    "            self.y = None\n",
    "\n",
    "        if series_ids is not None:\n",
    "            if not hasattr(self, 'series_ids'):\n",
    "                self.series_ids = np.array(series_splits)\n",
    "            print(f'X: {self.X.shape}, y: {self.y.shape if self.y is not None else \"Not provided\"}, series_ids: {self.series_ids.shape}')\n",
    "        else:\n",
    "            print(f'X: {self.X.shape}, y: {self.y.shape if self.y is not None else \"Not provided\"}')"
   ]
  },
  {
   "cell_type": "code",
   "execution_count": 9,
   "id": "2d11033d",
   "metadata": {},
   "outputs": [],
   "source": [
    "def nms_nikhil(preds_orig, k_orig=125, max_thresh=0.05, max_count=1000):\n",
    "    \n",
    "    preds=preds_orig.copy()\n",
    "\n",
    "    count = 0\n",
    "    base=6.75\n",
    "    \n",
    "    k = k_orig\n",
    "    prev_max = None\n",
    "\n",
    "    scores = []\n",
    "    indices = []\n",
    "    \n",
    "    while True:\n",
    "            \n",
    "        curr_max_idx = np.argmax(preds)\n",
    "        curr_max = preds[curr_max_idx] \n",
    "        \n",
    "        if (curr_max < max_thresh) or count > max_count:\n",
    "            break\n",
    "        \n",
    "        indices.append(curr_max_idx)\n",
    "        scores.append(curr_max)\n",
    "        \n",
    "        preds[curr_max_idx] = 0\n",
    "        \n",
    "        supress_rates = np.logspace(start=0, stop=1, num=k, base=base)/base\n",
    "\n",
    "        preds[max(curr_max_idx-k, 0):curr_max_idx] *= supress_rates[:min(k, curr_max_idx-0)][::-1]\n",
    "        preds[curr_max_idx+1:min(curr_max_idx+k+1, preds.shape[0])] *= supress_rates[:min(k, preds.shape[0]-curr_max_idx-1)]\n",
    "\n",
    "        prev_max = curr_max\n",
    "        \n",
    "        count += 1\n",
    "        \n",
    "    return indices, scores\n",
    "\n",
    "def get_actual_preds(val_preds, val_series_ids, val_steps, type_):\n",
    "    times = []\n",
    "    series_ids = []\n",
    "    scores = []\n",
    "    scores_y = []\n",
    "    \n",
    "    for i in np.arange(len(val_preds)):\n",
    "        \n",
    "        vp_i = val_preds[i]\n",
    "        ser_id = val_series_ids[i]\n",
    "        \n",
    "        col_index = 0 if type_ == \"onset\" else 1\n",
    "        other_col_index = 1 if type_ == \"onset\" else 0\n",
    "        \n",
    "        preds = vp_i[:, col_index]\n",
    "        preds_other = vp_i[:, other_col_index]\n",
    "\n",
    "        height_thresh = 0.05\n",
    "        \n",
    "        peaks, peak_scores = nms_nikhil(preds)\n",
    "\n",
    "        times.extend(val_steps[i][peaks])\n",
    "        scores.extend(list(peak_scores))\n",
    "        series_ids.extend([ser_id] * len(peaks))\n",
    "\n",
    "    return np.array(series_ids), np.array(times), np.array(scores)\n",
    "\n",
    "\n",
    "def post_process_preds(val_events_df, val_preds, val_series_ids, val_starts_splits, samp_freq, get_score=False):\n",
    "    \n",
    "#     val_steps = np.concatenate([val_starts_splits[idx] + np.arange(len(val_preds[idx])) for idx in range(val_preds.shape[0])])\n",
    "\n",
    "    val_res = []\n",
    "    \n",
    "    prev_ser_id = None\n",
    "    \n",
    "    res_steps = []\n",
    "    res_preds = []\n",
    "    res_series_ids = []\n",
    "    \n",
    "    start = 0\n",
    "    while start < len(val_preds):\n",
    "        \n",
    "        end = start+1\n",
    "        while end < len(val_preds) and val_series_ids[end] == val_series_ids[start]:\n",
    "            end += 1\n",
    "            \n",
    "        preds = val_preds[start:end]\n",
    "        \n",
    "        steps = np.concatenate([val_starts_splits[idx] + np.arange(len(val_preds[idx])) for idx in range(start, end)])\n",
    "        preds = preds.reshape((preds.shape[0]*preds.shape[1]), 2)\n",
    "        \n",
    "        res_preds.append(preds)\n",
    "        res_steps.append(steps)\n",
    "        res_series_ids.append(val_series_ids[start])\n",
    "        \n",
    "        start=end\n",
    "        \n",
    "        \n",
    "#     print(len(res_series_ids), len(res_steps), len(res_preds))\n",
    "\n",
    "    series_ids_onsets, onsets,  scores_onsets = get_actual_preds(res_preds, res_series_ids, res_steps, 'onset')\n",
    "    series_ids_wakeups, wakeups,  scores_wakeups =get_actual_preds(res_preds, res_series_ids, res_steps, 'wakeup')\n",
    "    \n",
    "    \n",
    "    onset_preds = pl.DataFrame().with_columns([pl.Series(series_ids_onsets).alias('series_id'),\n",
    "                                           pl.Series(onsets).cast(pl.Int64).alias('step'),\n",
    "                                           pl.lit('onset').alias('event'),\n",
    "                                           pl.Series(scores_onsets).alias('score')])\n",
    "\n",
    "    wakeup_preds = pl.DataFrame().with_columns([pl.Series(series_ids_wakeups).alias('series_id'),\n",
    "                                               pl.Series(wakeups).cast(pl.Int64).cast(pl.Int64).alias('step'),\n",
    "                                               pl.lit('wakeup').alias('event'),\n",
    "                                               pl.Series(scores_wakeups).alias('score')])\n",
    "    \n",
    "    val_preds_df = pl.concat([onset_preds, wakeup_preds]).sort(by=['series_id', 'step'])\n",
    "    \n",
    "    if get_score:\n",
    "        toleranaces = {'onset': [12, 36, 60, 90, 120, 150, 180, 240, 300, 360],'wakeup': [12, 36, 60, 90, 120, 150, 180, 240, 300, 360]}\n",
    "        comp_score = metric_fast.comp_scorer(\n",
    "        val_events_df,\n",
    "        val_preds_df,\n",
    "        tolerances = toleranaces,\n",
    "        )\n",
    "        return comp_score\n",
    "    \n",
    "    else:\n",
    "        return val_preds_df"
   ]
  },
  {
   "cell_type": "code",
   "execution_count": 10,
   "id": "f558db15",
   "metadata": {},
   "outputs": [],
   "source": [
    "def calculate_exponential_lr(start_lr, end_lr, num_steps, decay_rate=None):\n",
    "    \"\"\"\n",
    "    Calculate the exponentially decreasing learning rates.\n",
    "\n",
    "    Parameters:\n",
    "    start_lr (float): Initial learning rate.\n",
    "    end_lr (float): Final learning rate.\n",
    "    num_steps (int): Total number of steps over which the learning rate should decay.\n",
    "    decay_rate (float): Decay rate per step. If None, it will be computed based on start_lr, end_lr, and num_steps.\n",
    "\n",
    "    Returns:\n",
    "    list: A list containing the learning rate for each step.\n",
    "    \"\"\"\n",
    "    if decay_rate is None:\n",
    "        # Calculate decay rate based on the start_lr, end_lr, and num_steps\n",
    "        decay_rate = (end_lr / start_lr) ** (1 / (num_steps - 1))\n",
    "\n",
    "    learning_rates = [start_lr * (decay_rate ** step) for step in range(num_steps)]\n",
    "    return learning_rates\n",
    "\n"
   ]
  },
  {
   "cell_type": "code",
   "execution_count": 11,
   "id": "2b288692",
   "metadata": {},
   "outputs": [],
   "source": [
    "class IntervalEvaluation(tf.keras.callbacks.Callback):\n",
    "    def __init__(self, val_ds, val_events_df, samp_freq, n_steps, start_lr, end_lr):\n",
    "\n",
    "        super(tf.keras.callbacks.Callback, self).__init__()\n",
    "        self.val_ds = val_ds\n",
    "        self.val_events_df = val_events_df\n",
    "        self.samp_freq = samp_freq\n",
    "        \n",
    "        warmup_pct_steps = 0.25\n",
    "        warmup_steps = int(n_steps * warmup_pct_steps)\n",
    "        self.learning_rates = [start_lr] * (warmup_steps) + calculate_exponential_lr(start_lr, end_lr, n_steps-warmup_steps)\n",
    "        self.best_score = -np.inf\n",
    "        self.best_model = None\n",
    "        self.step_count=0\n",
    "\n",
    "    def on_epoch_begin(self, epoch, logs={}):\n",
    "\n",
    "        self.start_time = time.time()\n",
    "        \n",
    "        if epoch == 0:\n",
    "            self.first_epoch_start_time = self.start_time\n",
    "        \n",
    "    def on_train_batch_begin(self, batch, logs=None):\n",
    "        if self.step_count < len(self.learning_rates):\n",
    "\n",
    "            tf.keras.backend.set_value(self.model.optimizer.lr, self.learning_rates[self.step_count])\n",
    "            self.curr_lr = float(tf.keras.backend.get_value(self.model.optimizer.learning_rate))\n",
    "        self.step_count += 1\n",
    "    \n",
    "    def on_epoch_end(self, epoch, logs={}):\n",
    "\n",
    "        val_preds = self.model.predict(self.val_ds.X, batch_size=32, verbose=0)[:, :, :2]\n",
    "        val_score = post_process_preds(self.val_events_df, val_preds, self.val_ds.series_ids, self.val_ds.starts_splits, self.samp_freq, get_score=True)\n",
    "        \n",
    "        if val_score > self.best_score:\n",
    "            self.best_score = val_score\n",
    "            self.best_model = tf.keras.models.clone_model(self.model)\n",
    "            self.best_model.set_weights(self.model.get_weights()) \n",
    "        \n",
    "        total_time = round(time.time() - self.start_time, 2)\n",
    "        total_seconds_till_now = round(time.time() - self.first_epoch_start_time, 0)\n",
    "        \n",
    "        print(f\"Epoch: {epoch:03d} curr_lr: {self.curr_lr:.1e} - train_loss: {logs['loss']:.04f} - val_loss: {logs['val_loss']:.04f} val_score: {val_score:.03f}  best_val_score: {self.best_score:.03f}  last_epoch t={total_time:.02f}s, total_time_elapsed t={total_seconds_till_now}s\")\n",
    "        "
   ]
  },
  {
   "cell_type": "code",
   "execution_count": 12,
   "id": "c8abb817",
   "metadata": {},
   "outputs": [],
   "source": [
    "def transformer_encoder(inputs, head_size, num_heads, ff_dim, dropout=0):\n",
    "\n",
    "    # MultiHead Attention\n",
    "    x = tfa.layers.MultiHeadAttention(\n",
    "        head_size=head_size,\n",
    "        num_heads=num_heads,\n",
    "        use_projection_bias=True,\n",
    "        dropout=dropout\n",
    "    )([inputs, inputs, inputs])\n",
    "\n",
    "    # Residual connection with LayerNormalization and Scaling\n",
    "    x = tf.keras.layers.LayerNormalization(epsilon=1e-6)(x + inputs) * (0.5 ** 0.5)\n",
    "    \n",
    "    # Feed Forward Part\n",
    "    ff = tf.keras.layers.Dense(ff_dim, activation='gelu')(x)\n",
    "    ff = tf.keras.layers.Dropout(dropout)(ff)\n",
    "    ff = tf.keras.layers.Dense(inputs.shape[-1])(ff)\n",
    "    ff = tf.keras.layers.Dropout(dropout)(ff)\n",
    "    \n",
    "    # Residual connection with LayerNormalization and Scaling for FFN\n",
    "    x = tf.keras.layers.LayerNormalization(epsilon=1e-6)(x + ff) * (0.5 ** 0.5)\n",
    "\n",
    "    return x"
   ]
  },
  {
   "cell_type": "code",
   "execution_count": 13,
   "id": "9e2e3cec",
   "metadata": {},
   "outputs": [],
   "source": [
    "def custom_mce_loss(y_true, y_pred):\n",
    "    # Clip the ground truth and predictions to the range (-100, 100)\n",
    "    y_true_clipped = tf.clip_by_value(y_true, -100, 100)\n",
    "    y_pred_clipped = tf.clip_by_value(y_pred, -100, 100)\n",
    "\n",
    "    # Calculate the mean cubed error\n",
    "    loss = tf.reduce_mean(tf.abs(y_true_clipped - y_pred_clipped) ** 3)\n",
    "    return loss"
   ]
  },
  {
   "cell_type": "code",
   "execution_count": 14,
   "id": "366821c5",
   "metadata": {},
   "outputs": [
    {
     "name": "stderr",
     "output_type": "stream",
     "text": [
      "2023-12-14 07:56:31.187796: I tensorflow/core/platform/cpu_feature_guard.cc:194] This TensorFlow binary is optimized with oneAPI Deep Neural Network Library (oneDNN) to use the following CPU instructions in performance-critical operations:  SSE3 SSE4.1 SSE4.2 AVX\n",
      "To enable them in other operations, rebuild TensorFlow with the appropriate compiler flags.\n"
     ]
    },
    {
     "name": "stderr",
     "output_type": "stream",
     "text": [
      "2023-12-14 07:56:31.315684: I tensorflow/core/common_runtime/gpu/gpu_device.cc:1637] Created device /job:localhost/replica:0/task:0/device:GPU:0 with 46413 MB memory:  -> device: 0, name: NVIDIA RTX 6000 Ada Generation, pci bus id: 0000:23:00.0, compute capability: 8.9\n",
      "/usr/local/lib/python3.8/dist-packages/keras/initializers/initializers_v2.py:120: UserWarning: The initializer GlorotUniform is unseeded and being called multiple times, which will return identical values  each time (even if the initializer is unseeded). Please update your code to provide a seed to the initializer, or avoid using the same initalizer instance more than once.\n",
      "  warnings.warn(\n"
     ]
    },
    {
     "data": {
      "text/plain": [
       "34620204"
      ]
     },
     "execution_count": 14,
     "metadata": {},
     "output_type": "execute_result"
    }
   ],
   "source": [
    "def conv_block(inputs, num_filters):\n",
    "    x = tf.keras.layers.Conv1D(num_filters, 8, padding=\"same\")(inputs)\n",
    "    x = tf.keras.layers.ReLU()(x)\n",
    "    x = tf.keras.layers.Conv1D(num_filters, 8, padding=\"same\")(x)\n",
    "    x = tf.keras.layers.ReLU()(x)\n",
    "\n",
    "    return x\n",
    "\n",
    "def encoder_block(inputs, num_filters):\n",
    "    x = conv_block(inputs, num_filters)\n",
    "    p = tf.keras.layers.MaxPooling1D(pool_size=2)(x)\n",
    "    return x, p\n",
    "\n",
    "def decoder_block(inputs, concat_tensors, num_filters):\n",
    "    x = tf.keras.layers.Conv1DTranspose(num_filters, 4, strides=2, padding=\"same\")(inputs)\n",
    "    i = len(concat_tensors)-1\n",
    "    for concat_tensor in concat_tensors:\n",
    "        concat_tensor_max = tf.keras.layers.MaxPool1D(pool_size=2**i)(concat_tensor)\n",
    "        x = tf.keras.layers.Concatenate()([x, concat_tensor_max])\n",
    "        i -= 1\n",
    "        \n",
    "    x = conv_block(x, num_filters)\n",
    "    return x\n",
    "\n",
    "def get_model(input_shape, num_blocks=4):\n",
    "    inputs = tf.keras.layers.Input(input_shape)\n",
    "    x = inputs\n",
    "    \n",
    "    orig_n_channels = x.shape[-1]\n",
    "    \n",
    "    x_t = []\n",
    "    n_split_fact = 6\n",
    "\n",
    "    for i in range(x.shape[-1]):\n",
    "        x_sp = tf.reshape(x[:, :, i], (-1, x.shape[1]//n_split_fact, n_split_fact))\n",
    "        \n",
    "        if i < orig_n_channels:\n",
    "        \n",
    "            # Calculating mean, max, and standard deviation\n",
    "            mean = tf.reduce_mean(x_sp, axis=-1, keepdims=True)\n",
    "            max_val = tf.reduce_max(x_sp, axis=-1, keepdims=True)\n",
    "            std_dev = tf.math.reduce_std(x_sp, axis=-1, keepdims=True)\n",
    "            min_val = tf.reduce_min(x_sp, axis=-1, keepdims=True)\n",
    "\n",
    "            x_sp = tf.keras.layers.Concatenate()([x_sp, mean, max_val, std_dev, min_val])\n",
    "        \n",
    "        x_sp = tf.keras.layers.Dense(n_split_fact*16, activation='relu')(x_sp)\n",
    "        \n",
    "        x_t.append(x_sp)\n",
    "        \n",
    "    \n",
    "    x_c1d = tf.keras.layers.Conv1D(64, kernel_size=12, strides=n_split_fact, padding=\"same\")(x)\n",
    "    x_c1d = tf.keras.layers.ReLU()(x_c1d)\n",
    "\n",
    "    x = tf.keras.layers.Concatenate()(x_t + [x_c1d])# tf.reshape(x, (-1, -1, 3))\n",
    "    \n",
    "    # Initial filter size\n",
    "    fsz = 64\n",
    "    \n",
    "    # Lists to hold the encoder and pooling outputs\n",
    "    encoder_outputs = []\n",
    "    pooling_outputs = []\n",
    "    \n",
    "    # Encoder\n",
    "    for i in range(num_blocks):\n",
    "        if i == 0:\n",
    "            # First block receives the model input\n",
    "            enc_out, pool_out = encoder_block(x, fsz * (2 ** i))\n",
    "        else:\n",
    "            # Subsequent blocks receive the pooling output of the previous block\n",
    "            enc_out, pool_out = encoder_block(pooling_outputs[-1], fsz * (2 ** i))\n",
    "        \n",
    "        encoder_outputs.append(enc_out)\n",
    "        pooling_outputs.append(pool_out)\n",
    "    \n",
    "    # Bottleneck\n",
    "    bottleneck = conv_block(pooling_outputs[-1], fsz * (2 ** num_blocks))\n",
    "    \n",
    "    \n",
    "    def gru_conv(x):\n",
    "        x = tf.keras.layers.Bidirectional(tf.keras.layers.LSTM(x.shape[-1]//4, return_sequences=True))(x)\n",
    "        for i in range(1):\n",
    "            x_conv = tf.keras.layers.Conv1D(x.shape[-1], kernel_size=(4,), padding='same', activation='relu')(x)\n",
    "            x = tf.keras.layers.Dense(x.shape[-1], activation='relu')(x_conv)\n",
    "\n",
    "        return x\n",
    "    \n",
    "    for _ in range(1):\n",
    "        bottleneck = transformer_encoder(bottleneck, head_size=16, num_heads=8, ff_dim=256, dropout=0)\n",
    "\n",
    "    bottleneck = gru_conv(bottleneck)\n",
    "\n",
    "    decoder_input = bottleneck\n",
    "    for i in range(num_blocks - 1, -1, -1):\n",
    "        decoder_output = decoder_block(decoder_input, encoder_outputs[:i+1], fsz * (2 ** i))\n",
    "        decoder_input = decoder_output\n",
    "    \n",
    "    # Output Layer\n",
    "    x = tf.keras.layers.Conv1D(2*n_split_fact, 1, padding=\"same\", activation=\"linear\")(decoder_output)\n",
    "    x = tf.reshape(x, shape=(-1, x.shape[1]*n_split_fact, 2))\n",
    "    \n",
    "    outputs = x\n",
    "    \n",
    "    model = tf.keras.models.Model(inputs, outputs)\n",
    "    model.compile(optimizer=tfa.optimizers.AdamW(weight_decay=1e-4), loss=custom_mce_loss)\n",
    "    \n",
    "    return model\n",
    "\n",
    "# Usage:\n",
    "input_shape = (17280, 9)  # replace with your input shape\n",
    "num_blocks = 4  # specify the number of encoder/decoder blocks\n",
    "model = get_model(input_shape, num_blocks)\n",
    "model.count_params()"
   ]
  },
  {
   "cell_type": "code",
   "execution_count": 15,
   "id": "055e0501",
   "metadata": {},
   "outputs": [
    {
     "data": {
      "text/plain": [
       "TensorShape([None, 17280, 2])"
      ]
     },
     "execution_count": 15,
     "metadata": {},
     "output_type": "execute_result"
    }
   ],
   "source": [
    "model.output.shape"
   ]
  },
  {
   "cell_type": "code",
   "execution_count": 16,
   "id": "4f1b3d65",
   "metadata": {},
   "outputs": [],
   "source": [
    "class model_cfg:\n",
    "    n_epochs = 14\n",
    "    batch_size = 8\n",
    "    start_lr = 6e-5\n",
    "    end_lr = 2e-5"
   ]
  },
  {
   "cell_type": "code",
   "execution_count": 17,
   "metadata": {},
   "outputs": [],
   "source": [
    "_ = gc.collect()"
   ]
  },
  {
   "cell_type": "code",
   "execution_count": 18,
   "metadata": {},
   "outputs": [
    {
     "name": "stderr",
     "output_type": "stream",
     "text": [
      "100%|██████████| 529/529 [00:04<00:00, 129.44it/s]\n"
     ]
    },
    {
     "name": "stdout",
     "output_type": "stream",
     "text": [
      "\n",
      "\n",
      "\n",
      "-----------Starting fold: 2-----------\n",
      "\n",
      "\n",
      "\n",
      "Using 211 series for training and 53 series for validation\n",
      "Using a split len of 17280\n"
     ]
    },
    {
     "name": "stderr",
     "output_type": "stream",
     "text": [
      "100%|██████████| 211/211 [00:11<00:00, 18.37it/s]\n"
     ]
    },
    {
     "name": "stdout",
     "output_type": "stream",
     "text": [
      "X: (5742, 17280, 32), y: (5742, 17280, 2), series_ids: (5742,)\n",
      "Using a split len of 17280\n"
     ]
    },
    {
     "name": "stderr",
     "output_type": "stream",
     "text": [
      "100%|██████████| 53/53 [00:00<00:00, 73.47it/s]\n"
     ]
    },
    {
     "name": "stdout",
     "output_type": "stream",
     "text": [
      "X: (1462, 17280, 32), y: (1462, 17280, 2), series_ids: (1462,)\n",
      "Total model parameters: 35792652\n",
      "Epoch 1/14\n"
     ]
    },
    {
     "name": "stderr",
     "output_type": "stream",
     "text": [
      "2023-12-14 07:57:30.447323: I tensorflow/stream_executor/cuda/cuda_blas.cc:1633] TensorFloat-32 will be used for the matrix multiplication. This will only be logged once.\n",
      "2023-12-14 07:57:30.467279: I tensorflow/stream_executor/cuda/cuda_dnn.cc:424] Loaded cuDNN version 8700\n"
     ]
    },
    {
     "name": "stdout",
     "output_type": "stream",
     "text": [
      "718/718 [==============================] - ETA: 0s - loss: 4.4141Epoch: 000 curr_lr: 6.0e-05 - train_loss: 4.4141 - val_loss: 3.5563 val_score: 0.769  best_val_score: 0.769  last_epoch t=73.32s, total_time_elapsed t=73.0s\n",
      "718/718 [==============================] - 73s 93ms/step - loss: 4.4141 - val_loss: 3.5563\n",
      "Epoch 2/14\n",
      "718/718 [==============================] - ETA: 0s - loss: 3.6932Epoch: 001 curr_lr: 6.0e-05 - train_loss: 3.6932 - val_loss: 3.6727 val_score: 0.755  best_val_score: 0.769  last_epoch t=59.55s, total_time_elapsed t=133.0s\n",
      "718/718 [==============================] - 60s 83ms/step - loss: 3.6932 - val_loss: 3.6727\n",
      "Epoch 3/14\n",
      "718/718 [==============================] - ETA: 0s - loss: 3.5766Epoch: 002 curr_lr: 6.0e-05 - train_loss: 3.5766 - val_loss: 3.4079 val_score: 0.785  best_val_score: 0.785  last_epoch t=64.02s, total_time_elapsed t=197.0s\n",
      "718/718 [==============================] - 64s 89ms/step - loss: 3.5766 - val_loss: 3.4079\n",
      "Epoch 4/14\n",
      "718/718 [==============================] - ETA: 0s - loss: 3.5133Epoch: 003 curr_lr: 5.7e-05 - train_loss: 3.5133 - val_loss: 3.4243 val_score: 0.780  best_val_score: 0.785  last_epoch t=59.59s, total_time_elapsed t=256.0s\n",
      "718/718 [==============================] - 60s 83ms/step - loss: 3.5133 - val_loss: 3.4243\n",
      "Epoch 5/14\n",
      "718/718 [==============================] - ETA: 0s - loss: 3.4497Epoch: 004 curr_lr: 5.1e-05 - train_loss: 3.4497 - val_loss: 3.3157 val_score: 0.788  best_val_score: 0.788  last_epoch t=64.51s, total_time_elapsed t=321.0s\n",
      "718/718 [==============================] - 65s 90ms/step - loss: 3.4497 - val_loss: 3.3157\n",
      "Epoch 6/14\n",
      "718/718 [==============================] - ETA: 0s - loss: 3.4012Epoch: 005 curr_lr: 4.6e-05 - train_loss: 3.4012 - val_loss: 3.2930 val_score: 0.797  best_val_score: 0.797  last_epoch t=61.27s, total_time_elapsed t=382.0s\n",
      "718/718 [==============================] - 61s 85ms/step - loss: 3.4012 - val_loss: 3.2930\n",
      "Epoch 7/14\n",
      "718/718 [==============================] - ETA: 0s - loss: 3.3799Epoch: 006 curr_lr: 4.2e-05 - train_loss: 3.3799 - val_loss: 3.4307 val_score: 0.794  best_val_score: 0.797  last_epoch t=58.88s, total_time_elapsed t=441.0s\n",
      "718/718 [==============================] - 59s 82ms/step - loss: 3.3799 - val_loss: 3.4307\n",
      "Epoch 8/14\n",
      "718/718 [==============================] - ETA: 0s - loss: 3.3518Epoch: 007 curr_lr: 3.7e-05 - train_loss: 3.3518 - val_loss: 3.3386 val_score: 0.790  best_val_score: 0.797  last_epoch t=62.71s, total_time_elapsed t=504.0s\n",
      "718/718 [==============================] - 63s 87ms/step - loss: 3.3518 - val_loss: 3.3386\n",
      "Epoch 9/14\n",
      "718/718 [==============================] - ETA: 0s - loss: 3.3189Epoch: 008 curr_lr: 3.4e-05 - train_loss: 3.3189 - val_loss: 3.2885 val_score: 0.800  best_val_score: 0.800  last_epoch t=65.33s, total_time_elapsed t=569.0s\n",
      "718/718 [==============================] - 65s 91ms/step - loss: 3.3189 - val_loss: 3.2885\n",
      "Epoch 10/14\n",
      "718/718 [==============================] - ETA: 0s - loss: 3.3008Epoch: 009 curr_lr: 3.0e-05 - train_loss: 3.3008 - val_loss: 3.2264 val_score: 0.808  best_val_score: 0.808  last_epoch t=62.05s, total_time_elapsed t=631.0s\n",
      "718/718 [==============================] - 62s 86ms/step - loss: 3.3008 - val_loss: 3.2264\n",
      "Epoch 11/14\n",
      "718/718 [==============================] - ETA: 0s - loss: 3.2845Epoch: 010 curr_lr: 2.7e-05 - train_loss: 3.2845 - val_loss: 3.2403 val_score: 0.806  best_val_score: 0.808  last_epoch t=59.61s, total_time_elapsed t=691.0s\n",
      "718/718 [==============================] - 60s 83ms/step - loss: 3.2845 - val_loss: 3.2403\n",
      "Epoch 12/14\n",
      "718/718 [==============================] - ETA: 0s - loss: 3.2794Epoch: 011 curr_lr: 2.5e-05 - train_loss: 3.2794 - val_loss: 3.3644 val_score: 0.799  best_val_score: 0.808  last_epoch t=62.39s, total_time_elapsed t=753.0s\n",
      "718/718 [==============================] - 62s 87ms/step - loss: 3.2794 - val_loss: 3.3644\n",
      "Epoch 13/14\n",
      "718/718 [==============================] - ETA: 0s - loss: 3.2570Epoch: 012 curr_lr: 2.2e-05 - train_loss: 3.2570 - val_loss: 3.2576 val_score: 0.798  best_val_score: 0.808  last_epoch t=61.63s, total_time_elapsed t=815.0s\n",
      "718/718 [==============================] - 62s 86ms/step - loss: 3.2570 - val_loss: 3.2576\n",
      "Epoch 14/14\n",
      "718/718 [==============================] - ETA: 0s - loss: 3.2345Epoch: 013 curr_lr: 2.0e-05 - train_loss: 3.2345 - val_loss: 3.3544 val_score: 0.791  best_val_score: 0.808  last_epoch t=61.60s, total_time_elapsed t=877.0s\n",
      "718/718 [==============================] - 62s 86ms/step - loss: 3.2345 - val_loss: 3.3544\n",
      "Model finished with val loss: 3.354443311691284\n",
      "46/46 [==============================] - 5s 54ms/step\n",
      "Val Score: 0.8081756201817432\n",
      "WARNING:tensorflow:Compiled the loaded model, but the compiled metrics have yet to be built. `model.compile_metrics` will be empty until you train or evaluate the model.\n"
     ]
    },
    {
     "name": "stderr",
     "output_type": "stream",
     "text": [
      "100%|██████████| 529/529 [00:05<00:00, 100.78it/s]\n"
     ]
    },
    {
     "name": "stdout",
     "output_type": "stream",
     "text": [
      "\n",
      "\n",
      "\n",
      "-----------Starting fold: 1-----------\n",
      "\n",
      "\n",
      "\n",
      "Using 211 series for training and 53 series for validation\n",
      "Using a split len of 17280\n"
     ]
    },
    {
     "name": "stderr",
     "output_type": "stream",
     "text": [
      "100%|██████████| 211/211 [00:10<00:00, 20.38it/s]\n"
     ]
    },
    {
     "name": "stdout",
     "output_type": "stream",
     "text": [
      "X: (5831, 17280, 32), y: (5831, 17280, 2), series_ids: (5831,)\n",
      "Using a split len of 17280\n"
     ]
    },
    {
     "name": "stderr",
     "output_type": "stream",
     "text": [
      "100%|██████████| 53/53 [00:01<00:00, 40.71it/s]\n"
     ]
    },
    {
     "name": "stdout",
     "output_type": "stream",
     "text": [
      "X: (1373, 17280, 32), y: (1373, 17280, 2), series_ids: (1373,)\n",
      "Total model parameters: 35792652\n",
      "Epoch 1/14\n",
      "729/729 [==============================] - ETA: 0s - loss: 4.2703Epoch: 000 curr_lr: 6.0e-05 - train_loss: 4.2703 - val_loss: 3.9469 val_score: 0.786  best_val_score: 0.786  last_epoch t=71.97s, total_time_elapsed t=72.0s\n",
      "729/729 [==============================] - 72s 90ms/step - loss: 4.2703 - val_loss: 3.9469\n",
      "Epoch 2/14\n",
      "729/729 [==============================] - ETA: 0s - loss: 3.5914Epoch: 001 curr_lr: 6.0e-05 - train_loss: 3.5914 - val_loss: 3.7166 val_score: 0.810  best_val_score: 0.810  last_epoch t=61.01s, total_time_elapsed t=133.0s\n",
      "729/729 [==============================] - 61s 84ms/step - loss: 3.5914 - val_loss: 3.7166\n",
      "Epoch 3/14\n",
      "729/729 [==============================] - ETA: 0s - loss: 3.4931Epoch: 002 curr_lr: 6.0e-05 - train_loss: 3.4931 - val_loss: 3.9475 val_score: 0.793  best_val_score: 0.810  last_epoch t=59.32s, total_time_elapsed t=192.0s\n",
      "729/729 [==============================] - 59s 81ms/step - loss: 3.4931 - val_loss: 3.9475\n",
      "Epoch 4/14\n",
      "729/729 [==============================] - ETA: 0s - loss: 3.4304Epoch: 003 curr_lr: 5.7e-05 - train_loss: 3.4304 - val_loss: 3.6782 val_score: 0.793  best_val_score: 0.810  last_epoch t=58.84s, total_time_elapsed t=251.0s\n",
      "729/729 [==============================] - 59s 81ms/step - loss: 3.4304 - val_loss: 3.6782\n",
      "Epoch 5/14\n",
      "729/729 [==============================] - ETA: 0s - loss: 3.3555Epoch: 004 curr_lr: 5.1e-05 - train_loss: 3.3555 - val_loss: 3.6650 val_score: 0.812  best_val_score: 0.812  last_epoch t=63.69s, total_time_elapsed t=315.0s\n",
      "729/729 [==============================] - 64s 87ms/step - loss: 3.3555 - val_loss: 3.6650\n",
      "Epoch 6/14\n",
      "729/729 [==============================] - ETA: 0s - loss: 3.3535Epoch: 005 curr_lr: 4.6e-05 - train_loss: 3.3535 - val_loss: 3.5904 val_score: 0.807  best_val_score: 0.812  last_epoch t=58.27s, total_time_elapsed t=373.0s\n",
      "729/729 [==============================] - 58s 80ms/step - loss: 3.3535 - val_loss: 3.5904\n",
      "Epoch 7/14\n",
      "729/729 [==============================] - ETA: 0s - loss: 3.2913Epoch: 006 curr_lr: 4.2e-05 - train_loss: 3.2913 - val_loss: 3.5483 val_score: 0.815  best_val_score: 0.815  last_epoch t=63.00s, total_time_elapsed t=436.0s\n",
      "729/729 [==============================] - 63s 86ms/step - loss: 3.2913 - val_loss: 3.5483\n",
      "Epoch 8/14\n",
      "729/729 [==============================] - ETA: 0s - loss: 3.2647Epoch: 007 curr_lr: 3.7e-05 - train_loss: 3.2647 - val_loss: 3.6709 val_score: 0.813  best_val_score: 0.815  last_epoch t=58.95s, total_time_elapsed t=495.0s\n",
      "729/729 [==============================] - 59s 81ms/step - loss: 3.2647 - val_loss: 3.6709\n",
      "Epoch 9/14\n",
      "729/729 [==============================] - ETA: 0s - loss: 3.2482Epoch: 008 curr_lr: 3.4e-05 - train_loss: 3.2482 - val_loss: 3.5627 val_score: 0.821  best_val_score: 0.821  last_epoch t=63.10s, total_time_elapsed t=558.0s\n",
      "729/729 [==============================] - 63s 87ms/step - loss: 3.2482 - val_loss: 3.5627\n",
      "Epoch 10/14\n",
      "729/729 [==============================] - ETA: 0s - loss: 3.2278Epoch: 009 curr_lr: 3.0e-05 - train_loss: 3.2278 - val_loss: 3.5433 val_score: 0.822  best_val_score: 0.822  last_epoch t=60.81s, total_time_elapsed t=619.0s\n",
      "729/729 [==============================] - 61s 83ms/step - loss: 3.2278 - val_loss: 3.5433\n",
      "Epoch 11/14\n",
      "729/729 [==============================] - ETA: 0s - loss: 3.2079Epoch: 010 curr_lr: 2.7e-05 - train_loss: 3.2079 - val_loss: 3.5919 val_score: 0.819  best_val_score: 0.822  last_epoch t=58.41s, total_time_elapsed t=677.0s\n",
      "729/729 [==============================] - 58s 80ms/step - loss: 3.2079 - val_loss: 3.5919\n",
      "Epoch 12/14\n",
      "729/729 [==============================] - ETA: 0s - loss: 3.1969Epoch: 011 curr_lr: 2.5e-05 - train_loss: 3.1969 - val_loss: 3.5839 val_score: 0.817  best_val_score: 0.822  last_epoch t=60.69s, total_time_elapsed t=738.0s\n",
      "729/729 [==============================] - 61s 83ms/step - loss: 3.1969 - val_loss: 3.5839\n",
      "Epoch 13/14\n",
      "729/729 [==============================] - ETA: 0s - loss: 3.1740Epoch: 012 curr_lr: 2.2e-05 - train_loss: 3.1740 - val_loss: 3.6240 val_score: 0.824  best_val_score: 0.824  last_epoch t=63.93s, total_time_elapsed t=802.0s\n",
      "729/729 [==============================] - 64s 88ms/step - loss: 3.1740 - val_loss: 3.6240\n",
      "Epoch 14/14\n",
      "729/729 [==============================] - ETA: 0s - loss: 3.1629Epoch: 013 curr_lr: 2.0e-05 - train_loss: 3.1629 - val_loss: 3.5610 val_score: 0.820  best_val_score: 0.824  last_epoch t=58.66s, total_time_elapsed t=861.0s\n",
      "729/729 [==============================] - 59s 80ms/step - loss: 3.1629 - val_loss: 3.5610\n",
      "Model finished with val loss: 3.5610404014587402\n",
      "43/43 [==============================] - 4s 60ms/step\n",
      "Val Score: 0.823502501880517\n",
      "WARNING:tensorflow:Compiled the loaded model, but the compiled metrics have yet to be built. `model.compile_metrics` will be empty until you train or evaluate the model.\n"
     ]
    },
    {
     "name": "stderr",
     "output_type": "stream",
     "text": [
      "100%|██████████| 529/529 [00:03<00:00, 154.61it/s]\n"
     ]
    },
    {
     "name": "stdout",
     "output_type": "stream",
     "text": [
      "\n",
      "\n",
      "\n",
      "-----------Starting fold: 3-----------\n",
      "\n",
      "\n",
      "\n",
      "Using 211 series for training and 53 series for validation\n",
      "Using a split len of 17280\n"
     ]
    },
    {
     "name": "stderr",
     "output_type": "stream",
     "text": [
      "100%|██████████| 211/211 [00:08<00:00, 24.24it/s]\n"
     ]
    },
    {
     "name": "stdout",
     "output_type": "stream",
     "text": [
      "X: (5778, 17280, 32), y: (5778, 17280, 2), series_ids: (5778,)\n",
      "Using a split len of 17280\n"
     ]
    },
    {
     "name": "stderr",
     "output_type": "stream",
     "text": [
      "100%|██████████| 53/53 [00:01<00:00, 32.21it/s]\n"
     ]
    },
    {
     "name": "stdout",
     "output_type": "stream",
     "text": [
      "X: (1426, 17280, 32), y: (1426, 17280, 2), series_ids: (1426,)\n",
      "Total model parameters: 35792652\n",
      "Epoch 1/14\n",
      "723/723 [==============================] - ETA: 0s - loss: 4.4906Epoch: 000 curr_lr: 6.0e-05 - train_loss: 4.4906 - val_loss: 3.8097 val_score: 0.748  best_val_score: 0.748  last_epoch t=76.74s, total_time_elapsed t=77.0s\n",
      "723/723 [==============================] - 77s 98ms/step - loss: 4.4906 - val_loss: 3.8097\n",
      "Epoch 2/14\n",
      "722/723 [============================>.] - ETA: 0s - loss: 3.6765Epoch: 001 curr_lr: 6.0e-05 - train_loss: 3.6758 - val_loss: 3.5728 val_score: 0.784  best_val_score: 0.784  last_epoch t=63.71s, total_time_elapsed t=140.0s\n",
      "723/723 [==============================] - 64s 88ms/step - loss: 3.6758 - val_loss: 3.5728\n",
      "Epoch 3/14\n",
      "722/723 [============================>.] - ETA: 0s - loss: 3.5761Epoch: 002 curr_lr: 6.0e-05 - train_loss: 3.5765 - val_loss: 3.7460 val_score: 0.786  best_val_score: 0.786  last_epoch t=64.11s, total_time_elapsed t=205.0s\n",
      "723/723 [==============================] - 64s 89ms/step - loss: 3.5765 - val_loss: 3.7460\n",
      "Epoch 4/14\n",
      "722/723 [============================>.] - ETA: 0s - loss: 3.5035Epoch: 003 curr_lr: 5.7e-05 - train_loss: 3.5041 - val_loss: 3.5233 val_score: 0.798  best_val_score: 0.798  last_epoch t=62.75s, total_time_elapsed t=267.0s\n",
      "723/723 [==============================] - 63s 87ms/step - loss: 3.5041 - val_loss: 3.5233\n",
      "Epoch 5/14\n",
      "723/723 [==============================] - ETA: 0s - loss: 3.4549Epoch: 004 curr_lr: 5.1e-05 - train_loss: 3.4549 - val_loss: 3.5436 val_score: 0.788  best_val_score: 0.798  last_epoch t=61.32s, total_time_elapsed t=329.0s\n",
      "723/723 [==============================] - 61s 85ms/step - loss: 3.4549 - val_loss: 3.5436\n",
      "Epoch 6/14\n",
      "723/723 [==============================] - ETA: 0s - loss: 3.4076Epoch: 005 curr_lr: 4.6e-05 - train_loss: 3.4076 - val_loss: 3.4394 val_score: 0.815  best_val_score: 0.815  last_epoch t=62.90s, total_time_elapsed t=392.0s\n",
      "723/723 [==============================] - 63s 87ms/step - loss: 3.4076 - val_loss: 3.4394\n",
      "Epoch 7/14\n",
      "723/723 [==============================] - ETA: 0s - loss: 3.3734Epoch: 006 curr_lr: 4.2e-05 - train_loss: 3.3734 - val_loss: 3.3721 val_score: 0.818  best_val_score: 0.818  last_epoch t=63.23s, total_time_elapsed t=455.0s\n",
      "723/723 [==============================] - 63s 88ms/step - loss: 3.3734 - val_loss: 3.3721\n",
      "Epoch 8/14\n",
      "723/723 [==============================] - ETA: 0s - loss: 3.3490Epoch: 007 curr_lr: 3.7e-05 - train_loss: 3.3490 - val_loss: 3.4317 val_score: 0.808  best_val_score: 0.818  last_epoch t=62.19s, total_time_elapsed t=517.0s\n",
      "723/723 [==============================] - 62s 86ms/step - loss: 3.3490 - val_loss: 3.4317\n",
      "Epoch 9/14\n",
      "722/723 [============================>.] - ETA: 0s - loss: 3.3097Epoch: 008 curr_lr: 3.4e-05 - train_loss: 3.3098 - val_loss: 3.3575 val_score: 0.821  best_val_score: 0.821  last_epoch t=63.93s, total_time_elapsed t=581.0s\n",
      "723/723 [==============================] - 64s 88ms/step - loss: 3.3098 - val_loss: 3.3575\n",
      "Epoch 10/14\n",
      "723/723 [==============================] - ETA: 0s - loss: 3.2892Epoch: 009 curr_lr: 3.0e-05 - train_loss: 3.2892 - val_loss: 3.3643 val_score: 0.822  best_val_score: 0.822  last_epoch t=63.82s, total_time_elapsed t=645.0s\n",
      "723/723 [==============================] - 64s 88ms/step - loss: 3.2892 - val_loss: 3.3643\n",
      "Epoch 11/14\n",
      "723/723 [==============================] - ETA: 0s - loss: 3.2628Epoch: 010 curr_lr: 2.7e-05 - train_loss: 3.2628 - val_loss: 3.3488 val_score: 0.821  best_val_score: 0.822  last_epoch t=62.08s, total_time_elapsed t=707.0s\n",
      "723/723 [==============================] - 62s 86ms/step - loss: 3.2628 - val_loss: 3.3488\n",
      "Epoch 12/14\n",
      "722/723 [============================>.] - ETA: 0s - loss: 3.2575Epoch: 011 curr_lr: 2.5e-05 - train_loss: 3.2571 - val_loss: 3.3316 val_score: 0.822  best_val_score: 0.822  last_epoch t=62.82s, total_time_elapsed t=770.0s\n",
      "723/723 [==============================] - 63s 87ms/step - loss: 3.2571 - val_loss: 3.3316\n",
      "Epoch 13/14\n",
      "723/723 [==============================] - ETA: 0s - loss: 3.2485Epoch: 012 curr_lr: 2.2e-05 - train_loss: 3.2485 - val_loss: 3.3130 val_score: 0.824  best_val_score: 0.824  last_epoch t=64.89s, total_time_elapsed t=835.0s\n",
      "723/723 [==============================] - 65s 90ms/step - loss: 3.2485 - val_loss: 3.3130\n",
      "Epoch 14/14\n",
      "722/723 [============================>.] - ETA: 0s - loss: 3.2286Epoch: 013 curr_lr: 2.0e-05 - train_loss: 3.2301 - val_loss: 3.4164 val_score: 0.816  best_val_score: 0.824  last_epoch t=62.14s, total_time_elapsed t=897.0s\n",
      "723/723 [==============================] - 62s 86ms/step - loss: 3.2301 - val_loss: 3.4164\n",
      "Model finished with val loss: 3.416410446166992\n",
      "45/45 [==============================] - 6s 54ms/step\n",
      "Val Score: 0.8238811262484698\n",
      "WARNING:tensorflow:Compiled the loaded model, but the compiled metrics have yet to be built. `model.compile_metrics` will be empty until you train or evaluate the model.\n"
     ]
    },
    {
     "name": "stderr",
     "output_type": "stream",
     "text": [
      "100%|██████████| 529/529 [00:04<00:00, 106.74it/s]\n"
     ]
    },
    {
     "name": "stdout",
     "output_type": "stream",
     "text": [
      "\n",
      "\n",
      "\n",
      "-----------Starting fold: 4-----------\n",
      "\n",
      "\n",
      "\n",
      "Using 211 series for training and 53 series for validation\n",
      "Using a split len of 17280\n"
     ]
    },
    {
     "name": "stderr",
     "output_type": "stream",
     "text": [
      "100%|██████████| 211/211 [00:08<00:00, 24.77it/s]\n"
     ]
    },
    {
     "name": "stdout",
     "output_type": "stream",
     "text": [
      "X: (5820, 17280, 32), y: (5820, 17280, 2), series_ids: (5820,)\n",
      "Using a split len of 17280\n"
     ]
    },
    {
     "name": "stderr",
     "output_type": "stream",
     "text": [
      "100%|██████████| 53/53 [00:01<00:00, 34.85it/s]\n"
     ]
    },
    {
     "name": "stdout",
     "output_type": "stream",
     "text": [
      "X: (1384, 17280, 32), y: (1384, 17280, 2), series_ids: (1384,)\n",
      "Total model parameters: 35792652\n",
      "Epoch 1/14\n",
      "728/728 [==============================] - ETA: 0s - loss: 4.3513Epoch: 000 curr_lr: 6.0e-05 - train_loss: 4.3513 - val_loss: 3.8239 val_score: 0.764  best_val_score: 0.764  last_epoch t=74.24s, total_time_elapsed t=74.0s\n",
      "728/728 [==============================] - 74s 94ms/step - loss: 4.3513 - val_loss: 3.8239\n",
      "Epoch 2/14\n",
      "728/728 [==============================] - ETA: 0s - loss: 3.6691Epoch: 001 curr_lr: 6.0e-05 - train_loss: 3.6691 - val_loss: 3.7467 val_score: 0.792  best_val_score: 0.792  last_epoch t=62.40s, total_time_elapsed t=137.0s\n",
      "728/728 [==============================] - 62s 86ms/step - loss: 3.6691 - val_loss: 3.7467\n",
      "Epoch 3/14\n",
      "728/728 [==============================] - ETA: 0s - loss: 3.5306Epoch: 002 curr_lr: 6.0e-05 - train_loss: 3.5306 - val_loss: 3.6201 val_score: 0.793  best_val_score: 0.793  last_epoch t=63.14s, total_time_elapsed t=200.0s\n",
      "728/728 [==============================] - 63s 87ms/step - loss: 3.5306 - val_loss: 3.6201\n",
      "Epoch 4/14\n",
      "728/728 [==============================] - ETA: 0s - loss: 3.4921Epoch: 003 curr_lr: 5.7e-05 - train_loss: 3.4921 - val_loss: 3.6033 val_score: 0.797  best_val_score: 0.797  last_epoch t=62.90s, total_time_elapsed t=263.0s\n",
      "728/728 [==============================] - 63s 86ms/step - loss: 3.4921 - val_loss: 3.6033\n",
      "Epoch 5/14\n",
      "727/728 [============================>.] - ETA: 0s - loss: 3.4243Epoch: 004 curr_lr: 5.1e-05 - train_loss: 3.4252 - val_loss: 3.5611 val_score: 0.804  best_val_score: 0.804  last_epoch t=62.66s, total_time_elapsed t=325.0s\n",
      "728/728 [==============================] - 63s 86ms/step - loss: 3.4252 - val_loss: 3.5611\n",
      "Epoch 6/14\n",
      "728/728 [==============================] - ETA: 0s - loss: 3.3720Epoch: 005 curr_lr: 4.6e-05 - train_loss: 3.3720 - val_loss: 3.4848 val_score: 0.807  best_val_score: 0.807  last_epoch t=63.14s, total_time_elapsed t=388.0s\n",
      "728/728 [==============================] - 63s 87ms/step - loss: 3.3720 - val_loss: 3.4848\n",
      "Epoch 7/14\n",
      "727/728 [============================>.] - ETA: 0s - loss: 3.3553Epoch: 006 curr_lr: 4.2e-05 - train_loss: 3.3564 - val_loss: 3.5293 val_score: 0.799  best_val_score: 0.807  last_epoch t=60.76s, total_time_elapsed t=449.0s\n",
      "728/728 [==============================] - 61s 83ms/step - loss: 3.3564 - val_loss: 3.5293\n",
      "Epoch 8/14\n",
      "728/728 [==============================] - ETA: 0s - loss: 3.3104Epoch: 007 curr_lr: 3.7e-05 - train_loss: 3.3104 - val_loss: 3.4593 val_score: 0.804  best_val_score: 0.807  last_epoch t=60.81s, total_time_elapsed t=510.0s\n",
      "728/728 [==============================] - 61s 84ms/step - loss: 3.3104 - val_loss: 3.4593\n",
      "Epoch 9/14\n",
      "728/728 [==============================] - ETA: 0s - loss: 3.2988Epoch: 008 curr_lr: 3.4e-05 - train_loss: 3.2988 - val_loss: 3.6007 val_score: 0.802  best_val_score: 0.807  last_epoch t=59.58s, total_time_elapsed t=570.0s\n",
      "728/728 [==============================] - 60s 82ms/step - loss: 3.2988 - val_loss: 3.6007\n",
      "Epoch 10/14\n",
      "727/728 [============================>.] - ETA: 0s - loss: 3.2644Epoch: 009 curr_lr: 3.0e-05 - train_loss: 3.2653 - val_loss: 3.5177 val_score: 0.808  best_val_score: 0.808  last_epoch t=63.37s, total_time_elapsed t=633.0s\n",
      "728/728 [==============================] - 63s 87ms/step - loss: 3.2653 - val_loss: 3.5177\n",
      "Epoch 11/14\n",
      "728/728 [==============================] - ETA: 0s - loss: 3.2516Epoch: 010 curr_lr: 2.7e-05 - train_loss: 3.2516 - val_loss: 3.4933 val_score: 0.809  best_val_score: 0.809  last_epoch t=62.11s, total_time_elapsed t=695.0s\n",
      "728/728 [==============================] - 62s 85ms/step - loss: 3.2516 - val_loss: 3.4933\n",
      "Epoch 12/14\n",
      "728/728 [==============================] - ETA: 0s - loss: 3.2303Epoch: 011 curr_lr: 2.5e-05 - train_loss: 3.2303 - val_loss: 3.5626 val_score: 0.812  best_val_score: 0.812  last_epoch t=62.20s, total_time_elapsed t=757.0s\n",
      "728/728 [==============================] - 62s 85ms/step - loss: 3.2303 - val_loss: 3.5626\n",
      "Epoch 13/14\n",
      "728/728 [==============================] - ETA: 0s - loss: 3.2225Epoch: 012 curr_lr: 2.2e-05 - train_loss: 3.2225 - val_loss: 3.5090 val_score: 0.806  best_val_score: 0.812  last_epoch t=60.17s, total_time_elapsed t=818.0s\n",
      "728/728 [==============================] - 60s 83ms/step - loss: 3.2225 - val_loss: 3.5090\n",
      "Epoch 14/14\n",
      "728/728 [==============================] - ETA: 0s - loss: 3.2132Epoch: 013 curr_lr: 2.0e-05 - train_loss: 3.2132 - val_loss: 3.5162 val_score: 0.812  best_val_score: 0.812  last_epoch t=60.82s, total_time_elapsed t=878.0s\n",
      "728/728 [==============================] - 61s 84ms/step - loss: 3.2132 - val_loss: 3.5162\n",
      "Model finished with val loss: 3.5161869525909424\n",
      "44/44 [==============================] - 6s 60ms/step\n",
      "Val Score: 0.8123507485248058\n",
      "WARNING:tensorflow:Compiled the loaded model, but the compiled metrics have yet to be built. `model.compile_metrics` will be empty until you train or evaluate the model.\n"
     ]
    },
    {
     "name": "stderr",
     "output_type": "stream",
     "text": [
      "100%|██████████| 529/529 [00:04<00:00, 108.24it/s]\n"
     ]
    },
    {
     "name": "stdout",
     "output_type": "stream",
     "text": [
      "\n",
      "\n",
      "\n",
      "-----------Starting fold: 5-----------\n",
      "\n",
      "\n",
      "\n",
      "Using 212 series for training and 52 series for validation\n",
      "Using a split len of 17280\n"
     ]
    },
    {
     "name": "stderr",
     "output_type": "stream",
     "text": [
      "100%|██████████| 212/212 [00:08<00:00, 26.11it/s]\n"
     ]
    },
    {
     "name": "stdout",
     "output_type": "stream",
     "text": [
      "X: (5645, 17280, 32), y: (5645, 17280, 2), series_ids: (5645,)\n",
      "Using a split len of 17280\n"
     ]
    },
    {
     "name": "stderr",
     "output_type": "stream",
     "text": [
      "100%|██████████| 52/52 [00:01<00:00, 29.16it/s]\n"
     ]
    },
    {
     "name": "stdout",
     "output_type": "stream",
     "text": [
      "X: (1559, 17280, 32), y: (1559, 17280, 2), series_ids: (1559,)\n",
      "Total model parameters: 35792652\n",
      "Epoch 1/14\n",
      "706/706 [==============================] - ETA: 0s - loss: 4.4727Epoch: 000 curr_lr: 6.0e-05 - train_loss: 4.4727 - val_loss: 3.6533 val_score: 0.775  best_val_score: 0.775  last_epoch t=78.62s, total_time_elapsed t=79.0s\n",
      "706/706 [==============================] - 79s 103ms/step - loss: 4.4727 - val_loss: 3.6533\n",
      "Epoch 2/14\n",
      "705/706 [============================>.] - ETA: 0s - loss: 3.7218Epoch: 001 curr_lr: 6.0e-05 - train_loss: 3.7217 - val_loss: 3.5463 val_score: 0.778  best_val_score: 0.778  last_epoch t=63.19s, total_time_elapsed t=142.0s\n",
      "706/706 [==============================] - 63s 90ms/step - loss: 3.7217 - val_loss: 3.5463\n",
      "Epoch 3/14\n",
      "705/706 [============================>.] - ETA: 0s - loss: 3.6087Epoch: 002 curr_lr: 6.0e-05 - train_loss: 3.6077 - val_loss: 3.5841 val_score: 0.790  best_val_score: 0.790  last_epoch t=64.83s, total_time_elapsed t=207.0s\n",
      "706/706 [==============================] - 65s 92ms/step - loss: 3.6077 - val_loss: 3.5841\n",
      "Epoch 4/14\n",
      "706/706 [==============================] - ETA: 0s - loss: 3.5168Epoch: 003 curr_lr: 5.7e-05 - train_loss: 3.5168 - val_loss: 3.3857 val_score: 0.804  best_val_score: 0.804  last_epoch t=64.61s, total_time_elapsed t=271.0s\n",
      "706/706 [==============================] - 65s 92ms/step - loss: 3.5168 - val_loss: 3.3857\n",
      "Epoch 5/14\n",
      "706/706 [==============================] - ETA: 0s - loss: 3.4612Epoch: 004 curr_lr: 5.1e-05 - train_loss: 3.4612 - val_loss: 3.2507 val_score: 0.818  best_val_score: 0.818  last_epoch t=65.01s, total_time_elapsed t=336.0s\n",
      "706/706 [==============================] - 65s 92ms/step - loss: 3.4612 - val_loss: 3.2507\n",
      "Epoch 6/14\n",
      "706/706 [==============================] - ETA: 0s - loss: 3.4302Epoch: 005 curr_lr: 4.6e-05 - train_loss: 3.4302 - val_loss: 3.2572 val_score: 0.812  best_val_score: 0.818  last_epoch t=62.63s, total_time_elapsed t=399.0s\n",
      "706/706 [==============================] - 63s 89ms/step - loss: 3.4302 - val_loss: 3.2572\n",
      "Epoch 7/14\n",
      "705/706 [============================>.] - ETA: 0s - loss: 3.3915Epoch: 006 curr_lr: 4.2e-05 - train_loss: 3.3919 - val_loss: 3.3175 val_score: 0.812  best_val_score: 0.818  last_epoch t=61.17s, total_time_elapsed t=460.0s\n",
      "706/706 [==============================] - 61s 87ms/step - loss: 3.3919 - val_loss: 3.3175\n",
      "Epoch 8/14\n",
      "706/706 [==============================] - ETA: 0s - loss: 3.3730Epoch: 007 curr_lr: 3.7e-05 - train_loss: 3.3730 - val_loss: 3.3124 val_score: 0.817  best_val_score: 0.818  last_epoch t=62.91s, total_time_elapsed t=523.0s\n",
      "706/706 [==============================] - 63s 89ms/step - loss: 3.3730 - val_loss: 3.3124\n",
      "Epoch 9/14\n",
      "706/706 [==============================] - ETA: 0s - loss: 3.3292Epoch: 008 curr_lr: 3.4e-05 - train_loss: 3.3292 - val_loss: 3.2376 val_score: 0.822  best_val_score: 0.822  last_epoch t=63.65s, total_time_elapsed t=587.0s\n",
      "706/706 [==============================] - 64s 90ms/step - loss: 3.3292 - val_loss: 3.2376\n",
      "Epoch 10/14\n",
      "705/706 [============================>.] - ETA: 0s - loss: 3.3123Epoch: 009 curr_lr: 3.0e-05 - train_loss: 3.3130 - val_loss: 3.2629 val_score: 0.814  best_val_score: 0.822  last_epoch t=61.58s, total_time_elapsed t=648.0s\n",
      "706/706 [==============================] - 62s 87ms/step - loss: 3.3130 - val_loss: 3.2629\n",
      "Epoch 11/14\n",
      "705/706 [============================>.] - ETA: 0s - loss: 3.3093Epoch: 010 curr_lr: 2.7e-05 - train_loss: 3.3083 - val_loss: 3.5323 val_score: 0.803  best_val_score: 0.822  last_epoch t=61.59s, total_time_elapsed t=710.0s\n",
      "706/706 [==============================] - 62s 87ms/step - loss: 3.3083 - val_loss: 3.5323\n",
      "Epoch 12/14\n",
      "706/706 [==============================] - ETA: 0s - loss: 3.2805Epoch: 011 curr_lr: 2.5e-05 - train_loss: 3.2805 - val_loss: 3.2587 val_score: 0.822  best_val_score: 0.822  last_epoch t=62.15s, total_time_elapsed t=772.0s\n",
      "706/706 [==============================] - 62s 88ms/step - loss: 3.2805 - val_loss: 3.2587\n",
      "Epoch 13/14\n",
      "706/706 [==============================] - ETA: 0s - loss: 3.2738Epoch: 012 curr_lr: 2.2e-05 - train_loss: 3.2738 - val_loss: 3.1992 val_score: 0.818  best_val_score: 0.822  last_epoch t=63.28s, total_time_elapsed t=835.0s\n",
      "706/706 [==============================] - 63s 90ms/step - loss: 3.2738 - val_loss: 3.1992\n",
      "Epoch 14/14\n",
      "706/706 [==============================] - ETA: 0s - loss: 3.2574Epoch: 013 curr_lr: 2.0e-05 - train_loss: 3.2574 - val_loss: 3.2310 val_score: 0.821  best_val_score: 0.822  last_epoch t=62.17s, total_time_elapsed t=897.0s\n",
      "706/706 [==============================] - 62s 88ms/step - loss: 3.2574 - val_loss: 3.2310\n",
      "Model finished with val loss: 3.2310428619384766\n",
      "49/49 [==============================] - 6s 64ms/step\n",
      "Val Score: 0.8216766286875696\n",
      "WARNING:tensorflow:Compiled the loaded model, but the compiled metrics have yet to be built. `model.compile_metrics` will be empty until you train or evaluate the model.\n",
      "Avg val score: 0.8179173251046212 and std val score: 0.0064308798271079425\n"
     ]
    }
   ],
   "source": [
    "n_folds = 5\n",
    "fold_run_order = [2, 1, 3, 4, 5]\n",
    "\n",
    "val_preds_lst = []\n",
    "val_series_lst = []\n",
    "val_starts_splits_lst = []\n",
    "\n",
    "val_y_lst = []\n",
    "models_lst = []\n",
    "val_scores = []\n",
    "\n",
    "model_dct = {}\n",
    "\n",
    "for fold_num in fold_run_order:\n",
    "    \n",
    "    X_s, y_s, series_ids = load_data(cfg.processed_data_path)\n",
    "    \n",
    "\n",
    "    print(f'\\n\\n\\n-----------Starting fold: {fold_num}-----------\\n\\n\\n')\n",
    "    \n",
    "    series_ids_val = splits_df.filter(pl.col(f'{n_folds}_fold') == fold_num)['series_id'].to_numpy()\n",
    "\n",
    "    val_idxs = [series_ids.index(s) for s in series_ids_val]\n",
    "    trn_idxs = np.setdiff1d(np.arange(len(series_ids)), val_idxs)\n",
    "    \n",
    "    print(f'Using {len(trn_idxs)} series for training and {len(val_idxs)} series for validation')\n",
    "\n",
    "    X_s_trn, y_s_trn, series_ids_trn = [X_s[i] for i in trn_idxs], [y_s[i] for i in trn_idxs], [series_ids[i] for i in trn_idxs]\n",
    "    X_s_val, y_s_val, series_ids_val = [X_s[i] for i in val_idxs], [y_s[i] for i in val_idxs], [series_ids[i] for i in val_idxs]\n",
    "\n",
    "    trn_ds = SleepDataset(X_s_trn, y_s_trn, series_ids_trn, cfg.samp_freq, remove_no_dets=False, is_train=True)\n",
    "    norm_params = trn_ds.norm_params\n",
    "    model_dct[fold_num] = norm_params\n",
    "    \n",
    "    val_ds = SleepDataset(X_s_val, y_s_val, series_ids_val, cfg.samp_freq, remove_no_dets=False, is_train=False, norm_params=norm_params)\n",
    "\n",
    "    del X_s_trn, y_s_trn,  X_s_val, y_s_val, series_ids_trn, X_s, y_s, series_ids\n",
    "    _ = gc.collect()\n",
    "\n",
    "\n",
    "    model = get_model(trn_ds.X.shape[1:])\n",
    "    \n",
    "    print(f'Total model parameters: {model.count_params()}')\n",
    "\n",
    "    val_events_df = train_events.filter(pl.col('series_id').is_in(series_ids_val))\n",
    "    inter_eval = IntervalEvaluation(val_ds, val_events_df, cfg.samp_freq, (trn_ds.X.shape[0]//model_cfg.batch_size)*model_cfg.n_epochs, model_cfg.start_lr, model_cfg.end_lr)\n",
    "    \n",
    "    model.fit(trn_ds.X, trn_ds.y,\n",
    "          epochs=model_cfg.n_epochs,\n",
    "          batch_size=model_cfg.batch_size,\n",
    "          callbacks=[inter_eval],\n",
    "          verbose=1,\n",
    "          validation_data=(val_ds.X, val_ds.y))\n",
    "    \n",
    "    \n",
    "    \n",
    "    last_loss = model.history.history['val_loss'][-1]\n",
    "    print(f'Model finished with val loss: {last_loss}')\n",
    "    \n",
    "    model = inter_eval.best_model\n",
    "    val_preds = model.predict(val_ds.X)\n",
    "    \n",
    "    val_score = post_process_preds(val_events_df, val_preds, val_ds.series_ids, val_ds.starts_splits, cfg.samp_freq, get_score=True)\n",
    "    print(f'Val Score: {val_score}')\n",
    "    \n",
    "    val_scores.append(val_score)\n",
    "    \n",
    "    val_y_lst.append(val_ds.y)\n",
    "    val_preds_lst.append(val_preds)\n",
    "    val_series_lst.append(val_ds.series_ids)\n",
    "    val_starts_splits_lst.append(val_ds.starts_splits)\n",
    "    \n",
    "    tf.keras.models.save_model(model, os.path.join(cfg.output_dir, cfg.ver, f'tf_model_fold_{fold_num}.h5'))\n",
    "    \n",
    "    del trn_ds, val_ds, model, inter_eval\n",
    "    _ = gc.collect()\n",
    "\n",
    "avg_val_score, std_val_score = np.mean(val_scores), np.std(val_scores)\n",
    "print(f'Avg val score: {avg_val_score} and std val score: {std_val_score}')"
   ]
  },
  {
   "cell_type": "markdown",
   "id": "ed4bad85",
   "metadata": {},
   "source": [
    "###### series_ids_val"
   ]
  },
  {
   "cell_type": "code",
   "execution_count": 19,
   "id": "7b6461b4",
   "metadata": {},
   "outputs": [
    {
     "name": "stdout",
     "output_type": "stream",
     "text": [
      "(7204, 17280, 2) (7204, 17280, 2) (7204,)\n"
     ]
    }
   ],
   "source": [
    "val_starts_splits_all = np.concatenate(val_starts_splits_lst)\n",
    "val_preds_all = np.concatenate(val_preds_lst)\n",
    "val_series_all = np.concatenate(val_series_lst)\n",
    "val_y_all = np.concatenate(val_y_lst)\n",
    "\n",
    "print(val_preds_all.shape, val_y_all.shape, val_series_all.shape)"
   ]
  },
  {
   "cell_type": "code",
   "execution_count": 20,
   "id": "aca30735",
   "metadata": {},
   "outputs": [
    {
     "name": "stdout",
     "output_type": "stream",
     "text": [
      "(127946340, 5)\n",
      "(122539680, 5)\n",
      "(124485120, 4)\n",
      "(122539680, 4)\n"
     ]
    }
   ],
   "source": [
    "# The code is creating a DataFrame `oof_preds_df` that contains the predicted values for the \"onset\" and \"wakeup\" columns.\n",
    "\n",
    "res_steps = []\n",
    "res_preds_onsets = []\n",
    "res_preds_wakeups = []\n",
    "\n",
    "res_series_ids = []\n",
    "\n",
    "start = 0\n",
    "while start < len(val_preds_all):\n",
    "    \n",
    "    end = start+1\n",
    "    while end < len(val_preds_all) and val_series_all[end] == val_series_all[start]:\n",
    "        end += 1\n",
    "        \n",
    "    preds = val_preds_all[start:end]\n",
    "    \n",
    "    steps = np.concatenate([val_starts_splits_all[idx] + np.arange(len(val_preds_all[idx])) for idx in range(start, end)])\n",
    "    preds = preds.reshape((preds.shape[0]*preds.shape[1]), 2)\n",
    "    \n",
    "    res_preds_onsets.append(preds[:, 0])\n",
    "    res_preds_wakeups.append(preds[:, 1])\n",
    "    \n",
    "    res_steps.append(steps)\n",
    "    ser_id = val_series_all[start]\n",
    "    \n",
    "    res_series_ids.append([ser_id for _ in range(len(preds))])\n",
    "    \n",
    "    start=end\n",
    "    \n",
    "    \n",
    "oof_preds_df = pl.DataFrame().with_columns([\n",
    "    pl.Series(np.concatenate(res_series_ids)).alias('series_id'),\n",
    "    pl.Series(np.concatenate(res_steps)).alias('step'),\n",
    "    pl.Series(np.concatenate(res_preds_onsets)).alias('onset'),\n",
    "    pl.Series(np.concatenate(res_preds_wakeups)).alias('wakeup')\n",
    "\n",
    "])\n",
    "\n",
    "train_series = pl.read_parquet(cfg.train_series_path)\n",
    "print(train_series.shape)\n",
    "train_series = train_series.filter(pl.col('series_id').is_in(list(np.unique(val_series_all))))\n",
    "train_series = train_series.with_columns(pl.col('step').cast(pl.Int64))\n",
    "print(train_series.shape)\n",
    "\n",
    "\n",
    "\n",
    "print(oof_preds_df.shape)\n",
    "oof_preds_df = train_series[['series_id', 'step']].join(oof_preds_df, on=['series_id', 'step'], how='left')\n",
    "print(oof_preds_df.shape)\n",
    "\n",
    "oof_preds_df.write_parquet(os.path.join(cfg.output_dir, cfg.ver, 'oof_preds.parquet'))"
   ]
  },
  {
   "cell_type": "code",
   "execution_count": 21,
   "metadata": {},
   "outputs": [],
   "source": [
    "# !rm -r ../data_processed/{cfg.ver}"
   ]
  },
  {
   "cell_type": "code",
   "execution_count": 22,
   "id": "fd441fc2",
   "metadata": {},
   "outputs": [
    {
     "name": "stdout",
     "output_type": "stream",
     "text": [
      "03d92c9f6f8a\n"
     ]
    },
    {
     "data": {
      "image/png": "[encoded data removed]",
      "text/plain": [
       "<Figure size 640x480 with 1 Axes>"
      ]
     },
     "metadata": {},
     "output_type": "display_data"
    }
   ],
   "source": [
    "i = 2\n",
    "# sid = val_series_all.filter(pl.col())\n",
    "plt.plot(val_y_all[i], label=\"Actual Values\")\n",
    "print(val_series_all[i])\n",
    "\n",
    "plt.plot(val_preds_all[i], label=\"Predicted Values\")\n",
    "\n",
    "\n",
    "plt.legend()\n",
    "plt.show()"
   ]
  },
  {
   "cell_type": "code",
   "execution_count": 23,
   "id": "2708f144",
   "metadata": {},
   "outputs": [],
   "source": [
    "def nms_nikhil(preds_orig, k_orig=150, max_thresh=0.1, max_count=1000):\n",
    "    \n",
    "    preds=preds_orig.copy()\n",
    "    preds = np.convolve(preds, np.array([0.15, 0.7, 0.15]), mode='same')\n",
    "\n",
    "    count = 0\n",
    "    orig_base=8\n",
    "    \n",
    "    k = k_orig\n",
    "    prev_max = None\n",
    "\n",
    "    scores = []\n",
    "    indices = []\n",
    "    \n",
    "    while True:\n",
    "        base = orig_base\n",
    "        \n",
    "        supress_k = 20\n",
    "        curr_max_idx = np.argmax(preds)\n",
    "        curr_max = preds[curr_max_idx] \n",
    "\n",
    "        if curr_max >= 16:\n",
    "            k = 300   \n",
    "            orig_base = 18\n",
    "            supress_k = 20\n",
    "        \n",
    "        elif curr_max >= 15:\n",
    "            k = 250   \n",
    "            orig_base = 15\n",
    "            supress_k = 20\n",
    "        \n",
    "        elif curr_max >= 14:\n",
    "            k = 225\n",
    "            orig_base = 12\n",
    "            supress_k = 20\n",
    "            \n",
    "        elif curr_max >= 12:\n",
    "            k = 210\n",
    "            orig_base = 10\n",
    "            supress_k = 20\n",
    "        \n",
    "        elif curr_max > 10:\n",
    "            k = 190\n",
    "            orig_base = 7\n",
    "        \n",
    "        elif curr_max > 8:\n",
    "            k = 175\n",
    "            orig_base = 6\n",
    "            \n",
    "        elif curr_max > 4:\n",
    "            k = 150\n",
    "            orig_base = 5\n",
    "            \n",
    "        elif curr_max >= 2:\n",
    "            k = 120\n",
    "            orig_base = 4.5\n",
    "            \n",
    "        elif curr_max >= 1:\n",
    "            k = 80\n",
    "            orig_base = 4\n",
    "            \n",
    "        elif curr_max >= 0.2:\n",
    "            k = 40\n",
    "            orig_base = 3\n",
    "        else:\n",
    "            k = 30\n",
    "            orig_base = 2\n",
    "            \n",
    "        if (curr_max < max_thresh) or count > max_count:\n",
    "            break\n",
    "        \n",
    "        indices.append(curr_max_idx)\n",
    "        scores.append(curr_max)\n",
    "        \n",
    "        preds[curr_max_idx] = 0\n",
    "        \n",
    "        supress_rates = np.logspace(start=0, stop=1, num=k, base=base)/base\n",
    "        supress_rates[:supress_k] = 0\n",
    "        # supress_rates[20:] += 0.1\n",
    "\n",
    "        preds[max(curr_max_idx-k, 0):curr_max_idx] *= supress_rates[:min(k, curr_max_idx-0)][::-1]\n",
    "\n",
    "        preds[curr_max_idx+1:min(curr_max_idx+k+1, preds.shape[0])] *= supress_rates[:min(k, preds.shape[0]-curr_max_idx-1)]\n",
    "\n",
    "        prev_max = curr_max\n",
    "        \n",
    "        count += 1\n",
    "        \n",
    "    return indices, scores\n",
    "\n",
    "def get_actual_preds(val_preds, val_series_ids, val_steps, type_):\n",
    "    times = []\n",
    "    series_ids = []\n",
    "    scores = []\n",
    "    scores_y = []\n",
    "    \n",
    "    for i in np.arange(len(val_preds)):\n",
    "        \n",
    "        vp_i = val_preds[i]\n",
    "        ser_id = val_series_ids[i]\n",
    "        \n",
    "        col_index = 0 if type_ == \"onset\" else 1\n",
    "        other_col_index = 1 if type_ == \"onset\" else 0\n",
    "        \n",
    "        preds = vp_i[:, col_index]\n",
    "        preds_other = vp_i[:, other_col_index]\n",
    "\n",
    "        height_thresh = 0.05\n",
    "        \n",
    "        peaks, peak_scores = nms_nikhil(preds)\n",
    "\n",
    "        times.extend(val_steps[i][peaks])\n",
    "        scores.extend(list(peak_scores))\n",
    "        series_ids.extend([ser_id] * len(peaks))\n",
    "\n",
    "    return np.array(series_ids), np.array(times), np.array(scores)\n",
    "\n",
    "\n",
    "\n",
    "\n",
    "def post_process_preds(val_events_df, val_preds, val_series_ids, val_starts_splits, samp_freq, get_score=False):\n",
    "    \n",
    "#     val_steps = np.concatenate([val_starts_splits[idx] + np.arange(len(val_preds[idx])) for idx in range(val_preds.shape[0])])\n",
    "\n",
    "    val_res = []\n",
    "    \n",
    "    prev_ser_id = None\n",
    "    \n",
    "    res_steps = []\n",
    "    res_preds = []\n",
    "    res_series_ids = []\n",
    "    \n",
    "    start = 0\n",
    "    while start < len(val_preds):\n",
    "        \n",
    "        end = start+1\n",
    "        while end < len(val_preds) and val_series_ids[end] == val_series_ids[start]:\n",
    "            end += 1\n",
    "            \n",
    "        preds = val_preds[start:end]\n",
    "        \n",
    "        steps = np.concatenate([val_starts_splits[idx] + np.arange(len(val_preds[idx])) for idx in range(start, end)])\n",
    "        preds = preds.reshape((preds.shape[0]*preds.shape[1]), 2)\n",
    "        \n",
    "        res_preds.append(preds)\n",
    "        res_steps.append(steps)\n",
    "        res_series_ids.append(val_series_ids[start])\n",
    "        \n",
    "        start=end\n",
    "        \n",
    "        \n",
    "#     print(len(res_series_ids), len(res_steps), len(res_preds))\n",
    "\n",
    "    series_ids_onsets, onsets,  scores_onsets = get_actual_preds(res_preds, res_series_ids, res_steps, 'onset')\n",
    "    series_ids_wakeups, wakeups,  scores_wakeups =get_actual_preds(res_preds, res_series_ids, res_steps, 'wakeup')\n",
    "    \n",
    "    \n",
    "    onset_preds = pl.DataFrame().with_columns([pl.Series(series_ids_onsets).alias('series_id'),\n",
    "                                           pl.Series(onsets).cast(pl.Int64).alias('step'),\n",
    "                                           pl.lit('onset').alias('event'),\n",
    "                                           pl.Series(scores_onsets).alias('score')])\n",
    "\n",
    "    wakeup_preds = pl.DataFrame().with_columns([pl.Series(series_ids_wakeups).alias('series_id'),\n",
    "                                               pl.Series(wakeups).cast(pl.Int64).cast(pl.Int64).alias('step'),\n",
    "                                               pl.lit('wakeup').alias('event'),\n",
    "                                               pl.Series(scores_wakeups).alias('score')])\n",
    "    \n",
    "    val_preds_df = pl.concat([onset_preds, wakeup_preds]).sort(by=['series_id', 'step'])\n",
    "    print(val_preds_df.shape, end=' ')\n",
    "    \n",
    "    if get_score:\n",
    "        toleranaces = {'onset': [12, 36, 60, 90, 120, 150, 180, 240, 300, 360],'wakeup': [12, 36, 60, 90, 120, 150, 180, 240, 300, 360]}\n",
    "        comp_score = metric_fast.comp_scorer(\n",
    "        val_events_df,\n",
    "        val_preds_df,\n",
    "        tolerances = toleranaces,\n",
    "        )\n",
    "        return comp_score\n",
    "    \n",
    "    else:\n",
    "        return val_preds_df"
   ]
  },
  {
   "cell_type": "code",
   "execution_count": 24,
   "metadata": {},
   "outputs": [
    {
     "name": "stdout",
     "output_type": "stream",
     "text": [
      "(98191, 4) 0.8090413455380376\n",
      "(103571, 4) 0.8255364502605911\n",
      "(104647, 4) 0.8243587294606393\n",
      "(92868, 4) 0.8148486436146469\n",
      "(102604, 4) 0.824185073542435\n",
      "CPU times: user 1min, sys: 39.9 s, total: 1min 40s\n",
      "Wall time: 1min 39s\n"
     ]
    },
    {
     "data": {
      "text/plain": [
       "(0.81959404848327, 0.0065264115961309295)"
      ]
     },
     "execution_count": 24,
     "metadata": {},
     "output_type": "execute_result"
    }
   ],
   "source": [
    "%%time\n",
    "scores = []\n",
    "\n",
    "for fold_num in range(1, 5+1):\n",
    "    \n",
    "    test_ser_ids = list(np.unique(val_series_lst[fold_num-1]))\n",
    "\n",
    "\n",
    "    val_events_df = train_events.filter(pl.col('series_id').is_in(test_ser_ids))\n",
    "    score = post_process_preds(val_events_df,\n",
    "                               val_preds_lst[fold_num-1],\n",
    "                               val_series_lst[fold_num-1],\n",
    "                               val_starts_splits_lst[fold_num-1],\n",
    "                               cfg.samp_freq,\n",
    "                               get_score=True)\n",
    "    print(score)\n",
    "    scores.append(score)\n",
    "    \n",
    "np.mean(scores), np.std(scores)"
   ]
  },
  {
   "cell_type": "code",
   "execution_count": 25,
   "metadata": {},
   "outputs": [
    {
     "name": "stdout",
     "output_type": "stream",
     "text": [
      "(501881, 4) "
     ]
    }
   ],
   "source": [
    "val_preds_df = post_process_preds(val_events_df, val_preds_all, val_series_all, val_starts_splits_all, cfg.samp_freq, get_score=False)"
   ]
  },
  {
   "cell_type": "code",
   "execution_count": 26,
   "metadata": {},
   "outputs": [],
   "source": [
    "def round_to_nearest_multiple(df, column_name='step'):\n",
    "    df[column_name] = df[column_name].apply(lambda x: x+1 if x%12==0  else x)\n",
    "    return df\n"
   ]
  },
  {
   "cell_type": "code",
   "execution_count": 27,
   "metadata": {},
   "outputs": [],
   "source": [
    "val_preds_df = round_to_nearest_multiple(val_preds_df.to_pandas())\n",
    "val_preds_df = pl.DataFrame(val_preds_df)"
   ]
  },
  {
   "cell_type": "code",
   "execution_count": 28,
   "metadata": {},
   "outputs": [],
   "source": [
    "tolerances = {'onset': [12, 36, 60, 90, 120, 150, 180, 240, 300, 360],\n",
    "               'wakeup': [12, 36, 60, 90, 120, 150, 180, 240, 300, 360]}"
   ]
  },
  {
   "cell_type": "code",
   "execution_count": 29,
   "metadata": {},
   "outputs": [
    {
     "data": {
      "text/plain": [
       "0.8161625023973504"
      ]
     },
     "execution_count": 29,
     "metadata": {},
     "output_type": "execute_result"
    }
   ],
   "source": [
    "metric_fast.comp_scorer(train_events, val_preds_df, tolerances=tolerances)"
   ]
  },
  {
   "cell_type": "code",
   "execution_count": 30,
   "metadata": {},
   "outputs": [
    {
     "data": {
      "text/plain": [
       "(501881, 4)"
      ]
     },
     "execution_count": 30,
     "metadata": {},
     "output_type": "execute_result"
    }
   ],
   "source": [
    "val_preds_df.shape"
   ]
  },
  {
   "cell_type": "code",
   "execution_count": 31,
   "id": "0a2d0d5f",
   "metadata": {},
   "outputs": [
    {
     "name": "stderr",
     "output_type": "stream",
     "text": [
      "  0%|          | 0/52 [00:00<?, ?it/s]"
     ]
    },
    {
     "name": "stderr",
     "output_type": "stream",
     "text": [
      "100%|██████████| 52/52 [00:12<00:00,  4.25it/s]\n"
     ]
    }
   ],
   "source": [
    "preds_partitions  = val_preds_df.partition_by(by=['series_id'], maintain_order=True, as_dict=True)\n",
    "events_partitions  = val_events_df.partition_by(by=['series_id'], maintain_order=True, as_dict=True)\n",
    "\n",
    "tolerances = {'onset': [12, 36, 60, 90, 120, 150, 180, 240, 300, 360],\n",
    "               'wakeup': [12, 36, 60, 90, 120, 150, 180, 240, 300, 360]}\n",
    "\n",
    "scores_dict = {}\n",
    "for ser_id in tqdm(events_partitions.keys()):\n",
    "    scores_dict[ser_id] = metric_fast.comp_scorer(events_partitions[ser_id], preds_partitions[ser_id],\n",
    "                                                  tolerances)\n",
    "    "
   ]
  },
  {
   "cell_type": "code",
   "execution_count": 32,
   "id": "0e6719b1",
   "metadata": {},
   "outputs": [
    {
     "data": {
      "text/plain": [
       "f56824b503a0    0.085576\n",
       "854206f602d0    0.390577\n",
       "703b5efa9bc1    0.567381\n",
       "0a96f4993bd7    0.587142\n",
       "6ca4f4fca6a2    0.616823\n",
       "280e08693c6d    0.648960\n",
       "1762ab70ec76    0.723442\n",
       "cf13ed7e457a    0.725000\n",
       "72bbd1ac3edf    0.764289\n",
       "ccdee561ee5d    0.778035\n",
       "dfc3ccebfdc9    0.808320\n",
       "0402a003dae9    0.808367\n",
       "8b8b9e29171c    0.808392\n",
       "a167532acca2    0.817819\n",
       "038441c925bb    0.817928\n",
       "6bf95a3cf91c    0.818692\n",
       "694faf956ebf    0.827259\n",
       "b84960841a75    0.831605\n",
       "fe90110788d2    0.834450\n",
       "91cb6c98201f    0.843056\n",
       "3d53bfea61d6    0.843383\n",
       "51b23d177971    0.844073\n",
       "483d6545417f    0.849707\n",
       "c38707ef76df    0.866309\n",
       "d2d6b9af0553    0.868193\n",
       "f88e18cb4100    0.868923\n",
       "a81f4472c637    0.881591\n",
       "ce85771a714c    0.886299\n",
       "d150801f3145    0.891119\n",
       "e0d7b0dcf9f3    0.891239\n",
       "ebd76e93ec7d    0.894720\n",
       "8898e6db816d    0.898577\n",
       "b7188813d58a    0.900307\n",
       "062cae666e2a    0.902381\n",
       "91127c2b0e60    0.904921\n",
       "d043c0ca71cd    0.906928\n",
       "18b61dd5aae8    0.908136\n",
       "1955d568d987    0.909878\n",
       "40dce6018935    0.910843\n",
       "72d2234e84e4    0.911787\n",
       "804594bb1f06    0.913989\n",
       "c3072a759efb    0.914286\n",
       "599ca4ed791b    0.916179\n",
       "ce9164297046    0.917364\n",
       "3664fe9233f9    0.919925\n",
       "78569a801a38    0.922540\n",
       "29d3469bd15d    0.925354\n",
       "08db4255286f    0.931322\n",
       "25e2b3dd9c3b    0.933767\n",
       "927dd0c35dfd    0.947846\n",
       "bb5612895813    0.951043\n",
       "76237b9406d5    0.966977\n",
       "dtype: float64"
      ]
     },
     "execution_count": 32,
     "metadata": {},
     "output_type": "execute_result"
    }
   ],
   "source": [
    "pd.Series(scores_dict).sort_values()"
   ]
  },
  {
   "cell_type": "code",
   "execution_count": 33,
   "id": "a8fde599",
   "metadata": {},
   "outputs": [],
   "source": [
    "cfg_attributes_dict = {k: v for k, v in cfg.__dict__.items() if not k.startswith('__') and not callable(v)}\n",
    "joblib.dump(cfg_attributes_dict, os.path.join(cfg.output_dir, cfg.ver, 'cfg.pkl'))\n",
    "joblib.dump(model_dct, os.path.join(cfg.output_dir, cfg.ver, 'model_dct.pkl'))\n",
    "\n",
    "np.save(os.path.join(cfg.output_dir, cfg.ver, 'val_series_all.npy'), val_series_all)\n",
    "\n",
    "\n",
    "val_preds_df.to_pandas().to_csv(os.path.join(cfg.output_dir, cfg.ver, 'val_preds_df.csv'), index=False)\n",
    "\n",
    "np.save(os.path.join(cfg.output_dir, cfg.ver, 'val_preds_all.npy'), val_preds_all)\n",
    "np.save(os.path.join(cfg.output_dir, cfg.ver, 'val_y_all.npy'), val_y_all)"
   ]
  },
  {
   "cell_type": "code",
   "execution_count": 34,
   "id": "56787c7c",
   "metadata": {},
   "outputs": [],
   "source": [
    "import json\n",
    "\n",
    "meta_json = {\n",
    "  \"title\": f\"sleep-model-{cfg.ver}\",\n",
    "  \"id\": f\"nikhilmishradev/sleep-model-{cfg.ver}\",\n",
    "  \"licenses\": [\n",
    "    {\n",
    "      \"name\": \"CC0-1.0\"\n",
    "    }\n",
    "  ]\n",
    "}\n",
    "\n",
    "json.dump(meta_json, open(os.path.join(cfg.output_dir, cfg.ver, 'dataset-metadata.json'), 'w'))"
   ]
  },
  {
   "cell_type": "code",
   "execution_count": 36,
   "id": "5308a572",
   "metadata": {},
   "outputs": [
    {
     "name": "stdout",
     "output_type": "stream",
     "text": [
      "\u001b[33mWARNING: Running pip as the 'root' user can result in broken permissions and conflicting behaviour with the system package manager. It is recommended to use a virtual environment instead: https://pip.pypa.io/warnings/venv\u001b[0m\u001b[33m\n",
      "\u001b[0mWarning: Your Kaggle API key is readable by other users on this system! To fix this, you can run 'chmod 600 /home/.kaggle/kaggle.json'\n",
      "Skipping folder: .ipynb_checkpoints; use '--dir-mode' to upload folders\n",
      "Starting upload for file cfg.pkl\n",
      "100%|███████████████████████████████████████████| 119/119 [00:01<00:00, 59.9B/s]\n",
      "Upload successful: cfg.pkl (119B)\n",
      "Starting upload for file model_dct.pkl\n",
      "100%|████████████████████████████████████████| 1.99k/1.99k [00:02<00:00, 957B/s]\n",
      "Upload successful: model_dct.pkl (2KB)\n",
      "Starting upload for file oof_preds.parquet\n",
      "100%|██████████████████████████████████████| 1.03G/1.03G [00:59<00:00, 18.5MB/s]\n",
      "Upload successful: oof_preds.parquet (1GB)\n",
      "Starting upload for file tf_model_fold_1.h5\n",
      "100%|████████████████████████████████████████| 137M/137M [00:18<00:00, 7.79MB/s]\n",
      "Upload successful: tf_model_fold_1.h5 (137MB)\n",
      "Starting upload for file tf_model_fold_2.h5\n",
      "100%|████████████████████████████████████████| 137M/137M [00:11<00:00, 12.8MB/s]\n",
      "Upload successful: tf_model_fold_2.h5 (137MB)\n",
      "Starting upload for file tf_model_fold_3.h5\n",
      "100%|████████████████████████████████████████| 137M/137M [00:10<00:00, 13.7MB/s]\n",
      "Upload successful: tf_model_fold_3.h5 (137MB)\n",
      "Starting upload for file tf_model_fold_4.h5\n",
      "100%|████████████████████████████████████████| 137M/137M [00:11<00:00, 12.4MB/s]\n",
      "Upload successful: tf_model_fold_4.h5 (137MB)\n",
      "Starting upload for file tf_model_fold_5.h5\n",
      "100%|████████████████████████████████████████| 137M/137M [00:11<00:00, 12.6MB/s]\n",
      "Upload successful: tf_model_fold_5.h5 (137MB)\n",
      "Starting upload for file val_preds_df.csv\n",
      "100%|██████████████████████████████████████| 21.8M/21.8M [00:04<00:00, 4.66MB/s]\n",
      "Upload successful: val_preds_df.csv (22MB)\n",
      "Starting upload for file val_series_all.npy\n",
      "100%|█████████████████████████████████████████| 338k/338k [00:02<00:00, 135kB/s]\n",
      "Upload successful: val_series_all.npy (338KB)\n",
      "Your private Dataset is being created. Please check progress at https://www.kaggle.com/datasets/nikhilmishradev/sleep-model-fm-v15-final\n"
     ]
    }
   ],
   "source": [
    "# !rm -r ../outputs/vx/*\n",
    "# !cp -r {os.path.join(cfg.output_dir, cfg.ver)}/* ../outputs/vx\n",
    "# !rm ../outputs/vx/val_preds_all.npy ../outputs/vx/val_y_all.npy\n",
    "# !pip install -q kaggle\n",
    "# !kaggle datasets create -p ../outputs/vx"
   ]
  },
  {
   "cell_type": "code",
   "execution_count": 37,
   "id": "af417359",
   "metadata": {},
   "outputs": [],
   "source": [
    "np.save(os.path.join(cfg.output_dir, cfg.ver, 'val_preds_all.npy'), val_preds_all)\n",
    "np.save(os.path.join(cfg.output_dir, cfg.ver, 'val_y_all.npy'), val_y_all)"
   ]
  },
  {
   "cell_type": "code",
   "execution_count": 38,
   "metadata": {},
   "outputs": [
    {
     "data": {
      "text/plain": [
       "'fm-v15-final'"
      ]
     },
     "execution_count": 38,
     "metadata": {},
     "output_type": "execute_result"
    }
   ],
   "source": [
    "cfg.ver"
   ]
  },
  {
   "cell_type": "code",
   "execution_count": null,
   "id": "fd043dc2",
   "metadata": {},
   "outputs": [],
   "source": []
  }
 ],
 "metadata": {
  "kernelspec": {
   "display_name": "Python 3 (ipykernel)",
   "language": "python",
   "name": "python3"
  },
  "language_info": {
   "codemirror_mode": {
    "name": "ipython",
    "version": 3
   },
   "file_extension": ".py",
   "mimetype": "text/x-python",
   "name": "python",
   "nbconvert_exporter": "python",
   "pygments_lexer": "ipython3",
   "version": "3.8.10"
  }
 },
 "nbformat": 4,
 "nbformat_minor": 5
}
